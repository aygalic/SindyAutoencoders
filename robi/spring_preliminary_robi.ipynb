{
 "cells": [
  {
   "cell_type": "markdown",
   "id": "43da701e",
   "metadata": {
    "pycharm": {
     "name": "#%% md\n"
    }
   },
   "source": [
    "# Exploring SINDy"
   ]
  },
  {
   "cell_type": "code",
   "execution_count": 1,
   "id": "9c0c0e7b",
   "metadata": {
    "pycharm": {
     "name": "#%%\n"
    }
   },
   "outputs": [],
   "source": [
    "import numpy as np\n",
    "from scipy.integrate import solve_ivp\n",
    "import matplotlib.pyplot as plt\n",
    "#import pysindy as ps"
   ]
  },
  {
   "cell_type": "markdown",
   "id": "6cbb8d6e",
   "metadata": {
    "pycharm": {
     "name": "#%% md\n"
    }
   },
   "source": [
    "### Notes\n",
    "- we can use solve_ivp to generate some trajectories, although i don't know how this scales for 2nd order systems yet\n",
    "- `model.fit` carries out the augmentation and OLS regression -- use this at the latent scale \n",
    "- `model.predict` computes derivatives using estimated SINDy coefs\n",
    "- `model.differentiate` computes first differences to get the derivatives (has knowledge of the time steps)\n",
    "- they probably flattened the image data since it's much easier to compute the network gradients to propogate the actual derivative information through to the latent \n",
    "\n",
    "### Ideas\n",
    "- first generate data flat to screen, then consider in frame rotations, or arial view with movement on diagonal \n",
    "- we could do both approaches for the SINDy AE model; use Legenre polynomials to augment the dimension similar to the Lorenz system, or we could make a movie out of it. \n",
    "    - might be worth exploring both of these options, mainly just to get a baseline to see if it can recover the data when we use a naive augmentation \n",
    "- define the function to generate spring data, return the coefficients used to build it as well so we can compare with SINDy\n",
    "- maybe compare a fully deep approach to SINDy AE in terms of predictive abilities \n",
    "- use a really good feature extractor like VGG or something before the fully connected layers in the autoencoder?"
   ]
  },
  {
   "cell_type": "code",
   "execution_count": 3,
   "id": "080ac0b0",
   "metadata": {
    "pycharm": {
     "name": "#%%\n"
    }
   },
   "outputs": [],
   "source": [
    "#let's see if scipy.integrate works as expected -- generating trajectories \n",
    "dt = .002\n",
    "t = np.arange(0, 5, dt)\n",
    "\n",
    "f = lambda t, y: 0.5*y \n",
    "x0 = np.expand_dims(np.array(1),-1)\n",
    "\n",
    "x_train = solve_ivp(f, \n",
    "                    t_span = (t[0], t[-1]), \n",
    "                    y0 = x0,\n",
    "                    t_eval = t).y.T\n"
   ]
  },
  {
   "cell_type": "code",
   "execution_count": 4,
   "id": "e316e270",
   "metadata": {
    "pycharm": {
     "name": "#%%\n"
    }
   },
   "outputs": [
    {
     "data": {
      "text/plain": [
       "[<matplotlib.lines.Line2D at 0x1260760d0>]"
      ]
     },
     "execution_count": 4,
     "metadata": {},
     "output_type": "execute_result"
    },
    {
     "data": {
      "image/png": "[encoded data removed]",
      "text/plain": [
       "<Figure size 432x288 with 1 Axes>"
      ]
     },
     "metadata": {
      "needs_background": "light"
     },
     "output_type": "display_data"
    }
   ],
   "source": [
    "plt.plot(t, x_train)\n",
    "#plt.plot(t, np.exp(t))\n"
   ]
  },
  {
   "cell_type": "code",
   "execution_count": 5,
   "id": "1b840cb6",
   "metadata": {
    "pycharm": {
     "name": "#%%\n"
    }
   },
   "outputs": [
    {
     "name": "stdout",
     "output_type": "stream",
     "text": [
      "(x0)' = 0.500 x0\n"
     ]
    }
   ],
   "source": [
    "#kinda cool \n",
    "model = ps.SINDy()\n",
    "model.fit(x_train, t=dt)\n",
    "model.print()"
   ]
  },
  {
   "cell_type": "code",
   "execution_count": 6,
   "id": "e22bdf9c",
   "metadata": {
    "pycharm": {
     "name": "#%%\n"
    }
   },
   "outputs": [
    {
     "data": {
      "text/plain": [
       "[<matplotlib.lines.Line2D at 0x1281b20a0>]"
      ]
     },
     "execution_count": 6,
     "metadata": {},
     "output_type": "execute_result"
    },
    {
     "data": {
      "image/png": "[encoded data removed]",
      "text/plain": [
       "<Figure size 432x288 with 1 Axes>"
      ]
     },
     "metadata": {
      "needs_background": "light"
     },
     "output_type": "display_data"
    }
   ],
   "source": [
    "preds = model.predict(x_train) #just finite differences I think \n",
    "real = np.array([f(t,x) for t, x in zip(t,x_train)])\n",
    "\n",
    "plt.plot(t,preds)\n",
    "plt.plot(t,real)"
   ]
  },
  {
   "cell_type": "markdown",
   "id": "06af3744",
   "metadata": {
    "pycharm": {
     "name": "#%% md\n"
    }
   },
   "source": [
    "# Harmonic Oscillator \n",
    "We have the following ODE for a damped harmonic oscilaltor: $x'' + cx' + \\frac{k}{m}x = 0$, where $k$ is **finish this later**\n",
    "\n",
    "\n",
    "### TODO \n",
    "- write some code to turn the positional information into a video frame \n",
    "- look into how image/videos work in python & generate a little vid \n",
    "- understand how they pass the derivative information into the network (pixel by pixel?)"
   ]
  },
  {
   "cell_type": "markdown",
   "id": "761c51db",
   "metadata": {
    "pycharm": {
     "name": "#%% md\n"
    }
   },
   "source": [
    "## 1. generate raw dynamics"
   ]
  },
  {
   "cell_type": "code",
   "execution_count": 8,
   "id": "e94920b3",
   "metadata": {
    "pycharm": {
     "name": "#%%\n"
    }
   },
   "outputs": [],
   "source": [
    "spring_f = lambda t, x, params: [x[1], -params['c']*x[1]-(params['k']/params['m'])*x[0]]\n",
    "\n",
    "dt = .2\n",
    "t = np.arange(0, 20, dt)\n",
    "\n",
    "#vary c to change the damping behaviour \n",
    "params = {'c':0.33, 'm':0.5, 'k':1}\n",
    "\n",
    "x0 = [1, 0]\n",
    "\n",
    "x_train = solve_ivp(lambda t,x: spring_f(t,x,params), \n",
    "                    t_span = (t[0], t[-1]), \n",
    "                    y0 = x0,\n",
    "                    t_eval = t).y.T\n",
    "\n",
    "dx_train = np.array([spring_f(t[j], x_train[j], params) for j in range(len(t))])"
   ]
  },
  {
   "cell_type": "code",
   "execution_count": 12,
   "outputs": [
    {
     "data": {
      "text/plain": "(100, 2)"
     },
     "execution_count": 12,
     "metadata": {},
     "output_type": "execute_result"
    }
   ],
   "source": [
    "dx_train.shape"
   ],
   "metadata": {
    "collapsed": false,
    "pycharm": {
     "name": "#%%\n"
    }
   }
  },
  {
   "cell_type": "code",
   "execution_count": 13,
   "id": "e38b2473",
   "metadata": {
    "pycharm": {
     "name": "#%%\n"
    }
   },
   "outputs": [
    {
     "data": {
      "text/plain": "[<matplotlib.lines.Line2D at 0x169b10111e0>]"
     },
     "execution_count": 13,
     "metadata": {},
     "output_type": "execute_result"
    },
    {
     "data": {
      "text/plain": "<Figure size 640x480 with 1 Axes>",
      "image/png": "[encoded data removed]"
     },
     "metadata": {},
     "output_type": "display_data"
    }
   ],
   "source": [
    "#okay that worked, kinda siiiccckkkk\n",
    "plt.plot(t, dx_train[:,0])"
   ]
  },
  {
   "cell_type": "code",
   "execution_count": 9,
   "id": "c2cf9791",
   "metadata": {
    "pycharm": {
     "name": "#%%\n"
    }
   },
   "outputs": [
    {
     "name": "stdout",
     "output_type": "stream",
     "text": [
      "(x0)' = 0.987 x1\n",
      "(x1)' = -1.984 x0 + -0.323 x1\n"
     ]
    }
   ],
   "source": [
    "#verify that we can recover the data -- we can \n",
    "model = ps.SINDy()\n",
    "model.fit(x_train, t=dt)\n",
    "model.print()"
   ]
  },
  {
   "cell_type": "code",
   "execution_count": 10,
   "id": "714d9254",
   "metadata": {
    "pycharm": {
     "name": "#%%\n"
    }
   },
   "outputs": [
    {
     "data": {
      "text/plain": [
       "['__class__',\n",
       " '__delattr__',\n",
       " '__dict__',\n",
       " '__dir__',\n",
       " '__doc__',\n",
       " '__eq__',\n",
       " '__format__',\n",
       " '__ge__',\n",
       " '__getattribute__',\n",
       " '__getstate__',\n",
       " '__gt__',\n",
       " '__hash__',\n",
       " '__init__',\n",
       " '__init_subclass__',\n",
       " '__le__',\n",
       " '__lt__',\n",
       " '__module__',\n",
       " '__ne__',\n",
       " '__new__',\n",
       " '__reduce__',\n",
       " '__reduce_ex__',\n",
       " '__repr__',\n",
       " '__setattr__',\n",
       " '__setstate__',\n",
       " '__sizeof__',\n",
       " '__str__',\n",
       " '__subclasshook__',\n",
       " '__weakref__',\n",
       " '_check_n_features',\n",
       " '_get_param_names',\n",
       " '_get_tags',\n",
       " '_more_tags',\n",
       " '_process_multiple_trajectories',\n",
       " '_repr_html_',\n",
       " '_repr_html_inner',\n",
       " '_repr_mimebundle_',\n",
       " '_validate_data',\n",
       " 'coefficients',\n",
       " 'complexity',\n",
       " 'differentiate',\n",
       " 'differentiation_method',\n",
       " 'discrete_time',\n",
       " 'ensemble',\n",
       " 'equations',\n",
       " 'feature_library',\n",
       " 'feature_names',\n",
       " 'fit',\n",
       " 'get_feature_names',\n",
       " 'get_params',\n",
       " 'library_ensemble',\n",
       " 'model',\n",
       " 'n_control_features_',\n",
       " 'n_input_features_',\n",
       " 'n_output_features_',\n",
       " 'optimizer',\n",
       " 'predict',\n",
       " 'print',\n",
       " 'score',\n",
       " 'set_params',\n",
       " 'simulate',\n",
       " 't_default']"
      ]
     },
     "execution_count": 10,
     "metadata": {},
     "output_type": "execute_result"
    }
   ],
   "source": [
    "dir(model)"
   ]
  },
  {
   "cell_type": "code",
   "execution_count": 18,
   "id": "40277b9f",
   "metadata": {
    "pycharm": {
     "name": "#%%\n"
    }
   },
   "outputs": [
    {
     "data": {
      "text/plain": [
       "PolynomialLibrary()"
      ]
     },
     "execution_count": 18,
     "metadata": {},
     "output_type": "execute_result"
    }
   ],
   "source": [
    "model.feature_library"
   ]
  },
  {
   "cell_type": "markdown",
   "id": "85eceab4",
   "metadata": {
    "pycharm": {
     "name": "#%% md\n"
    }
   },
   "source": [
    "## 2. Turn dynamics into a movie \n",
    "- they explicitly provide the dynamics, but couldn't we compute them through differencing? My theory is that the discrepancy between the two should shrink as we increase the size of the image.  Just tested it and yea it significantly reduced the error!\n"
   ]
  },
  {
   "cell_type": "code",
   "execution_count": 21,
   "id": "6a104be9",
   "metadata": {
    "pycharm": {
     "name": "#%%\n"
    }
   },
   "outputs": [],
   "source": [
    "def spring_to_movie(x, dt=0.01, dim = 100):\n",
    "    \"\"\"\n",
    "    naive implementation of the function provided in the pendulum example.  in the case where our images are large\n",
    "    the discrepancy between the differencing scheme and the explicit derivatives should be neglibible. \n",
    "    \n",
    "    maybe later we should compute these for realz\n",
    "    \n",
    "    todo:\n",
    "    - explicit derivatives instead of differencing scheme\n",
    "    - scale it up a bit to consider the number of initial conditions we're considering (like they did, batch info tf)\n",
    "    - location and scale params for size and framing of the mass in frame \n",
    "    \"\"\"\n",
    "    \n",
    "    #note the ordering on y (i'm guessing they did it so the top-down convention is reversed)\n",
    "    y1,y2 = np.meshgrid(np.linspace(1.5,-1.5,dim),np.linspace(1.5,-1.5,dim)) \n",
    "    \n",
    "    #defining a guassian over the image centered where our point mass is \n",
    "    create_image = lambda x : np.exp(-((y1 - x)**2 + (y2 - 0)**2)/.05)\n",
    "    \n",
    "    nsamples = x.shape[0]\n",
    "    \n",
    "    z = np.zeros((nsamples, dim, dim))\n",
    "    dz = np.zeros((nsamples, dim, dim))\n",
    "    ddz = np.zeros((nsamples, dim, dim))\n",
    "    \n",
    "    #create images \n",
    "    for i in range(nsamples):\n",
    "        z[i] = create_image(x[i])\n",
    "        \n",
    "    \n",
    "    #generate first derivative (we could easily do this way more efficiently but hey)\n",
    "    #i'm assuming the object starts from rest so that dz|0 = ddz|0 = 0\n",
    "    for i in range(nsamples-2):\n",
    "        dz[i+1] = (z[i+2]-z[i])/(2*dt) #centered differencing\n",
    "    \n",
    "    dz[-1] = -(z[-1]-z[-2])/dt #backwards scheme\n",
    "            \n",
    "        \n",
    "    #second derivatives\n",
    "    ddz[1] = (dz[1]-dz[0])/dt\n",
    "    for i in range(nsamples-3):\n",
    "        ddz[i+2] = (dz[i+3]-dz[i+1])/(2*dt)\n",
    "    \n",
    "    ddz[-1] = -(dz[-1]-dz[-2])/dt    \n",
    "    \n",
    "    return z,dz,ddz\n",
    "\n",
    "def spring_to_movie2(z, dz, n = 100):\n",
    "    #n_ics = z.shape[0]\n",
    "    n_samples = z.shape[0]\n",
    "\n",
    "    y1, y2 = np.meshgrid(np.linspace(-1.5, 1.5, n), np.linspace(1.5, -1.5, n))\n",
    "\n",
    "    # defining a gaussian over the image centered where our point mass is\n",
    "    create_image = lambda x: np.exp(-((y1 - x) ** 2 + (y2 - 0) ** 2) / .05)\n",
    "    d_create_image = lambda x, dx: -1 / .05 * create_image(x) * 2 * (y1 - x) * dx\n",
    "    dd_create_image = lambda x, dx, ddx: (2 / .05) * (d_create_image(x, dx) * (y1 - x) * dx + create_image(x) * (- dx * dx + (y1 - x) * ddx))\n",
    "\n",
    "    x = np.zeros((n_samples, n, n))\n",
    "    dx = np.zeros((n_samples, n, n))\n",
    "    ddx = np.zeros((n_samples, n, n))\n",
    "    for j in range(n_samples):\n",
    "        x[j] = create_image(z[j, 0])\n",
    "        dx[j] = d_create_image(z[j, 0], dz[j, 0])\n",
    "        ddx[j] = dd_create_image(z[j, 0], dz[j, 0], dz[j, 1])\n",
    "    return x, dx, ddx"
   ]
  },
  {
   "cell_type": "code",
   "execution_count": 22,
   "id": "b4fdba76",
   "metadata": {
    "pycharm": {
     "name": "#%%\n"
    }
   },
   "outputs": [],
   "source": [
    "z,dz,ddz = spring_to_movie2(x_train, dx_train)"
   ]
  },
  {
   "cell_type": "code",
   "execution_count": 23,
   "id": "e95db51d",
   "metadata": {
    "pycharm": {
     "name": "#%%\n"
    }
   },
   "outputs": [
    {
     "data": {
      "text/plain": "Text(0.5, 1.0, 'ddz')"
     },
     "execution_count": 23,
     "metadata": {},
     "output_type": "execute_result"
    },
    {
     "data": {
      "text/plain": "<Figure size 1500x500 with 3 Axes>",
      "image/png": "[encoded data removed]"
     },
     "metadata": {},
     "output_type": "display_data"
    }
   ],
   "source": [
    "fig, ax = plt.subplots(1,3, figsize=(15,5))\n",
    "\n",
    "i = 50\n",
    "ax[0].imshow(z[i], cmap = \"gray\")\n",
    "#ax[0].axis('off')\n",
    "ax[0].set_title('z')\n",
    "\n",
    "ax[1].imshow(dz[i], cmap = \"gray\")\n",
    "#ax[1].axis('off')\n",
    "ax[1].set_title('dz')\n",
    "\n",
    "ax[2].imshow(ddz[i], cmap = \"gray\")\n",
    "#ax[2].axis('off')\n",
    "ax[2].set_title('ddz')\n"
   ]
  },
  {
   "cell_type": "code",
   "execution_count": 22,
   "id": "fe9bbe9d",
   "metadata": {
    "pycharm": {
     "name": "#%%\n"
    }
   },
   "outputs": [],
   "source": [
    "#writing the files to the directory takes a little bit of time, consider using fewer imgs \n",
    "import imageio"
   ]
  },
  {
   "cell_type": "code",
   "execution_count": 23,
   "id": "5e78cf22",
   "metadata": {
    "pycharm": {
     "name": "#%%\n"
    }
   },
   "outputs": [],
   "source": [
    "#i think the idea is that we first need to save a bunch of images \n",
    "gif_dir = './gif_src/'\n",
    "for i, f in enumerate(z):\n",
    "    plt.imshow(f, cmap = \"gray\")\n",
    "    plt.axis('off')\n",
    "    plt.savefig(gif_dir+f's{i}')\n",
    "    plt.close()"
   ]
  },
  {
   "cell_type": "code",
   "execution_count": 24,
   "id": "78a56de2",
   "metadata": {
    "scrolled": true,
    "pycharm": {
     "name": "#%%\n"
    }
   },
   "outputs": [
    {
     "data": {
      "text/plain": [
       "['./gif_src/s0.png',\n",
       " './gif_src/s1.png',\n",
       " './gif_src/s2.png',\n",
       " './gif_src/s3.png',\n",
       " './gif_src/s4.png',\n",
       " './gif_src/s5.png',\n",
       " './gif_src/s6.png',\n",
       " './gif_src/s7.png',\n",
       " './gif_src/s8.png',\n",
       " './gif_src/s9.png',\n",
       " './gif_src/s10.png',\n",
       " './gif_src/s11.png',\n",
       " './gif_src/s12.png',\n",
       " './gif_src/s13.png',\n",
       " './gif_src/s14.png',\n",
       " './gif_src/s15.png',\n",
       " './gif_src/s16.png',\n",
       " './gif_src/s17.png',\n",
       " './gif_src/s18.png',\n",
       " './gif_src/s19.png',\n",
       " './gif_src/s20.png',\n",
       " './gif_src/s21.png',\n",
       " './gif_src/s22.png',\n",
       " './gif_src/s23.png',\n",
       " './gif_src/s24.png',\n",
       " './gif_src/s25.png',\n",
       " './gif_src/s26.png',\n",
       " './gif_src/s27.png',\n",
       " './gif_src/s28.png',\n",
       " './gif_src/s29.png',\n",
       " './gif_src/s30.png',\n",
       " './gif_src/s31.png',\n",
       " './gif_src/s32.png',\n",
       " './gif_src/s33.png',\n",
       " './gif_src/s34.png',\n",
       " './gif_src/s35.png',\n",
       " './gif_src/s36.png',\n",
       " './gif_src/s37.png',\n",
       " './gif_src/s38.png',\n",
       " './gif_src/s39.png',\n",
       " './gif_src/s40.png',\n",
       " './gif_src/s41.png',\n",
       " './gif_src/s42.png',\n",
       " './gif_src/s43.png',\n",
       " './gif_src/s44.png',\n",
       " './gif_src/s45.png',\n",
       " './gif_src/s46.png',\n",
       " './gif_src/s47.png',\n",
       " './gif_src/s48.png',\n",
       " './gif_src/s49.png',\n",
       " './gif_src/s50.png',\n",
       " './gif_src/s51.png',\n",
       " './gif_src/s52.png',\n",
       " './gif_src/s53.png',\n",
       " './gif_src/s54.png',\n",
       " './gif_src/s55.png',\n",
       " './gif_src/s56.png',\n",
       " './gif_src/s57.png',\n",
       " './gif_src/s58.png',\n",
       " './gif_src/s59.png',\n",
       " './gif_src/s60.png',\n",
       " './gif_src/s61.png',\n",
       " './gif_src/s62.png',\n",
       " './gif_src/s63.png',\n",
       " './gif_src/s64.png',\n",
       " './gif_src/s65.png',\n",
       " './gif_src/s66.png',\n",
       " './gif_src/s67.png',\n",
       " './gif_src/s68.png',\n",
       " './gif_src/s69.png',\n",
       " './gif_src/s70.png',\n",
       " './gif_src/s71.png',\n",
       " './gif_src/s72.png',\n",
       " './gif_src/s73.png',\n",
       " './gif_src/s74.png',\n",
       " './gif_src/s75.png',\n",
       " './gif_src/s76.png',\n",
       " './gif_src/s77.png',\n",
       " './gif_src/s78.png',\n",
       " './gif_src/s79.png',\n",
       " './gif_src/s80.png',\n",
       " './gif_src/s81.png',\n",
       " './gif_src/s82.png',\n",
       " './gif_src/s83.png',\n",
       " './gif_src/s84.png',\n",
       " './gif_src/s85.png',\n",
       " './gif_src/s86.png',\n",
       " './gif_src/s87.png',\n",
       " './gif_src/s88.png',\n",
       " './gif_src/s89.png',\n",
       " './gif_src/s90.png',\n",
       " './gif_src/s91.png',\n",
       " './gif_src/s92.png',\n",
       " './gif_src/s93.png',\n",
       " './gif_src/s94.png',\n",
       " './gif_src/s95.png',\n",
       " './gif_src/s96.png',\n",
       " './gif_src/s97.png',\n",
       " './gif_src/s98.png',\n",
       " './gif_src/s99.png']"
      ]
     },
     "execution_count": 24,
     "metadata": {},
     "output_type": "execute_result"
    }
   ],
   "source": [
    "import os\n",
    "import re \n",
    "\n",
    "gif_files = [os.path.join(gif_dir, f) for f in os.listdir(gif_dir)]\n",
    "gif_files.sort(key = lambda x: int(re.findall(r'\\d+', x)[0])) #make sure they're sorted \n",
    "gif_files"
   ]
  },
  {
   "cell_type": "code",
   "execution_count": 25,
   "id": "bf25c1cf",
   "metadata": {
    "pycharm": {
     "name": "#%%\n"
    }
   },
   "outputs": [],
   "source": [
    "# build gif\n",
    "with imageio.get_writer('spring1.gif', mode='I') as writer:\n",
    "    for filename in gif_files:\n",
    "        image = imageio.imread(filename)\n",
    "        writer.append_data(image)\n",
    "        \n",
    "# Remove files\n",
    "for filename in gif_files:\n",
    "    os.remove(filename)"
   ]
  },
  {
   "cell_type": "markdown",
   "id": "0c25c466",
   "metadata": {
    "pycharm": {
     "name": "#%% md\n"
    }
   },
   "source": [
    "# Tensorflow stuff\n",
    "- Update: this is making my brain hurt, let's see if we can just use the author's code for this instead \n",
    "- yea the code for this is in the *z_derivative* function of the `autoencoders.py` script"
   ]
  },
  {
   "cell_type": "code",
   "execution_count": 271,
   "id": "3ba0b2a9",
   "metadata": {
    "pycharm": {
     "name": "#%%\n"
    }
   },
   "outputs": [],
   "source": [
    "import tensorflow as tf\n",
    "import tensorflow.keras as tfk"
   ]
  },
  {
   "cell_type": "code",
   "execution_count": 282,
   "id": "aab37175",
   "metadata": {
    "pycharm": {
     "name": "#%%\n"
    }
   },
   "outputs": [
    {
     "name": "stdout",
     "output_type": "stream",
     "text": [
      "Model: \"model_4\"\n",
      "_________________________________________________________________\n",
      " Layer (type)                Output Shape              Param #   \n",
      "=================================================================\n",
      " input_9 (InputLayer)        [(None, 1, 1)]            0         \n",
      "                                                                 \n",
      " dense_9 (Dense)             (None, 1, 2)              4         \n",
      "                                                                 \n",
      " dense_10 (Dense)            (None, 1, 1)              3         \n",
      "                                                                 \n",
      "=================================================================\n",
      "Total params: 7\n",
      "Trainable params: 7\n",
      "Non-trainable params: 0\n",
      "_________________________________________________________________\n"
     ]
    }
   ],
   "source": [
    "#quick model \n",
    "def my_init(shape, dtype=None):\n",
    "    return 1*tf.ones(shape, dtype=dtype)\n",
    "\n",
    "input_layer = tfk.layers.Input(shape=(1,1))\n",
    "hidden = tfk.layers.Dense(units = 2, activation = 'sigmoid', kernel_initializer = my_init)(input_layer)\n",
    "output_layer = tfk.layers.Dense(units = 1, activation = 'sigmoid', kernel_initializer = my_init)(hidden)\n",
    "\n",
    "model = tfk.Model(input_layer, output_layer)\n",
    "model.summary()"
   ]
  },
  {
   "cell_type": "code",
   "execution_count": 283,
   "id": "66a18771",
   "metadata": {
    "pycharm": {
     "name": "#%%\n"
    }
   },
   "outputs": [
    {
     "data": {
      "text/plain": [
       "[<tf.Variable 'dense_9/kernel:0' shape=(1, 2) dtype=float32, numpy=array([[1., 1.]], dtype=float32)>,\n",
       " <tf.Variable 'dense_9/bias:0' shape=(2,) dtype=float32, numpy=array([0., 0.], dtype=float32)>,\n",
       " <tf.Variable 'dense_10/kernel:0' shape=(2, 1) dtype=float32, numpy=\n",
       " array([[1.],\n",
       "        [1.]], dtype=float32)>,\n",
       " <tf.Variable 'dense_10/bias:0' shape=(1,) dtype=float32, numpy=array([0.], dtype=float32)>]"
      ]
     },
     "execution_count": 283,
     "metadata": {},
     "output_type": "execute_result"
    }
   ],
   "source": [
    "model.weights"
   ]
  },
  {
   "cell_type": "code",
   "execution_count": 294,
   "id": "a4c3fe9b",
   "metadata": {
    "pycharm": {
     "name": "#%%\n"
    }
   },
   "outputs": [
    {
     "name": "stdout",
     "output_type": "stream",
     "text": [
      "tf.Tensor([[[0.7310586]]], shape=(1, 1, 1), dtype=float32)\n",
      "0.7310585786300049\n"
     ]
    }
   ],
   "source": [
    "#just making sure the behaviour is right \n",
    "data = tf.constant(0, dtype = float, shape = (1,1))\n",
    "print(model(data))\n",
    "print(1/(1+np.exp(-1)))"
   ]
  },
  {
   "cell_type": "code",
   "execution_count": 393,
   "id": "af554591",
   "metadata": {
    "pycharm": {
     "name": "#%%\n"
    }
   },
   "outputs": [],
   "source": [
    "with tf.GradientTape(persistent=True) as g:\n",
    "    g.watch(data)\n",
    "    \n",
    "    #feedforward ugh\n",
    "    z = data\n",
    "    \n",
    "    activations = []\n",
    "    hidden = [z]\n",
    "    \n",
    "    for i in range(len(model.weights)//2):\n",
    "        z = tf.matmul(z, model.weights[2*i]) + model.weights[2*i+1]\n",
    "        a = tfk.activations.sigmoid(z)\n",
    "        activations.append(a)\n",
    "        hidden.append(z)\n",
    "        a = z"
   ]
  },
  {
   "cell_type": "code",
   "execution_count": 398,
   "id": "035ffb86",
   "metadata": {
    "pycharm": {
     "name": "#%%\n"
    }
   },
   "outputs": [
    {
     "data": {
      "text/plain": [
       "[<tf.Tensor: shape=(1, 1), dtype=float32, numpy=array([[1.]], dtype=float32)>,\n",
       " <tf.Tensor: shape=(1, 2), dtype=float32, numpy=array([[0.5, 0.5]], dtype=float32)>,\n",
       " <tf.Tensor: shape=(1, 1), dtype=float32, numpy=array([[0.25]], dtype=float32)>]"
      ]
     },
     "execution_count": 398,
     "metadata": {},
     "output_type": "execute_result"
    }
   ],
   "source": [
    "g.gradient(activations, hidden)"
   ]
  },
  {
   "cell_type": "code",
   "execution_count": 397,
   "id": "999f427c",
   "metadata": {
    "pycharm": {
     "name": "#%%\n"
    }
   },
   "outputs": [
    {
     "data": {
      "text/plain": [
       "[<tf.Tensor: shape=(1, 2), dtype=float32, numpy=array([[0.5, 0.5]], dtype=float32)>,\n",
       " <tf.Tensor: shape=(1, 1), dtype=float32, numpy=array([[0.5]], dtype=float32)>]"
      ]
     },
     "execution_count": 397,
     "metadata": {},
     "output_type": "execute_result"
    }
   ],
   "source": [
    "activations"
   ]
  },
  {
   "cell_type": "code",
   "execution_count": 392,
   "id": "0764b638",
   "metadata": {
    "pycharm": {
     "name": "#%%\n"
    }
   },
   "outputs": [
    {
     "data": {
      "text/plain": [
       "<tf.Tensor: shape=(1, 2), dtype=float32, numpy=array([[0.5, 0.5]], dtype=float32)>"
      ]
     },
     "execution_count": 392,
     "metadata": {},
     "output_type": "execute_result"
    }
   ],
   "source": [
    "activations[0]"
   ]
  },
  {
   "cell_type": "code",
   "execution_count": null,
   "id": "8ad0c25c",
   "metadata": {
    "pycharm": {
     "name": "#%%\n"
    }
   },
   "outputs": [],
   "source": []
  }
 ],
 "metadata": {
  "kernelspec": {
   "display_name": "Python 3",
   "language": "python",
   "name": "python3"
  },
  "language_info": {
   "codemirror_mode": {
    "name": "ipython",
    "version": 3
   },
   "file_extension": ".py",
   "mimetype": "text/x-python",
   "name": "python",
   "nbconvert_exporter": "python",
   "pygments_lexer": "ipython3",
   "version": "3.9.3"
  }
 },
 "nbformat": 4,
 "nbformat_minor": 5
}