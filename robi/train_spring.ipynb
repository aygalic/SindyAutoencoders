{
 "cells": [
  {
   "cell_type": "code",
   "execution_count": 1,
   "metadata": {
    "collapsed": true,
    "pycharm": {
     "name": "#%%\n"
    }
   },
   "outputs": [],
   "source": [
    "import os\n",
    "import datetime\n",
    "import pandas as pd\n",
    "import numpy as np\n",
    "from robi.example_spring import get_spring_data\n",
    "from src.sindy_utils import library_size\n",
    "from src.training import train_network\n",
    "import tensorflow as tf"
   ]
  },
  {
   "cell_type": "markdown",
   "metadata": {
    "pycharm": {
     "name": "#%% md\n"
    }
   },
   "source": [
    "# Generate data"
   ]
  },
  {
   "cell_type": "code",
   "execution_count": 2,
   "metadata": {
    "collapsed": true,
    "pycharm": {
     "name": "#%%\n"
    }
   },
   "outputs": [
    {
     "name": "stdout",
     "output_type": "stream",
     "text": [
      "(1000, 2)\n",
      "(1000, 2)\n",
      "(1000, 2)\n",
      "(1000, 2)\n",
      "(1000, 2)\n",
      "(1000, 2)\n",
      "(1000, 2)\n",
      "(1000, 2)\n",
      "(1000, 2)\n",
      "(1000, 2)\n",
      "(1000, 2)\n",
      "(1000, 2)\n",
      "(1000, 2)\n",
      "(1000, 2)\n",
      "(1000, 2)\n",
      "(1000, 2)\n",
      "(1000, 2)\n",
      "(1000, 2)\n",
      "(1000, 2)\n",
      "(1000, 2)\n",
      "(1000, 2)\n",
      "(1000, 2)\n",
      "(1000, 2)\n"
     ]
    }
   ],
   "source": [
    "training_data = get_spring_data(20)\n",
    "validation_data = get_spring_data(3)"
   ]
  },
  {
   "cell_type": "markdown",
   "metadata": {
    "pycharm": {
     "name": "#%% md\n"
    }
   },
   "source": [
    "# Set up model and training parameters"
   ]
  },
  {
   "cell_type": "code",
   "execution_count": 3,
   "metadata": {
    "collapsed": true,
    "pycharm": {
     "name": "#%%\n"
    }
   },
   "outputs": [],
   "source": [
    "params = {}\n",
    "\n",
    "params['input_dim'] = training_data['x'].shape[-1]\n",
    "params['latent_dim'] = 1\n",
    "params['model_order'] = 2\n",
    "params['poly_order'] = 3\n",
    "params['include_sine'] = True\n",
    "params['library_dim'] = library_size(2*params['latent_dim'], params['poly_order'], params['include_sine'], True)\n",
    "\n",
    "# sequential thresholding parameters\n",
    "params['sequential_thresholding'] = True\n",
    "params['coefficient_threshold'] = 0.1\n",
    "params['threshold_frequency'] = 500\n",
    "params['coefficient_mask'] = np.ones((params['library_dim'], params['latent_dim']))\n",
    "params['coefficient_initialization'] = 'constant'\n",
    "\n",
    "# loss function weighting\n",
    "params['loss_weight_decoder'] = 1.0\n",
    "params['loss_weight_sindy_x'] = 5e-4\n",
    "params['loss_weight_sindy_z'] = 5e-5\n",
    "params['loss_weight_sindy_regularization'] = 1e-5\n",
    "\n",
    "params['activation'] = 'sigmoid'\n",
    "params['widths'] = [128,64,32]\n",
    "\n",
    "# training parameters\n",
    "params['epoch_size'] = training_data['x'].shape[0]\n",
    "params['batch_size'] = 1000\n",
    "params['learning_rate'] = 1e-4\n",
    "\n",
    "params['data_path'] = os.getcwd() + '/'\n",
    "params['print_progress'] = True\n",
    "params['print_frequency'] = 100\n",
    "\n",
    "# training time cutoffs\n",
    "params['max_epochs'] = 5001\n",
    "params['refinement_epochs'] = 1001"
   ]
  },
  {
   "cell_type": "markdown",
   "metadata": {
    "pycharm": {
     "name": "#%% md\n"
    }
   },
   "source": [
    "# Run training experiments"
   ]
  },
  {
   "cell_type": "code",
   "execution_count": null,
   "metadata": {
    "collapsed": true,
    "pycharm": {
     "name": "#%%\n",
     "is_executing": true
    }
   },
   "outputs": [
    {
     "name": "stdout",
     "output_type": "stream",
     "text": [
      "EXPERIMENT 0\n",
      "TRAINING\n",
      "Epoch 0\n",
      "   training loss 0.03469647467136383, (0.032734137, 2.513918, 3.6533194, 0.99821264)\n",
      "   validation loss 0.0330548956990242, (0.03220249, 2.591093, 1.4257354, 0.99821264)\n",
      "decoder loss ratio: 3.949013, decoder SINDy loss  ratio: 1.000006\n",
      "Epoch 100\n",
      "   training loss 0.005685549229383469, (0.003850192, 5.1382245e-05, 3.6533105, 0.869966)\n",
      "   validation loss 0.002875443547964096, (0.002153879, 2.3454082e-05, 1.4257274, 0.869966)\n",
      "decoder loss ratio: 0.264132, decoder SINDy loss  ratio: 1.000000\n",
      "Epoch 200\n",
      "   training loss 0.005685468204319477, (0.003851601, 4.405945e-05, 3.6533105, 0.72099334)\n",
      "   validation loss 0.0028743401635438204, (0.0021542655, 2.2589345e-05, 1.4257274, 0.72099334)\n",
      "decoder loss ratio: 0.264179, decoder SINDy loss  ratio: 1.000000\n",
      "Epoch 300\n",
      "   training loss 0.005684082396328449, (0.0038519148, 6.174328e-05, 3.6533105, 0.55093414)\n",
      "   validation loss 0.0028727443423122168, (0.0021543698, 3.2544045e-05, 1.4257274, 0.55093414)\n",
      "decoder loss ratio: 0.264192, decoder SINDy loss  ratio: 1.000000\n",
      "Epoch 400\n",
      "   training loss 0.005682190880179405, (0.003851886, 0.000102474914, 3.6533105, 0.36441574)\n",
      "   validation loss 0.002870884258300066, (0.0021543738, 5.295381e-05, 1.4257274, 0.36441574)\n",
      "decoder loss ratio: 0.264192, decoder SINDy loss  ratio: 1.000000\n",
      "Epoch 500\n",
      "   training loss 0.005680137779563665, (0.003851774, 0.00017365662, 3.6533108, 0.16996433)\n",
      "   validation loss 0.002868914045393467, (0.0021543466, 8.506883e-05, 1.4257274, 0.16996433)\n",
      "decoder loss ratio: 0.264189, decoder SINDy loss  ratio: 1.000000\n",
      "THRESHOLDING: 5 active coefficients\n",
      "Epoch 600\n",
      "   training loss 0.005679166875779629, (0.0038516563, 0.00026241576, 3.6533105, 0.08419793)\n",
      "   validation loss 0.0028680290561169386, (0.0021543175, 0.00012183807, 1.4257274, 0.08419793)\n",
      "decoder loss ratio: 0.264185, decoder SINDy loss  ratio: 1.000000\n",
      "Epoch 700\n",
      "   training loss 0.0056785340420901775, (0.0038515392, 0.00034770663, 3.6533108, 0.032170244)\n",
      "   validation loss 0.002867475850507617, (0.0021542823, 0.00016331731, 1.4257274, 0.032170244)\n",
      "decoder loss ratio: 0.264181, decoder SINDy loss  ratio: 1.000000\n",
      "Epoch 800\n",
      "   training loss 0.005678131710737944, (0.0038514163, 0.00045563566, 3.6533108, 0.003718245)\n",
      "   validation loss 0.0028671585023403168, (0.0021542471, 0.00021018744, 1.4257274, 0.003718245)\n",
      "decoder loss ratio: 0.264177, decoder SINDy loss  ratio: 1.000000\n",
      "Epoch 900\n",
      "   training loss 0.0056779831647872925, (0.0038512952, 0.0006414381, 3.6533105, 3.85934e-05)\n",
      "   validation loss 0.0028670895844697952, (0.0021542108, 0.00029558045, 1.4257274, 3.85934e-05)\n",
      "decoder loss ratio: 0.264172, decoder SINDy loss  ratio: 1.000000\n",
      "Epoch 1000\n",
      "   training loss 0.0056778728030622005, (0.0038511734, 0.000865953, 3.6533105, 4.42892e-05)\n",
      "   validation loss 0.0028670572210103273, (0.002154173, 0.00039956742, 1.4257274, 4.42892e-05)\n",
      "decoder loss ratio: 0.264168, decoder SINDy loss  ratio: 1.000000\n",
      "THRESHOLDING: 0 active coefficients\n",
      "Epoch 1100\n",
      "   training loss 0.005677763372659683, (0.0038510505, 0.0011467854, 3.6533108, 1.623387e-05)\n",
      "   validation loss 0.002867024624720216, (0.002154134, 0.00053651223, 1.4257274, 1.623387e-05)\n",
      "decoder loss ratio: 0.264163, decoder SINDy loss  ratio: 1.000000\n"
     ]
    }
   ],
   "source": [
    "num_experiments = 10\n",
    "df = pd.DataFrame()\n",
    "for i in range(num_experiments):\n",
    "    print('EXPERIMENT %d' % i)\n",
    "\n",
    "    params['coefficient_mask'] = np.ones((params['library_dim'], params['latent_dim']))\n",
    "\n",
    "    params['save_name'] = 'spring_' + datetime.datetime.now().strftime(\"%Y_%m_%d_%H_%M_%S_%f\")\n",
    "\n",
    "    tf.compat.v1.reset_default_graph()\n",
    "\n",
    "    results_dict = train_network(training_data, validation_data, params)\n",
    "    df = df.append({**results_dict, **params}, ignore_index=True)\n",
    "\n",
    "df.to_pickle('experiment_results_' + datetime.datetime.now().strftime(\"%Y%m%d%H%M\") + '.pkl')"
   ]
  },
  {
   "cell_type": "code",
   "execution_count": null,
   "outputs": [],
   "source": [],
   "metadata": {
    "collapsed": false,
    "pycharm": {
     "name": "#%%\n"
    }
   }
  }
 ],
 "metadata": {
  "kernelspec": {
   "display_name": "Python 3",
   "language": "python",
   "name": "python3"
  },
  "language_info": {
   "codemirror_mode": {
    "name": "ipython",
    "version": 3
   },
   "file_extension": ".py",
   "mimetype": "text/x-python",
   "name": "python",
   "nbconvert_exporter": "python",
   "pygments_lexer": "ipython3",
   "version": "3.6.1"
  },
  "toc": {
   "base_numbering": 1,
   "nav_menu": {},
   "number_sections": true,
   "sideBar": true,
   "skip_h1_title": false,
   "title_cell": "Table of Contents",
   "title_sidebar": "Contents",
   "toc_cell": false,
   "toc_position": {},
   "toc_section_display": true,
   "toc_window_display": false
  },
  "varInspector": {
   "cols": {
    "lenName": 16,
    "lenType": 16,
    "lenVar": 40
   },
   "kernels_config": {
    "python": {
     "delete_cmd_postfix": "",
     "delete_cmd_prefix": "del ",
     "library": "var_list.py",
     "varRefreshCmd": "print(var_dic_list())"
    },
    "r": {
     "delete_cmd_postfix": ") ",
     "delete_cmd_prefix": "rm(",
     "library": "var_list.r",
     "varRefreshCmd": "cat(var_dic_list()) "
    }
   },
   "types_to_exclude": [
    "module",
    "function",
    "builtin_function_or_method",
    "instance",
    "_Feature"
   ],
   "window_display": false
  }
 },
 "nbformat": 4,
 "nbformat_minor": 2
}