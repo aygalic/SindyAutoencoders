{
 "cells": [
  {
   "cell_type": "code",
   "execution_count": 21,
   "id": "043729a7",
   "metadata": {},
   "outputs": [],
   "source": [
    "import tensorflow as tf \n",
    "import tensorflow.keras as tfk \n",
    "import numpy as np \n",
    "import matplotlib.pyplot as plt \n",
    "import os\n",
    "from scipy.integrate import solve_ivp\n",
    "\n",
    "import sys\n",
    "from utils import *\n",
    "sys.path.insert(1, \"../src/\")\n",
    "from sindy_utils import *\n",
    "\n",
    "from utils import *\n",
    "\n",
    "seed = 42\n",
    "tf.random.set_seed(seed)"
   ]
  },
  {
   "cell_type": "markdown",
   "id": "ed455661",
   "metadata": {},
   "source": [
    "## Model architecture"
   ]
  },
  {
   "cell_type": "code",
   "execution_count": 22,
   "id": "ff812185",
   "metadata": {},
   "outputs": [],
   "source": [
    "def build_encoder(input_shape, latent_dim = 1):\n",
    "    encoder_inputs = tfk.Input(shape=(input_shape,)) \n",
    "    \n",
    "    #initially following parameters outlined in sindy paper \n",
    "    activation = \"sigmoid\"\n",
    "    x = tfk.layers.Dense(128, activation=activation, kernel_initializer = tfk.initializers.GlorotNormal(seed=seed))(encoder_inputs)\n",
    "    x = tfk.layers.Dense(64, activation=activation, kernel_initializer = tfk.initializers.GlorotNormal(seed=seed))(x)\n",
    "    x = tfk.layers.Dense(32, activation=activation, kernel_initializer = tfk.initializers.GlorotNormal(seed=seed))(x)\n",
    "    z = tfk.layers.Dense(latent_dim, \n",
    "                         activation='sigmoid', \n",
    "                         kernel_initializer = tfk.initializers.GlorotNormal(seed=seed))(x)\n",
    "\n",
    "    encoder = tfk.Model(encoder_inputs, z, name=\"encoder\")\n",
    "    return encoder\n",
    "\n",
    "\n",
    "def build_decoder(output_shape, latent_dim = 1):\n",
    "    decoder_inputs = tfk.Input(shape=(latent_dim,))\n",
    "    \n",
    "    #initially following parameters outlined in sindy paper \n",
    "    activation = \"relu\"\n",
    "    x = tfk.layers.Dense(32, activation=activation, kernel_initializer = tfk.initializers.GlorotNormal(seed=seed))(decoder_inputs)\n",
    "    x = tfk.layers.Dense(64, activation=activation, kernel_initializer = tfk.initializers.GlorotNormal(seed=seed))(x)\n",
    "    x = tfk.layers.Dense(128, activation=activation, kernel_initializer = tfk.initializers.GlorotNormal(seed=seed))(x)\n",
    "    reconstructed = tfk.layers.Dense(output_shape, \n",
    "                                     activation=\"sigmoid\", \n",
    "                                     kernel_initializer = tfk.initializers.GlorotNormal(seed=seed))(x) #softmax for grayscale \n",
    "    \n",
    "\n",
    "    decoder = tfk.Model(decoder_inputs, reconstructed, name=\"decoder\")\n",
    "    return decoder"
   ]
  },
  {
   "cell_type": "code",
   "execution_count": 23,
   "id": "81aa23cb",
   "metadata": {},
   "outputs": [
    {
     "name": "stdout",
     "output_type": "stream",
     "text": [
      "['relu', 'relu', 'relu', 'sigmoid'] ['relu', 'relu', 'relu', 'sigmoid']\n"
     ]
    }
   ],
   "source": [
    "#need to define activations for more flexible derivative taking \n",
    "encoder_activations = ['relu' for i in range(3)]\n",
    "encoder_activations.append('sigmoid')\n",
    "decoder_activations = ['relu' for i in range(3)]\n",
    "decoder_activations.append('sigmoid')\n",
    "\n",
    "print(encoder_activations, decoder_activations)\n",
    "\n",
    "#i wish keras layers let you access the activation type but unfortunately not -- wait! \n",
    "#i can subclass a layer and during the init create a variable that lets me define its activation as a string\n",
    "#... more in the notion file "
   ]
  },
  {
   "cell_type": "code",
   "execution_count": 24,
   "id": "218db1f3",
   "metadata": {},
   "outputs": [],
   "source": [
    "class DAE(tfk.Model):\n",
    "    def __init__(self, encoder, decoder, encoder_activations, decoder_activations, **kwargs):\n",
    "        super().__init__(**kwargs)\n",
    "        self.encoder = encoder\n",
    "        self.decoder = decoder\n",
    "        self.encoder_activations = encoder_activations\n",
    "        self.decoder_activations = decoder_activations\n",
    "        \n",
    "        \n",
    "        #stateful metrics \n",
    "        self.total_loss_tracker = tfk.metrics.Mean(name=\"total_loss\")\n",
    "        self.reconstruction_loss_tracker = tfk.metrics.Mean(\n",
    "            name=\"reconstruction_loss\"\n",
    "        )\n",
    "        \n",
    "        #see if we can implement a stateful sindy regression coefficients object \n",
    "        self.Xi = None\n",
    "        \n",
    "\n",
    "    @property\n",
    "    def metrics(self):\n",
    "        return [\n",
    "            self.total_loss_tracker,\n",
    "            self.reconstruction_loss_tracker,\n",
    "        ]\n",
    "    \n",
    "    def call(self, inputs):\n",
    "        '''x, dx, ddx = inputs   \n",
    "\n",
    "        #extract latent rep and project the time derivatives from input \n",
    "        z = self.encoder(x)\n",
    "        dz, ddz = z_derivative2(self.encoder, inputs, self.encoder_activations) \n",
    "        \n",
    "        #estimate derivatives with sindy -- assuming already fit \n",
    "        latent = (z,dz,ddz)'''\n",
    "        \n",
    "        pass \n",
    "        \n",
    "        \n",
    "    \n",
    "    def sindy_fit(self, latent_info):\n",
    "        \"\"\"\n",
    "        ols regression to determine & update the sindy coefficients \n",
    "        \n",
    "        consider doing this manually so we are exposing the actual embeddings more; idea would to pivot this into \n",
    "        the (X'X)^{-1}X'Y formulation directly in the training step \n",
    "        \"\"\"\n",
    "        z, dz, ddz = latent_info\n",
    "        Z = tf.squeeze(tf.stack((z,dz), axis=1), -1)#squeeze gets rid of extra dim\n",
    "        \n",
    "        #should be sufficient for identifying spring dynamics\n",
    "        lib = sindy_library(Z.numpy(), poly_order = 2, include_sine = False) \n",
    "        \n",
    "        #print(f'lib rank: {np.linalg.matrix_rank(lib)}, min dim: {min(lib.shape[0], lib.shape[1])}, invertible? {np.linalg.matrix_rank(lib)==min(lib.shape[0], lib.shape[1])}')\n",
    "\n",
    "        b = tf.squeeze(tf.stack((ddz,dz), axis=1))\n",
    "        \n",
    "        #Xi = tf.linalg.lstsq(lib, b) #me \n",
    "        Xi = sindy_fit(lib, b.numpy(), 0.1) #sindy \n",
    "        \n",
    "        self.Xi = tf.convert_to_tensor(Xi)\n",
    "        \n",
    "        lib = tf.convert_to_tensor(lib, dtype='float32')\n",
    "        ddz_out = tf.linalg.matmul(lib,Xi)\n",
    "        \n",
    "        return ddz_out\n",
    "        "
   ]
  },
  {
   "cell_type": "markdown",
   "id": "7e5fff86",
   "metadata": {},
   "source": [
    "## Data prep "
   ]
  },
  {
   "cell_type": "code",
   "execution_count": 25,
   "id": "b20aebf3",
   "metadata": {},
   "outputs": [
    {
     "data": {
      "text/plain": [
       "[<matplotlib.lines.Line2D at 0x159ad8910>]"
      ]
     },
     "execution_count": 25,
     "metadata": {},
     "output_type": "execute_result"
    },
    {
     "data": {
      "image/png": "[encoded data removed]",
      "text/plain": [
       "<Figure size 432x288 with 1 Axes>"
      ]
     },
     "metadata": {
      "needs_background": "light"
     },
     "output_type": "display_data"
    }
   ],
   "source": [
    "params = {'c':0.33, 'm':0.5, 'k':1}\n",
    "x0 = [1, 0]\n",
    "t = np.arange(0, 20, 0.01)\n",
    "\n",
    "x_train = generate_spring_data(params, t, x0)\n",
    "\n",
    "plt.plot(x_train[:,0])"
   ]
  },
  {
   "cell_type": "code",
   "execution_count": 26,
   "id": "f126bf6c",
   "metadata": {},
   "outputs": [
    {
     "name": "stdout",
     "output_type": "stream",
     "text": [
      "(2000, 2601) (2000, 2601)\n"
     ]
    }
   ],
   "source": [
    "#converting positional information into synthetic video \n",
    "dim = 51\n",
    "x, dx, ddx = spring_to_movie(x_train[:,0], dt=0.01, dim = dim)\n",
    "x = np.reshape(x, (x.shape[0], dim*dim))\n",
    "dx = np.reshape(dx, (dx.shape[0], dim*dim))\n",
    "ddx = np.reshape(ddx, (ddx.shape[0], dim*dim))\n",
    "\n",
    "print(x.shape, dx.shape)"
   ]
  },
  {
   "cell_type": "code",
   "execution_count": 27,
   "id": "8ccae551",
   "metadata": {},
   "outputs": [
    {
     "data": {
      "text/plain": [
       "TensorShape([32, 2601])"
      ]
     },
     "execution_count": 27,
     "metadata": {},
     "output_type": "execute_result"
    }
   ],
   "source": [
    "#converting to a tensorflow dataset object \n",
    "batch_size = 32\n",
    "train_dataset = tf.data.Dataset.from_tensor_slices((x, dx, ddx))\n",
    "train_dataset = train_dataset.shuffle(buffer_size=64, seed = seed).batch(batch_size)\n",
    "\n",
    "next(iter(train_dataset))[0].shape #nice "
   ]
  },
  {
   "cell_type": "markdown",
   "id": "f888d4a2",
   "metadata": {},
   "source": [
    "## Training"
   ]
  },
  {
   "cell_type": "code",
   "execution_count": 28,
   "id": "84d11a63",
   "metadata": {},
   "outputs": [],
   "source": [
    "dae = DAE(build_encoder(dim*dim, latent_dim = 1), \n",
    "          build_decoder(dim*dim, latent_dim = 1),\n",
    "          encoder_activations,\n",
    "          decoder_activations)\n",
    "\n",
    "dae.compile(optimizer=tfk.optimizers.Adam(), run_eagerly=True)"
   ]
  },
  {
   "cell_type": "code",
   "execution_count": 29,
   "id": "fa1f55b0",
   "metadata": {},
   "outputs": [],
   "source": [
    "model = dae\n",
    "\n",
    "@tf.function\n",
    "def train_step(data):\n",
    "    x, dx, ddx = data\n",
    "    #print(x.shape, dx.shape)\n",
    "    \n",
    "    with tf.GradientTape() as tape:\n",
    "        #extract latent rep and derivatives \n",
    "        z = model.encoder(x)\n",
    "        dz,ddz = z_derivative2(model.encoder, data, model.encoder_activations) \n",
    "        \n",
    "        #sindy fit & estimate \n",
    "        latent = (z,dz,ddz)\n",
    "        #z_est = model.sindy_fit(latent) #Xi now updated \n",
    "        \n",
    "        #print(z)\n",
    "        \n",
    "        #reconstruction \n",
    "        reconstruction = model.decoder(z)\n",
    "\n",
    "        #use BCE for black and white pics \n",
    "        reconstruction_loss = tf.reduce_mean(\n",
    "                tfk.losses.binary_crossentropy(x, reconstruction)\n",
    "        )\n",
    "\n",
    "        total_loss = reconstruction_loss # + other terms \n",
    "\n",
    "    #de-facto \n",
    "    grads = tape.gradient(total_loss, model.trainable_weights)\n",
    "    model.optimizer.apply_gradients(zip(grads, model.trainable_weights)) #will need to specify an optimizer \n",
    "    model.total_loss_tracker.update_state(total_loss)\n",
    "    model.reconstruction_loss_tracker.update_state(reconstruction_loss)\n",
    "\n",
    "    return {\n",
    "        \"loss\": model.total_loss_tracker.result(),\n",
    "        \"reconstruction_loss\": model.reconstruction_loss_tracker.result(),\n",
    "    }"
   ]
  },
  {
   "cell_type": "code",
   "execution_count": 30,
   "id": "5e91689a",
   "metadata": {
    "scrolled": true
   },
   "outputs": [
    {
     "name": "stdout",
     "output_type": "stream",
     "text": [
      "epoch: 0\n",
      "losses: {'loss': <tf.Tensor: shape=(), dtype=float32, numpy=0.34560812>, 'reconstruction_loss': <tf.Tensor: shape=(), dtype=float32, numpy=0.34560812>}\n",
      "epoch: 20\n",
      "losses: {'loss': <tf.Tensor: shape=(), dtype=float32, numpy=0.058960717>, 'reconstruction_loss': <tf.Tensor: shape=(), dtype=float32, numpy=0.058960717>}\n",
      "epoch: 40\n",
      "losses: {'loss': <tf.Tensor: shape=(), dtype=float32, numpy=0.050269075>, 'reconstruction_loss': <tf.Tensor: shape=(), dtype=float32, numpy=0.050269075>}\n",
      "epoch: 60\n",
      "losses: {'loss': <tf.Tensor: shape=(), dtype=float32, numpy=0.046806376>, 'reconstruction_loss': <tf.Tensor: shape=(), dtype=float32, numpy=0.046806376>}\n",
      "epoch: 80\n",
      "losses: {'loss': <tf.Tensor: shape=(), dtype=float32, numpy=0.043963544>, 'reconstruction_loss': <tf.Tensor: shape=(), dtype=float32, numpy=0.043963544>}\n",
      "epoch: 100\n",
      "losses: {'loss': <tf.Tensor: shape=(), dtype=float32, numpy=0.04205344>, 'reconstruction_loss': <tf.Tensor: shape=(), dtype=float32, numpy=0.04205344>}\n",
      "epoch: 120\n",
      "losses: {'loss': <tf.Tensor: shape=(), dtype=float32, numpy=0.040675003>, 'reconstruction_loss': <tf.Tensor: shape=(), dtype=float32, numpy=0.040675003>}\n",
      "epoch: 140\n",
      "losses: {'loss': <tf.Tensor: shape=(), dtype=float32, numpy=0.0395463>, 'reconstruction_loss': <tf.Tensor: shape=(), dtype=float32, numpy=0.0395463>}\n",
      "epoch: 160\n",
      "losses: {'loss': <tf.Tensor: shape=(), dtype=float32, numpy=0.038389426>, 'reconstruction_loss': <tf.Tensor: shape=(), dtype=float32, numpy=0.038389426>}\n",
      "epoch: 180\n",
      "losses: {'loss': <tf.Tensor: shape=(), dtype=float32, numpy=0.037332762>, 'reconstruction_loss': <tf.Tensor: shape=(), dtype=float32, numpy=0.037332762>}\n"
     ]
    }
   ],
   "source": [
    "#run this for one epoch \n",
    "tf.config.run_functions_eagerly(False) #way faster without eager execution but you need it to interface with sindylib\n",
    "\n",
    "epochs = 200\n",
    "for epoch in range(epochs):\n",
    "\n",
    "    #train step \n",
    "    for step, data in enumerate(train_dataset):\n",
    "        losses = train_step(data)\n",
    "    \n",
    "    \n",
    "    if(epoch%20 == 0):\n",
    "        print(f'epoch: {epoch}\\nlosses: {losses}') "
   ]
  },
  {
   "cell_type": "code",
   "execution_count": 33,
   "id": "7e58fe21",
   "metadata": {
    "scrolled": true
   },
   "outputs": [
    {
     "data": {
      "image/png": "[encoded data removed]",
      "text/plain": [
       "<Figure size 1296x432 with 16 Axes>"
      ]
     },
     "metadata": {
      "needs_background": "light"
     },
     "output_type": "display_data"
    }
   ],
   "source": [
    "########## generate test data ##########\n",
    "params2 = {'c':0.6, 'm':0.2, 'k':1}\n",
    "x02 = [1, 1]\n",
    "t2 = np.arange(0, 20, 0.1)\n",
    "x_test = generate_spring_data(params2,t2,x02)\n",
    "\n",
    "y, dy, ddy = spring_to_movie(x_test[:,0], dt=0.1, dim = dim)\n",
    "\n",
    "y = np.reshape(y, (y.shape[0], dim*dim))\n",
    "dy = np.reshape(dy, (dy.shape[0], dim*dim))\n",
    "ddy = np.reshape(ddy, (ddy.shape[0], dim*dim))\n",
    "\n",
    "\n",
    "\n",
    "########## predict #################\n",
    "preds = dae.decoder(dae.encoder(y))\n",
    "\n",
    "fig, axs = plt.subplots(2,8, figsize=(18,6))\n",
    "\n",
    "j = 20\n",
    "for i in range(8):\n",
    "    axs[0][i].imshow(y[j*i].reshape(dim, dim))\n",
    "    axs[1][i].imshow(preds[j*i].numpy().reshape(dim, dim))"
   ]
  },
  {
   "cell_type": "code",
   "execution_count": 34,
   "id": "415c2d57",
   "metadata": {},
   "outputs": [],
   "source": [
    "dae.Xi"
   ]
  },
  {
   "cell_type": "markdown",
   "id": "5ef3f01b",
   "metadata": {},
   "source": [
    "In both the following derivative functions our forward propogations depend on the activations in the model passed to the function call.  relu is pretty good all things considered but in our decoder layer we end with a sigmoid so we need to provide some flexibility "
   ]
  },
  {
   "cell_type": "code",
   "execution_count": null,
   "id": "57f24f97",
   "metadata": {},
   "outputs": [],
   "source": []
  }
 ],
 "metadata": {
  "kernelspec": {
   "display_name": "Python 3",
   "language": "python",
   "name": "python3"
  },
  "language_info": {
   "codemirror_mode": {
    "name": "ipython",
    "version": 3
   },
   "file_extension": ".py",
   "mimetype": "text/x-python",
   "name": "python",
   "nbconvert_exporter": "python",
   "pygments_lexer": "ipython3",
   "version": "3.9.3"
  }
 },
 "nbformat": 4,
 "nbformat_minor": 5
}
