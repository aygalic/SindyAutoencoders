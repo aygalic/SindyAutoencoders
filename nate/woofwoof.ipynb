{
 "cells": [
  {
   "cell_type": "code",
   "execution_count": 4,
   "id": "e9196256",
   "metadata": {},
   "outputs": [],
   "source": [
    "import tensorflow as tf \n",
    "import tensorflow.keras as tfk\n",
    "import numpy as np \n",
    "import matplotlib.pyplot as plt "
   ]
  },
  {
   "cell_type": "markdown",
   "id": "c6db8145",
   "metadata": {},
   "source": [
    "### looking at lower level training loops since we need to access whole batch for sindy OLS fit "
   ]
  },
  {
   "cell_type": "code",
   "execution_count": 87,
   "id": "7e0acf4f",
   "metadata": {},
   "outputs": [],
   "source": [
    "#generate artificial dataset using tensors \n",
    "import tensorflow_probability as tfp \n",
    "n = tfp.distributions.MultivariateNormalDiag([0.,0.], [1.,1.])"
   ]
  },
  {
   "cell_type": "code",
   "execution_count": 132,
   "id": "2938b863",
   "metadata": {},
   "outputs": [],
   "source": [
    "beta = tf.constant([2.,-1.]).numpy()\n",
    "X = n.sample(100).numpy()\n",
    "#data = tf.linalg.matvec(X,beta)\n",
    "data = X@beta\n",
    "data = np.expand_dims(data, -1)"
   ]
  },
  {
   "cell_type": "code",
   "execution_count": 138,
   "id": "4c3a36da",
   "metadata": {},
   "outputs": [],
   "source": [
    "#dataset for ols regression \n",
    "dataset_ = np.hstack((X,data))"
   ]
  },
  {
   "cell_type": "code",
   "execution_count": 139,
   "id": "b09ad5ce",
   "metadata": {},
   "outputs": [],
   "source": [
    "dataset = tf.data.Dataset.from_tensor_slices(dataset_).batch(20)\n",
    "#e = next(iter(dataset))"
   ]
  },
  {
   "cell_type": "code",
   "execution_count": 140,
   "id": "9eccda3c",
   "metadata": {},
   "outputs": [
    {
     "data": {
      "text/plain": [
       "TensorShape([20])"
      ]
     },
     "execution_count": 140,
     "metadata": {},
     "output_type": "execute_result"
    }
   ],
   "source": [
    "e.shape"
   ]
  },
  {
   "cell_type": "code",
   "execution_count": 142,
   "id": "149c996a",
   "metadata": {},
   "outputs": [
    {
     "name": "stdout",
     "output_type": "stream",
     "text": [
      "[ 2. -1.]\n",
      "[ 2. -1.]\n",
      "[ 2. -1.]\n",
      "[ 2. -1.]\n",
      "[ 2. -1.]\n"
     ]
    },
    {
     "name": "stderr",
     "output_type": "stream",
     "text": [
      "<ipython-input-142-7febe7b89034>:2: FutureWarning: `rcond` parameter will change to the default of machine precision times ``max(M, N)`` where M and N are the input matrix dimensions.\n",
      "To use the future default and silence this warning we advise to pass `rcond=None`, to keep using the old, explicitly pass `rcond=-1`.\n",
      "  print(np.linalg.lstsq(b.numpy()[:,0:2], b.numpy()[:,-1])[0])\n"
     ]
    }
   ],
   "source": [
    "for b in dataset:\n",
    "    print(np.linalg.lstsq(b.numpy()[:,0:2], b.numpy()[:,-1])[0])"
   ]
  },
  {
   "cell_type": "markdown",
   "id": "d0036f8c",
   "metadata": {},
   "source": [
    "### sindy polynomial library functions "
   ]
  },
  {
   "cell_type": "code",
   "execution_count": 145,
   "id": "5dbe8232",
   "metadata": {},
   "outputs": [],
   "source": [
    "import sys\n",
    "sys.path.insert(1, \"../src/\")\n",
    "from sindy_utils import *"
   ]
  },
  {
   "cell_type": "code",
   "execution_count": 152,
   "id": "3ab038ba",
   "metadata": {},
   "outputs": [
    {
     "data": {
      "text/plain": [
       "(4, 4)"
      ]
     },
     "execution_count": 152,
     "metadata": {},
     "output_type": "execute_result"
    }
   ],
   "source": [
    "x = np.expand_dims(np.array([np.pi/2,np.pi, 0, 1]), -1)\n",
    "lib = sindy_library(x, poly_order = 2, include_sine = True)\n",
    "lib.shape"
   ]
  },
  {
   "cell_type": "code",
   "execution_count": 153,
   "id": "32f71a51",
   "metadata": {},
   "outputs": [
    {
     "data": {
      "text/plain": [
       "array([[1.00000000e+00, 1.57079633e+00, 2.46740110e+00, 1.00000000e+00],\n",
       "       [1.00000000e+00, 3.14159265e+00, 9.86960440e+00, 1.22464680e-16],\n",
       "       [1.00000000e+00, 0.00000000e+00, 0.00000000e+00, 0.00000000e+00],\n",
       "       [1.00000000e+00, 1.00000000e+00, 1.00000000e+00, 8.41470985e-01]])"
      ]
     },
     "execution_count": 153,
     "metadata": {},
     "output_type": "execute_result"
    }
   ],
   "source": [
    "#each column represents the generative functions evaluated along each axis \n",
    "lib"
   ]
  },
  {
   "cell_type": "code",
   "execution_count": 158,
   "id": "399e5738",
   "metadata": {},
   "outputs": [
    {
     "data": {
      "text/plain": [
       "array([[ 1.,  1.,  0.,  1.,  0.,  0.,  1.,  0.,  0.,  0.],\n",
       "       [ 1., -2.,  1.,  4., -2.,  1., -8.,  4., -2.,  1.]])"
      ]
     },
     "execution_count": 158,
     "metadata": {},
     "output_type": "execute_result"
    }
   ],
   "source": [
    "#let's try some multidimensional data\n",
    "y = np.array([[1,0], [-2,1]])\n",
    "sindy_library(y, poly_order = 3, include_sine = False) #we can see the pattern i think -- yea "
   ]
  },
  {
   "cell_type": "markdown",
   "id": "1b3d2826",
   "metadata": {},
   "source": [
    "## interfacing `train_step` with batch info "
   ]
  },
  {
   "cell_type": "code",
   "execution_count": 160,
   "id": "79b4ae95",
   "metadata": {},
   "outputs": [],
   "source": [
    "#data loading \n",
    "batch_size = 32\n",
    "(x_train, y_train), (x_test, y_test) = tfk.datasets.mnist.load_data()\n",
    "x_train = np.reshape(x_train, (-1, 784))\n",
    "x_test = np.reshape(x_test, (-1, 784))\n",
    "\n",
    "train_dataset = tf.data.Dataset.from_tensor_slices((x_train, y_train))\n",
    "train_dataset = train_dataset.shuffle(buffer_size=1024).batch(batch_size)"
   ]
  },
  {
   "cell_type": "code",
   "execution_count": 163,
   "id": "9d8a6e06",
   "metadata": {},
   "outputs": [
    {
     "name": "stdout",
     "output_type": "stream",
     "text": [
      "Model: \"model\"\n",
      "_________________________________________________________________\n",
      " Layer (type)                Output Shape              Param #   \n",
      "=================================================================\n",
      " digits (InputLayer)         [(None, 784)]             0         \n",
      "                                                                 \n",
      " dense_1 (Dense)             (None, 64)                50240     \n",
      "                                                                 \n",
      " dense_2 (Dense)             (None, 64)                4160      \n",
      "                                                                 \n",
      " predictions (Dense)         (None, 10)                650       \n",
      "                                                                 \n",
      "=================================================================\n",
      "Total params: 55,050\n",
      "Trainable params: 55,050\n",
      "Non-trainable params: 0\n",
      "_________________________________________________________________\n"
     ]
    }
   ],
   "source": [
    "#model \n",
    "inputs = tfk.Input(shape=(784,), name=\"digits\")\n",
    "x = tfk.layers.Dense(64, activation=\"relu\", name=\"dense_1\")(inputs)\n",
    "x = tfk.layers.Dense(64, activation=\"relu\", name=\"dense_2\")(x)\n",
    "outputs = tfk.layers.Dense(10, name=\"predictions\")(x)\n",
    "\n",
    "model = tfk.Model(inputs=inputs, outputs=outputs)\n",
    "model.summary()"
   ]
  },
  {
   "cell_type": "code",
   "execution_count": 170,
   "id": "a61fe8dd",
   "metadata": {},
   "outputs": [],
   "source": [
    "#train_step \n",
    "@tf.function\n",
    "def train_step(data):\n",
    "    x, y = data\n",
    "    print(x.shape, y.shape)\n",
    "    pass "
   ]
  },
  {
   "cell_type": "code",
   "execution_count": 171,
   "id": "0498ef9b",
   "metadata": {},
   "outputs": [
    {
     "name": "stdout",
     "output_type": "stream",
     "text": [
      "(32, 784) (32,)\n"
     ]
    }
   ],
   "source": [
    "for step, e in enumerate(train_dataset):\n",
    "    loss_value = train_step(e)"
   ]
  },
  {
   "cell_type": "code",
   "execution_count": 172,
   "id": "5b7f921c",
   "metadata": {},
   "outputs": [
    {
     "data": {
      "text/plain": [
       "(60000, 784)"
      ]
     },
     "execution_count": 172,
     "metadata": {},
     "output_type": "execute_result"
    }
   ],
   "source": [
    "x_train.shape"
   ]
  },
  {
   "cell_type": "code",
   "execution_count": null,
   "id": "2d805afb",
   "metadata": {},
   "outputs": [],
   "source": []
  }
 ],
 "metadata": {
  "kernelspec": {
   "display_name": "Python 3",
   "language": "python",
   "name": "python3"
  },
  "language_info": {
   "codemirror_mode": {
    "name": "ipython",
    "version": 3
   },
   "file_extension": ".py",
   "mimetype": "text/x-python",
   "name": "python",
   "nbconvert_exporter": "python",
   "pygments_lexer": "ipython3",
   "version": "3.9.3"
  }
 },
 "nbformat": 4,
 "nbformat_minor": 5
}
