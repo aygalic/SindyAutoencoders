{
 "cells": [
  {
   "cell_type": "code",
   "execution_count": 12,
   "id": "18c1be4c",
   "metadata": {},
   "outputs": [],
   "source": [
    "import tensorflow as tf \n",
    "import tensorflow.keras as tfk \n",
    "import numpy as np \n",
    "import matplotlib.pyplot as plt \n",
    "import sys\n",
    "import os\n",
    "from utils import *\n",
    "from scipy.integrate import solve_ivp\n",
    "\n",
    "seed = 42\n",
    "tf.random.set_seed(seed)"
   ]
  },
  {
   "cell_type": "markdown",
   "id": "bc2ba5f7",
   "metadata": {},
   "source": [
    "## Notes\n",
    "- sigmoids through the encoder to a terrible job at localizing the point mass in frame - reconstruction loss high "
   ]
  },
  {
   "cell_type": "code",
   "execution_count": 2,
   "id": "5009ddf7",
   "metadata": {
    "scrolled": true
   },
   "outputs": [
    {
     "data": {
      "text/plain": [
       "[<matplotlib.lines.Line2D at 0x153a68790>]"
      ]
     },
     "execution_count": 2,
     "metadata": {},
     "output_type": "execute_result"
    },
    {
     "data": {
      "image/png": "[encoded data removed]",
      "text/plain": [
       "<Figure size 432x288 with 1 Axes>"
      ]
     },
     "metadata": {
      "needs_background": "light"
     },
     "output_type": "display_data"
    }
   ],
   "source": [
    "#generating some data instead of reading from a directory \n",
    "def generate_spring_data(params, t, x0):\n",
    "    spring_f = lambda t, x, params: [x[1], -params['c']*x[1]-(params['k']/params['m'])*x[0]]\n",
    "    \n",
    "    data = solve_ivp(lambda t,x: spring_f(t,x,params), \n",
    "                    t_span = (t[0], t[-1]), \n",
    "                    y0 = x0,\n",
    "                    t_eval = t).y.T\n",
    "    return data \n",
    "\n",
    "\n",
    "params = {'c':0.33, 'm':0.5, 'k':1}\n",
    "x0 = [1, 0]\n",
    "t = np.arange(0, 20, 0.02)\n",
    "\n",
    "x_train = generate_spring_data(params, t, x0)\n",
    "\n",
    "\n",
    "plt.plot(x_train[:,0])"
   ]
  },
  {
   "cell_type": "code",
   "execution_count": 3,
   "id": "668d0281",
   "metadata": {},
   "outputs": [
    {
     "name": "stdout",
     "output_type": "stream",
     "text": [
      "(1000, 51, 51)\n"
     ]
    },
    {
     "data": {
      "text/plain": [
       "<matplotlib.image.AxesImage at 0x153bb2940>"
      ]
     },
     "execution_count": 3,
     "metadata": {},
     "output_type": "execute_result"
    },
    {
     "data": {
      "image/png": "[encoded data removed]",
      "text/plain": [
       "<Figure size 432x288 with 1 Axes>"
      ]
     },
     "metadata": {
      "needs_background": "light"
     },
     "output_type": "display_data"
    }
   ],
   "source": [
    "x,dx,ddx = spring_to_movie(x_train[:,0], dt=0.02, dim = 51)\n",
    "\n",
    "print(x.shape)\n",
    "plt.imshow(x[0], cmap = 'gray')"
   ]
  },
  {
   "cell_type": "code",
   "execution_count": 4,
   "id": "c08edf40",
   "metadata": {},
   "outputs": [],
   "source": [
    "class AE(tfk.Model):\n",
    "    def __init__(self, encoder, decoder, **kwargs):\n",
    "        super().__init__(**kwargs)\n",
    "        self.encoder = encoder\n",
    "        self.decoder = decoder\n",
    "        \n",
    "        #stateful metrics \n",
    "        self.total_loss_tracker = tfk.metrics.Mean(name=\"total_loss\")\n",
    "        self.reconstruction_loss_tracker = tfk.metrics.Mean(\n",
    "            name=\"reconstruction_loss\"\n",
    "        )\n",
    "\n",
    "    @property\n",
    "    def metrics(self):\n",
    "        return [\n",
    "            self.total_loss_tracker,\n",
    "            self.reconstruction_loss_tracker,\n",
    "        ]\n",
    "\n",
    "    def train_step(self, data):\n",
    "        #print(data.shape)\n",
    "        with tf.GradientTape() as tape:\n",
    "            z = self.encoder(data) \n",
    "            reconstruction = self.decoder(z) \n",
    "\n",
    "            #use BCE for black and white pics \n",
    "            reconstruction_loss = tf.reduce_mean(\n",
    "                    tfk.losses.binary_crossentropy(data, reconstruction)\n",
    "            )\n",
    "            \n",
    "            total_loss = reconstruction_loss # + other terms \n",
    "            \n",
    "        #de-facto \n",
    "        grads = tape.gradient(total_loss, self.trainable_weights)\n",
    "        self.optimizer.apply_gradients(zip(grads, self.trainable_weights)) #will need to specify an optimizer \n",
    "        self.total_loss_tracker.update_state(total_loss)\n",
    "        self.reconstruction_loss_tracker.update_state(reconstruction_loss)\n",
    "        \n",
    "        return {\n",
    "            \"loss\": self.total_loss_tracker.result(),\n",
    "            \"reconstruction_loss\": self.reconstruction_loss_tracker.result(),\n",
    "        }"
   ]
  },
  {
   "cell_type": "code",
   "execution_count": 5,
   "id": "a528724c",
   "metadata": {},
   "outputs": [],
   "source": [
    "def build_encoder(input_shape, latent_dim = 1):\n",
    "    \"\"\"\n",
    "    i'll need to add multiple outputs for the encoding as well as derivative info(s) as outputs vae style \n",
    "    \"\"\"\n",
    "    encoder_inputs = tfk.Input(shape=input_shape) \n",
    "    \n",
    "    #initially following parameters outlined in sindy paper \n",
    "    activation = \"relu\"\n",
    "    x = tfk.layers.Dense(128, activation=activation, kernel_initializer = tfk.initializers.GlorotNormal(seed=seed))(encoder_inputs)\n",
    "    x = tfk.layers.Dense(64, activation=activation, kernel_initializer = tfk.initializers.GlorotNormal(seed=seed))(x)\n",
    "    x = tfk.layers.Dense(32, activation=activation, kernel_initializer = tfk.initializers.GlorotNormal(seed=seed))(x)\n",
    "    z = tfk.layers.Dense(latent_dim, activation=activation, kernel_initializer = tfk.initializers.GlorotNormal(seed=seed))(x)\n",
    "\n",
    "    encoder = tfk.Model(encoder_inputs, z, name=\"encoder\")\n",
    "    return encoder\n",
    "\n",
    "\n",
    "def build_decoder(output_shape, latent_dim = 1):\n",
    "    decoder_inputs = tfk.Input(shape=(latent_dim,))\n",
    "    \n",
    "    #initially following parameters outlined in sindy paper \n",
    "    activation = \"relu\"\n",
    "    x = tfk.layers.Dense(32, activation=activation, kernel_initializer = tfk.initializers.GlorotNormal(seed=seed))(decoder_inputs)\n",
    "    x = tfk.layers.Dense(64, activation=activation, kernel_initializer = tfk.initializers.GlorotNormal(seed=seed))(x)\n",
    "    x = tfk.layers.Dense(128, activation=activation, kernel_initializer = tfk.initializers.GlorotNormal(seed=seed))(x)\n",
    "    reconstructed = tfk.layers.Dense(output_shape, activation=\"sigmoid\", kernel_initializer = tfk.initializers.GlorotNormal(seed=seed))(x) #softmax for grayscale \n",
    "    \n",
    "\n",
    "    decoder = tfk.Model(decoder_inputs, reconstructed, name=\"decoder\")\n",
    "    return decoder"
   ]
  },
  {
   "cell_type": "code",
   "execution_count": 6,
   "id": "46a5b373",
   "metadata": {},
   "outputs": [
    {
     "data": {
      "text/plain": [
       "(1000, 2601)"
      ]
     },
     "execution_count": 6,
     "metadata": {},
     "output_type": "execute_result"
    }
   ],
   "source": [
    "#flatten to work with network \n",
    "dim = 51\n",
    "x_train = np.reshape(x, (x.shape[0], dim*dim))\n",
    "x_train.shape"
   ]
  },
  {
   "cell_type": "code",
   "execution_count": 8,
   "id": "231e2b5c",
   "metadata": {
    "scrolled": true
   },
   "outputs": [
    {
     "name": "stdout",
     "output_type": "stream",
     "text": [
      "Epoch 1/200\n",
      "16/16 [==============================] - 1s 10ms/step - loss: 0.6824 - reconstruction_loss: 0.6592\n",
      "Epoch 2/200\n",
      "16/16 [==============================] - 0s 14ms/step - loss: 0.3340 - reconstruction_loss: 0.2038\n",
      "Epoch 3/200\n",
      "16/16 [==============================] - 0s 12ms/step - loss: 0.0613 - reconstruction_loss: 0.0563\n",
      "Epoch 4/200\n",
      "16/16 [==============================] - 0s 11ms/step - loss: 0.0460 - reconstruction_loss: 0.0443\n",
      "Epoch 5/200\n",
      "16/16 [==============================] - 0s 12ms/step - loss: 0.0418 - reconstruction_loss: 0.0416\n",
      "Epoch 6/200\n",
      "16/16 [==============================] - 0s 12ms/step - loss: 0.0404 - reconstruction_loss: 0.0410\n",
      "Epoch 7/200\n",
      "16/16 [==============================] - 0s 13ms/step - loss: 0.0408 - reconstruction_loss: 0.0408\n",
      "Epoch 8/200\n",
      "16/16 [==============================] - 0s 12ms/step - loss: 0.0414 - reconstruction_loss: 0.0408\n",
      "Epoch 9/200\n",
      "16/16 [==============================] - 0s 14ms/step - loss: 0.0407 - reconstruction_loss: 0.0408\n",
      "Epoch 10/200\n",
      "16/16 [==============================] - 0s 16ms/step - loss: 0.0401 - reconstruction_loss: 0.0407\n",
      "Epoch 11/200\n",
      "16/16 [==============================] - 0s 13ms/step - loss: 0.0413 - reconstruction_loss: 0.0407\n",
      "Epoch 12/200\n",
      "16/16 [==============================] - 0s 12ms/step - loss: 0.0408 - reconstruction_loss: 0.0406\n",
      "Epoch 13/200\n",
      "16/16 [==============================] - 0s 13ms/step - loss: 0.0405 - reconstruction_loss: 0.0406\n",
      "Epoch 14/200\n",
      "16/16 [==============================] - 0s 14ms/step - loss: 0.0408 - reconstruction_loss: 0.0405\n",
      "Epoch 15/200\n",
      "16/16 [==============================] - 0s 14ms/step - loss: 0.0401 - reconstruction_loss: 0.0405\n",
      "Epoch 16/200\n",
      "16/16 [==============================] - 0s 15ms/step - loss: 0.0406 - reconstruction_loss: 0.0404\n",
      "Epoch 17/200\n",
      "16/16 [==============================] - 0s 13ms/step - loss: 0.0404 - reconstruction_loss: 0.0405\n",
      "Epoch 18/200\n",
      "16/16 [==============================] - 0s 14ms/step - loss: 0.0402 - reconstruction_loss: 0.0404\n",
      "Epoch 19/200\n",
      "16/16 [==============================] - 0s 15ms/step - loss: 0.0404 - reconstruction_loss: 0.0405\n",
      "Epoch 20/200\n",
      "16/16 [==============================] - 0s 13ms/step - loss: 0.0402 - reconstruction_loss: 0.0404\n",
      "Epoch 21/200\n",
      "16/16 [==============================] - 0s 13ms/step - loss: 0.0408 - reconstruction_loss: 0.0404\n",
      "Epoch 22/200\n",
      "16/16 [==============================] - 0s 13ms/step - loss: 0.0402 - reconstruction_loss: 0.0404\n",
      "Epoch 23/200\n",
      "16/16 [==============================] - 0s 13ms/step - loss: 0.0404 - reconstruction_loss: 0.0404\n",
      "Epoch 24/200\n",
      "16/16 [==============================] - 0s 14ms/step - loss: 0.0404 - reconstruction_loss: 0.0403\n",
      "Epoch 25/200\n",
      "16/16 [==============================] - 0s 15ms/step - loss: 0.0407 - reconstruction_loss: 0.0402\n",
      "Epoch 26/200\n",
      "16/16 [==============================] - 0s 14ms/step - loss: 0.0410 - reconstruction_loss: 0.0403\n",
      "Epoch 27/200\n",
      "16/16 [==============================] - 0s 14ms/step - loss: 0.0402 - reconstruction_loss: 0.0403\n",
      "Epoch 28/200\n",
      "16/16 [==============================] - 0s 16ms/step - loss: 0.0410 - reconstruction_loss: 0.0402\n",
      "Epoch 29/200\n",
      "16/16 [==============================] - 0s 15ms/step - loss: 0.0399 - reconstruction_loss: 0.0402\n",
      "Epoch 30/200\n",
      "16/16 [==============================] - 0s 14ms/step - loss: 0.0400 - reconstruction_loss: 0.0403\n",
      "Epoch 31/200\n",
      "16/16 [==============================] - 0s 16ms/step - loss: 0.0401 - reconstruction_loss: 0.0403\n",
      "Epoch 32/200\n",
      "16/16 [==============================] - 0s 14ms/step - loss: 0.0401 - reconstruction_loss: 0.0402\n",
      "Epoch 33/200\n",
      "16/16 [==============================] - 0s 14ms/step - loss: 0.0405 - reconstruction_loss: 0.0401\n",
      "Epoch 34/200\n",
      "16/16 [==============================] - 0s 15ms/step - loss: 0.0398 - reconstruction_loss: 0.0401\n",
      "Epoch 35/200\n",
      "16/16 [==============================] - 0s 16ms/step - loss: 0.0400 - reconstruction_loss: 0.0401\n",
      "Epoch 36/200\n",
      "16/16 [==============================] - 0s 15ms/step - loss: 0.0404 - reconstruction_loss: 0.0401\n",
      "Epoch 37/200\n",
      "16/16 [==============================] - 0s 22ms/step - loss: 0.0401 - reconstruction_loss: 0.0400\n",
      "Epoch 38/200\n",
      "16/16 [==============================] - 0s 17ms/step - loss: 0.0398 - reconstruction_loss: 0.0401\n",
      "Epoch 39/200\n",
      "16/16 [==============================] - 0s 17ms/step - loss: 0.0402 - reconstruction_loss: 0.0400\n",
      "Epoch 40/200\n",
      "16/16 [==============================] - 0s 19ms/step - loss: 0.0402 - reconstruction_loss: 0.0400\n",
      "Epoch 41/200\n",
      "16/16 [==============================] - 0s 14ms/step - loss: 0.0399 - reconstruction_loss: 0.0400\n",
      "Epoch 42/200\n",
      "16/16 [==============================] - 0s 17ms/step - loss: 0.0403 - reconstruction_loss: 0.0399\n",
      "Epoch 43/200\n",
      "16/16 [==============================] - 0s 14ms/step - loss: 0.0400 - reconstruction_loss: 0.0401\n",
      "Epoch 44/200\n",
      "16/16 [==============================] - 0s 14ms/step - loss: 0.0396 - reconstruction_loss: 0.0400\n",
      "Epoch 45/200\n",
      "16/16 [==============================] - 0s 15ms/step - loss: 0.0399 - reconstruction_loss: 0.0399\n",
      "Epoch 46/200\n",
      "16/16 [==============================] - 0s 16ms/step - loss: 0.0396 - reconstruction_loss: 0.0399\n",
      "Epoch 47/200\n",
      "16/16 [==============================] - 0s 17ms/step - loss: 0.0401 - reconstruction_loss: 0.0399\n",
      "Epoch 48/200\n",
      "16/16 [==============================] - 0s 16ms/step - loss: 0.0397 - reconstruction_loss: 0.0398\n",
      "Epoch 49/200\n",
      "16/16 [==============================] - 0s 16ms/step - loss: 0.0397 - reconstruction_loss: 0.0399\n",
      "Epoch 50/200\n",
      "16/16 [==============================] - 0s 17ms/step - loss: 0.0395 - reconstruction_loss: 0.0398\n",
      "Epoch 51/200\n",
      "16/16 [==============================] - 0s 16ms/step - loss: 0.0401 - reconstruction_loss: 0.0398\n",
      "Epoch 52/200\n",
      "16/16 [==============================] - 0s 16ms/step - loss: 0.0404 - reconstruction_loss: 0.0398\n",
      "Epoch 53/200\n",
      "16/16 [==============================] - 0s 14ms/step - loss: 0.0393 - reconstruction_loss: 0.0399\n",
      "Epoch 54/200\n",
      "16/16 [==============================] - 0s 14ms/step - loss: 0.0394 - reconstruction_loss: 0.0398\n",
      "Epoch 55/200\n",
      "16/16 [==============================] - 0s 15ms/step - loss: 0.0399 - reconstruction_loss: 0.0397\n",
      "Epoch 56/200\n",
      "16/16 [==============================] - 0s 15ms/step - loss: 0.0404 - reconstruction_loss: 0.0397\n",
      "Epoch 57/200\n",
      "16/16 [==============================] - 0s 16ms/step - loss: 0.0393 - reconstruction_loss: 0.0398\n",
      "Epoch 58/200\n",
      "16/16 [==============================] - 0s 18ms/step - loss: 0.0400 - reconstruction_loss: 0.0398\n",
      "Epoch 59/200\n",
      "16/16 [==============================] - 0s 21ms/step - loss: 0.0402 - reconstruction_loss: 0.0396\n",
      "Epoch 60/200\n",
      "16/16 [==============================] - 0s 18ms/step - loss: 0.0397 - reconstruction_loss: 0.0396\n",
      "Epoch 61/200\n",
      "16/16 [==============================] - 0s 17ms/step - loss: 0.0394 - reconstruction_loss: 0.0397\n",
      "Epoch 62/200\n",
      "16/16 [==============================] - 0s 18ms/step - loss: 0.0400 - reconstruction_loss: 0.0396\n",
      "Epoch 63/200\n",
      "16/16 [==============================] - 0s 18ms/step - loss: 0.0393 - reconstruction_loss: 0.0396\n",
      "Epoch 64/200\n",
      "16/16 [==============================] - 0s 18ms/step - loss: 0.0397 - reconstruction_loss: 0.0396\n",
      "Epoch 65/200\n",
      "16/16 [==============================] - 0s 17ms/step - loss: 0.0394 - reconstruction_loss: 0.0396\n",
      "Epoch 66/200\n",
      "16/16 [==============================] - 0s 18ms/step - loss: 0.0395 - reconstruction_loss: 0.0396\n",
      "Epoch 67/200\n",
      "16/16 [==============================] - 0s 19ms/step - loss: 0.0394 - reconstruction_loss: 0.0396\n",
      "Epoch 68/200\n",
      "16/16 [==============================] - 0s 19ms/step - loss: 0.0393 - reconstruction_loss: 0.0394\n",
      "Epoch 69/200\n",
      "16/16 [==============================] - 0s 17ms/step - loss: 0.0393 - reconstruction_loss: 0.0395\n",
      "Epoch 70/200\n",
      "16/16 [==============================] - 0s 19ms/step - loss: 0.0388 - reconstruction_loss: 0.0394\n",
      "Epoch 71/200\n",
      "16/16 [==============================] - 0s 20ms/step - loss: 0.0397 - reconstruction_loss: 0.0394\n",
      "Epoch 72/200\n",
      "16/16 [==============================] - 0s 18ms/step - loss: 0.0398 - reconstruction_loss: 0.0394\n",
      "Epoch 73/200\n",
      "16/16 [==============================] - 0s 18ms/step - loss: 0.0399 - reconstruction_loss: 0.0395\n",
      "Epoch 74/200\n"
     ]
    },
    {
     "name": "stdout",
     "output_type": "stream",
     "text": [
      "16/16 [==============================] - 0s 17ms/step - loss: 0.0394 - reconstruction_loss: 0.0394\n",
      "Epoch 75/200\n",
      "16/16 [==============================] - 0s 17ms/step - loss: 0.0394 - reconstruction_loss: 0.0393\n",
      "Epoch 76/200\n",
      "16/16 [==============================] - 0s 15ms/step - loss: 0.0400 - reconstruction_loss: 0.0393\n",
      "Epoch 77/200\n",
      "16/16 [==============================] - 0s 15ms/step - loss: 0.0389 - reconstruction_loss: 0.0393\n",
      "Epoch 78/200\n",
      "16/16 [==============================] - 0s 16ms/step - loss: 0.0391 - reconstruction_loss: 0.0393\n",
      "Epoch 79/200\n",
      "16/16 [==============================] - 0s 15ms/step - loss: 0.0384 - reconstruction_loss: 0.0392\n",
      "Epoch 80/200\n",
      "16/16 [==============================] - 0s 15ms/step - loss: 0.0389 - reconstruction_loss: 0.0393\n",
      "Epoch 81/200\n",
      "16/16 [==============================] - 0s 15ms/step - loss: 0.0389 - reconstruction_loss: 0.0393\n",
      "Epoch 82/200\n",
      "16/16 [==============================] - 0s 15ms/step - loss: 0.0388 - reconstruction_loss: 0.0393\n",
      "Epoch 83/200\n",
      "16/16 [==============================] - 0s 15ms/step - loss: 0.0389 - reconstruction_loss: 0.0393\n",
      "Epoch 84/200\n",
      "16/16 [==============================] - 0s 16ms/step - loss: 0.0391 - reconstruction_loss: 0.0392\n",
      "Epoch 85/200\n",
      "16/16 [==============================] - 0s 16ms/step - loss: 0.0399 - reconstruction_loss: 0.0392\n",
      "Epoch 86/200\n",
      "16/16 [==============================] - 0s 15ms/step - loss: 0.0391 - reconstruction_loss: 0.0392\n",
      "Epoch 87/200\n",
      "16/16 [==============================] - 0s 15ms/step - loss: 0.0392 - reconstruction_loss: 0.0391\n",
      "Epoch 88/200\n",
      "16/16 [==============================] - 0s 16ms/step - loss: 0.0394 - reconstruction_loss: 0.0390\n",
      "Epoch 89/200\n",
      "16/16 [==============================] - 0s 15ms/step - loss: 0.0389 - reconstruction_loss: 0.0391\n",
      "Epoch 90/200\n",
      "16/16 [==============================] - 0s 17ms/step - loss: 0.0391 - reconstruction_loss: 0.0390\n",
      "Epoch 91/200\n",
      "16/16 [==============================] - 0s 16ms/step - loss: 0.0393 - reconstruction_loss: 0.0390\n",
      "Epoch 92/200\n",
      "16/16 [==============================] - 0s 18ms/step - loss: 0.0389 - reconstruction_loss: 0.0391\n",
      "Epoch 93/200\n",
      "16/16 [==============================] - 0s 15ms/step - loss: 0.0398 - reconstruction_loss: 0.0389\n",
      "Epoch 94/200\n",
      "16/16 [==============================] - 0s 16ms/step - loss: 0.0387 - reconstruction_loss: 0.0390\n",
      "Epoch 95/200\n",
      "16/16 [==============================] - 0s 16ms/step - loss: 0.0394 - reconstruction_loss: 0.0390\n",
      "Epoch 96/200\n",
      "16/16 [==============================] - 0s 16ms/step - loss: 0.0385 - reconstruction_loss: 0.0389\n",
      "Epoch 97/200\n",
      "16/16 [==============================] - 0s 16ms/step - loss: 0.0390 - reconstruction_loss: 0.0389\n",
      "Epoch 98/200\n",
      "16/16 [==============================] - 0s 16ms/step - loss: 0.0391 - reconstruction_loss: 0.0389\n",
      "Epoch 99/200\n",
      "16/16 [==============================] - 0s 15ms/step - loss: 0.0391 - reconstruction_loss: 0.0389\n",
      "Epoch 100/200\n",
      "16/16 [==============================] - 0s 16ms/step - loss: 0.0394 - reconstruction_loss: 0.0388\n",
      "Epoch 101/200\n",
      "16/16 [==============================] - 0s 17ms/step - loss: 0.0390 - reconstruction_loss: 0.0388\n",
      "Epoch 102/200\n",
      "16/16 [==============================] - 0s 17ms/step - loss: 0.0391 - reconstruction_loss: 0.0387\n",
      "Epoch 103/200\n",
      "16/16 [==============================] - 0s 17ms/step - loss: 0.0387 - reconstruction_loss: 0.0388\n",
      "Epoch 104/200\n",
      "16/16 [==============================] - 0s 17ms/step - loss: 0.0385 - reconstruction_loss: 0.0387\n",
      "Epoch 105/200\n",
      "16/16 [==============================] - 0s 17ms/step - loss: 0.0387 - reconstruction_loss: 0.0386\n",
      "Epoch 106/200\n",
      "16/16 [==============================] - 0s 16ms/step - loss: 0.0390 - reconstruction_loss: 0.0386\n",
      "Epoch 107/200\n",
      "16/16 [==============================] - 0s 16ms/step - loss: 0.0384 - reconstruction_loss: 0.0386\n",
      "Epoch 108/200\n",
      "16/16 [==============================] - 0s 16ms/step - loss: 0.0389 - reconstruction_loss: 0.0385\n",
      "Epoch 109/200\n",
      "16/16 [==============================] - 0s 16ms/step - loss: 0.0387 - reconstruction_loss: 0.0386\n",
      "Epoch 110/200\n",
      "16/16 [==============================] - 0s 17ms/step - loss: 0.0387 - reconstruction_loss: 0.0386\n",
      "Epoch 111/200\n",
      "16/16 [==============================] - 0s 16ms/step - loss: 0.0381 - reconstruction_loss: 0.0385\n",
      "Epoch 112/200\n",
      "16/16 [==============================] - 0s 16ms/step - loss: 0.0382 - reconstruction_loss: 0.0385\n",
      "Epoch 113/200\n",
      "16/16 [==============================] - 0s 16ms/step - loss: 0.0381 - reconstruction_loss: 0.0383\n",
      "Epoch 114/200\n",
      "16/16 [==============================] - 0s 17ms/step - loss: 0.0386 - reconstruction_loss: 0.0385\n",
      "Epoch 115/200\n",
      "16/16 [==============================] - 0s 17ms/step - loss: 0.0387 - reconstruction_loss: 0.0386\n",
      "Epoch 116/200\n",
      "16/16 [==============================] - 0s 17ms/step - loss: 0.0385 - reconstruction_loss: 0.0384\n",
      "Epoch 117/200\n",
      "16/16 [==============================] - 0s 16ms/step - loss: 0.0384 - reconstruction_loss: 0.0383\n",
      "Epoch 118/200\n",
      "16/16 [==============================] - 0s 16ms/step - loss: 0.0383 - reconstruction_loss: 0.0382\n",
      "Epoch 119/200\n",
      "16/16 [==============================] - 0s 17ms/step - loss: 0.0382 - reconstruction_loss: 0.0382\n",
      "Epoch 120/200\n",
      "16/16 [==============================] - 0s 18ms/step - loss: 0.0385 - reconstruction_loss: 0.0381\n",
      "Epoch 121/200\n",
      "16/16 [==============================] - 0s 17ms/step - loss: 0.0378 - reconstruction_loss: 0.0379\n",
      "Epoch 122/200\n",
      "16/16 [==============================] - 0s 17ms/step - loss: 0.0381 - reconstruction_loss: 0.0379\n",
      "Epoch 123/200\n",
      "16/16 [==============================] - 0s 17ms/step - loss: 0.0382 - reconstruction_loss: 0.0378\n",
      "Epoch 124/200\n",
      "16/16 [==============================] - 0s 19ms/step - loss: 0.0378 - reconstruction_loss: 0.0377\n",
      "Epoch 125/200\n",
      "16/16 [==============================] - 0s 16ms/step - loss: 0.0374 - reconstruction_loss: 0.0375\n",
      "Epoch 126/200\n",
      "16/16 [==============================] - 0s 17ms/step - loss: 0.0374 - reconstruction_loss: 0.0374\n",
      "Epoch 127/200\n",
      "16/16 [==============================] - 0s 17ms/step - loss: 0.0376 - reconstruction_loss: 0.0371\n",
      "Epoch 128/200\n",
      "16/16 [==============================] - 0s 17ms/step - loss: 0.0370 - reconstruction_loss: 0.0369\n",
      "Epoch 129/200\n",
      "16/16 [==============================] - 0s 17ms/step - loss: 0.0370 - reconstruction_loss: 0.0367\n",
      "Epoch 130/200\n",
      "16/16 [==============================] - 0s 17ms/step - loss: 0.0368 - reconstruction_loss: 0.0366\n",
      "Epoch 131/200\n",
      "16/16 [==============================] - 0s 17ms/step - loss: 0.0359 - reconstruction_loss: 0.0364\n",
      "Epoch 132/200\n",
      "16/16 [==============================] - 0s 17ms/step - loss: 0.0362 - reconstruction_loss: 0.0363\n",
      "Epoch 133/200\n",
      "16/16 [==============================] - 0s 16ms/step - loss: 0.0367 - reconstruction_loss: 0.0363\n",
      "Epoch 134/200\n",
      "16/16 [==============================] - 0s 17ms/step - loss: 0.0366 - reconstruction_loss: 0.0362\n",
      "Epoch 135/200\n",
      "16/16 [==============================] - 0s 16ms/step - loss: 0.0365 - reconstruction_loss: 0.0359\n",
      "Epoch 136/200\n",
      "16/16 [==============================] - 0s 17ms/step - loss: 0.0364 - reconstruction_loss: 0.0358\n",
      "Epoch 137/200\n",
      "16/16 [==============================] - 0s 17ms/step - loss: 0.0356 - reconstruction_loss: 0.0358\n",
      "Epoch 138/200\n",
      "16/16 [==============================] - 0s 16ms/step - loss: 0.0358 - reconstruction_loss: 0.0356\n",
      "Epoch 139/200\n",
      "16/16 [==============================] - 0s 16ms/step - loss: 0.0359 - reconstruction_loss: 0.0356\n",
      "Epoch 140/200\n",
      "16/16 [==============================] - 0s 16ms/step - loss: 0.0356 - reconstruction_loss: 0.0355\n",
      "Epoch 141/200\n",
      "16/16 [==============================] - 0s 16ms/step - loss: 0.0352 - reconstruction_loss: 0.0354\n",
      "Epoch 142/200\n",
      "16/16 [==============================] - 0s 17ms/step - loss: 0.0354 - reconstruction_loss: 0.0353\n",
      "Epoch 143/200\n",
      "16/16 [==============================] - 0s 17ms/step - loss: 0.0354 - reconstruction_loss: 0.0353\n",
      "Epoch 144/200\n",
      "16/16 [==============================] - 0s 16ms/step - loss: 0.0360 - reconstruction_loss: 0.0355\n",
      "Epoch 145/200\n",
      "16/16 [==============================] - 0s 17ms/step - loss: 0.0351 - reconstruction_loss: 0.0352\n",
      "Epoch 146/200\n"
     ]
    },
    {
     "name": "stdout",
     "output_type": "stream",
     "text": [
      "16/16 [==============================] - 0s 19ms/step - loss: 0.0346 - reconstruction_loss: 0.0351\n",
      "Epoch 147/200\n",
      "16/16 [==============================] - 0s 16ms/step - loss: 0.0353 - reconstruction_loss: 0.0350\n",
      "Epoch 148/200\n",
      "16/16 [==============================] - 0s 17ms/step - loss: 0.0352 - reconstruction_loss: 0.0352\n",
      "Epoch 149/200\n",
      "16/16 [==============================] - 0s 16ms/step - loss: 0.0351 - reconstruction_loss: 0.0350\n",
      "Epoch 150/200\n",
      "16/16 [==============================] - 0s 16ms/step - loss: 0.0348 - reconstruction_loss: 0.0348\n",
      "Epoch 151/200\n",
      "16/16 [==============================] - 0s 23ms/step - loss: 0.0351 - reconstruction_loss: 0.0349\n",
      "Epoch 152/200\n",
      "16/16 [==============================] - 0s 17ms/step - loss: 0.0346 - reconstruction_loss: 0.0348\n",
      "Epoch 153/200\n",
      "16/16 [==============================] - 0s 16ms/step - loss: 0.0348 - reconstruction_loss: 0.0347\n",
      "Epoch 154/200\n",
      "16/16 [==============================] - 0s 16ms/step - loss: 0.0346 - reconstruction_loss: 0.0346\n",
      "Epoch 155/200\n",
      "16/16 [==============================] - 0s 17ms/step - loss: 0.0344 - reconstruction_loss: 0.0346\n",
      "Epoch 156/200\n",
      "16/16 [==============================] - 0s 18ms/step - loss: 0.0345 - reconstruction_loss: 0.0345\n",
      "Epoch 157/200\n",
      "16/16 [==============================] - 0s 18ms/step - loss: 0.0344 - reconstruction_loss: 0.0345\n",
      "Epoch 158/200\n",
      "16/16 [==============================] - 0s 17ms/step - loss: 0.0349 - reconstruction_loss: 0.0346\n",
      "Epoch 159/200\n",
      "16/16 [==============================] - 0s 17ms/step - loss: 0.0347 - reconstruction_loss: 0.0344\n",
      "Epoch 160/200\n",
      "16/16 [==============================] - 0s 17ms/step - loss: 0.0340 - reconstruction_loss: 0.0344\n",
      "Epoch 161/200\n",
      "16/16 [==============================] - 0s 16ms/step - loss: 0.0344 - reconstruction_loss: 0.0346\n",
      "Epoch 162/200\n",
      "16/16 [==============================] - 0s 16ms/step - loss: 0.0348 - reconstruction_loss: 0.0346\n",
      "Epoch 163/200\n",
      "16/16 [==============================] - 0s 17ms/step - loss: 0.0345 - reconstruction_loss: 0.0344\n",
      "Epoch 164/200\n",
      "16/16 [==============================] - 0s 17ms/step - loss: 0.0343 - reconstruction_loss: 0.0343\n",
      "Epoch 165/200\n",
      "16/16 [==============================] - 0s 18ms/step - loss: 0.0340 - reconstruction_loss: 0.0343\n",
      "Epoch 166/200\n",
      "16/16 [==============================] - 0s 17ms/step - loss: 0.0343 - reconstruction_loss: 0.0344\n",
      "Epoch 167/200\n",
      "16/16 [==============================] - 0s 17ms/step - loss: 0.0345 - reconstruction_loss: 0.0344\n",
      "Epoch 168/200\n",
      "16/16 [==============================] - 0s 16ms/step - loss: 0.0344 - reconstruction_loss: 0.0344\n",
      "Epoch 169/200\n",
      "16/16 [==============================] - 0s 17ms/step - loss: 0.0343 - reconstruction_loss: 0.0343\n",
      "Epoch 170/200\n",
      "16/16 [==============================] - 0s 17ms/step - loss: 0.0341 - reconstruction_loss: 0.0342\n",
      "Epoch 171/200\n",
      "16/16 [==============================] - 0s 17ms/step - loss: 0.0341 - reconstruction_loss: 0.0343\n",
      "Epoch 172/200\n",
      "16/16 [==============================] - 0s 17ms/step - loss: 0.0341 - reconstruction_loss: 0.0343\n",
      "Epoch 173/200\n",
      "16/16 [==============================] - 0s 17ms/step - loss: 0.0344 - reconstruction_loss: 0.0343\n",
      "Epoch 174/200\n",
      "16/16 [==============================] - 0s 18ms/step - loss: 0.0343 - reconstruction_loss: 0.0342\n",
      "Epoch 175/200\n",
      "16/16 [==============================] - 0s 17ms/step - loss: 0.0341 - reconstruction_loss: 0.0342\n",
      "Epoch 176/200\n",
      "16/16 [==============================] - 0s 17ms/step - loss: 0.0343 - reconstruction_loss: 0.0342\n",
      "Epoch 177/200\n",
      "16/16 [==============================] - 0s 17ms/step - loss: 0.0343 - reconstruction_loss: 0.0342\n",
      "Epoch 178/200\n",
      "16/16 [==============================] - 0s 16ms/step - loss: 0.0344 - reconstruction_loss: 0.0344\n",
      "Epoch 179/200\n",
      "16/16 [==============================] - 0s 16ms/step - loss: 0.0341 - reconstruction_loss: 0.0342\n",
      "Epoch 180/200\n",
      "16/16 [==============================] - 0s 18ms/step - loss: 0.0341 - reconstruction_loss: 0.0342\n",
      "Epoch 181/200\n",
      "16/16 [==============================] - 0s 17ms/step - loss: 0.0339 - reconstruction_loss: 0.0341\n",
      "Epoch 182/200\n",
      "16/16 [==============================] - 0s 16ms/step - loss: 0.0342 - reconstruction_loss: 0.0341\n",
      "Epoch 183/200\n",
      "16/16 [==============================] - 0s 18ms/step - loss: 0.0340 - reconstruction_loss: 0.0341\n",
      "Epoch 184/200\n",
      "16/16 [==============================] - 0s 17ms/step - loss: 0.0340 - reconstruction_loss: 0.0340\n",
      "Epoch 185/200\n",
      "16/16 [==============================] - 0s 17ms/step - loss: 0.0344 - reconstruction_loss: 0.0342\n",
      "Epoch 186/200\n",
      "16/16 [==============================] - 0s 16ms/step - loss: 0.0344 - reconstruction_loss: 0.0341\n",
      "Epoch 187/200\n",
      "16/16 [==============================] - 0s 19ms/step - loss: 0.0340 - reconstruction_loss: 0.0340\n",
      "Epoch 188/200\n",
      "16/16 [==============================] - 0s 17ms/step - loss: 0.0340 - reconstruction_loss: 0.0340\n",
      "Epoch 189/200\n",
      "16/16 [==============================] - 0s 17ms/step - loss: 0.0339 - reconstruction_loss: 0.0340\n",
      "Epoch 190/200\n",
      "16/16 [==============================] - 0s 17ms/step - loss: 0.0338 - reconstruction_loss: 0.0339\n",
      "Epoch 191/200\n",
      "16/16 [==============================] - 0s 17ms/step - loss: 0.0340 - reconstruction_loss: 0.0338\n",
      "Epoch 192/200\n",
      "16/16 [==============================] - 0s 17ms/step - loss: 0.0340 - reconstruction_loss: 0.0339\n",
      "Epoch 193/200\n",
      "16/16 [==============================] - 0s 17ms/step - loss: 0.0338 - reconstruction_loss: 0.0339\n",
      "Epoch 194/200\n",
      "16/16 [==============================] - 0s 17ms/step - loss: 0.0337 - reconstruction_loss: 0.0338\n",
      "Epoch 195/200\n",
      "16/16 [==============================] - 0s 17ms/step - loss: 0.0338 - reconstruction_loss: 0.0339\n",
      "Epoch 196/200\n",
      "16/16 [==============================] - 0s 17ms/step - loss: 0.0338 - reconstruction_loss: 0.0338\n",
      "Epoch 197/200\n",
      "16/16 [==============================] - 0s 17ms/step - loss: 0.0337 - reconstruction_loss: 0.0337\n",
      "Epoch 198/200\n",
      "16/16 [==============================] - 0s 17ms/step - loss: 0.0337 - reconstruction_loss: 0.0338\n",
      "Epoch 199/200\n",
      "16/16 [==============================] - 0s 17ms/step - loss: 0.0339 - reconstruction_loss: 0.0339\n",
      "Epoch 200/200\n",
      "16/16 [==============================] - 0s 18ms/step - loss: 0.0339 - reconstruction_loss: 0.0338\n"
     ]
    },
    {
     "data": {
      "text/plain": [
       "<keras.callbacks.History at 0x15ae84ee0>"
      ]
     },
     "execution_count": 8,
     "metadata": {},
     "output_type": "execute_result"
    }
   ],
   "source": [
    "img_dim = x_train.shape[1:]\n",
    "latent_dim = 2 #same dimension as the size of our state variable for the dynamic updates \n",
    "\n",
    "ae = AE(build_encoder(input_shape = img_dim, latent_dim = latent_dim), \n",
    "        build_decoder(output_shape = int(np.prod(img_dim)), latent_dim = latent_dim))\n",
    "ae.compile(optimizer=tfk.optimizers.Adam()) #specify the optimizer reference in class above \n",
    "ae.fit(x_train, epochs=200, batch_size=64)"
   ]
  },
  {
   "cell_type": "code",
   "execution_count": 15,
   "id": "353f858b",
   "metadata": {},
   "outputs": [
    {
     "data": {
      "text/plain": [
       "[<matplotlib.lines.Line2D at 0x15439fa90>]"
      ]
     },
     "execution_count": 15,
     "metadata": {},
     "output_type": "execute_result"
    },
    {
     "data": {
      "image/png": "[encoded data removed]",
      "text/plain": [
       "<Figure size 432x288 with 1 Axes>"
      ]
     },
     "metadata": {
      "needs_background": "light"
     },
     "output_type": "display_data"
    }
   ],
   "source": [
    "#generate test data and make some predictions\n",
    "params = {'c':0.6, 'm':0.2, 'k':1}\n",
    "x0 = [1, 1]\n",
    "t = np.arange(0, 20, 0.1)\n",
    "\n",
    "x_test = generate_spring_data(params,t,x0)\n",
    "\n",
    "\n",
    "plt.plot(x_test[:,0])"
   ]
  },
  {
   "cell_type": "code",
   "execution_count": 16,
   "id": "ffd60eaf",
   "metadata": {},
   "outputs": [
    {
     "data": {
      "text/plain": [
       "(200, 51, 51)"
      ]
     },
     "execution_count": 16,
     "metadata": {},
     "output_type": "execute_result"
    }
   ],
   "source": [
    "y,_,_ = spring_to_movie(x_test[:,0], dt=0.1, dim = dim)\n",
    "y.shape"
   ]
  },
  {
   "cell_type": "code",
   "execution_count": 17,
   "id": "f6de6bdf",
   "metadata": {},
   "outputs": [
    {
     "ename": "NameError",
     "evalue": "name 'ae' is not defined",
     "output_type": "error",
     "traceback": [
      "\u001b[0;31m---------------------------------------------------------------------------\u001b[0m",
      "\u001b[0;31mNameError\u001b[0m                                 Traceback (most recent call last)",
      "\u001b[0;32m<ipython-input-17-0e699dac9a1b>\u001b[0m in \u001b[0;36m<module>\u001b[0;34m\u001b[0m\n\u001b[0;32m----> 1\u001b[0;31m \u001b[0my_pred\u001b[0m \u001b[0;34m=\u001b[0m \u001b[0mae\u001b[0m\u001b[0;34m.\u001b[0m\u001b[0mdecoder\u001b[0m\u001b[0;34m(\u001b[0m\u001b[0mae\u001b[0m\u001b[0;34m.\u001b[0m\u001b[0mencoder\u001b[0m\u001b[0;34m(\u001b[0m\u001b[0mnp\u001b[0m\u001b[0;34m.\u001b[0m\u001b[0mreshape\u001b[0m\u001b[0;34m(\u001b[0m\u001b[0my\u001b[0m\u001b[0;34m,\u001b[0m \u001b[0;34m(\u001b[0m\u001b[0my\u001b[0m\u001b[0;34m.\u001b[0m\u001b[0mshape\u001b[0m\u001b[0;34m[\u001b[0m\u001b[0;36m0\u001b[0m\u001b[0;34m]\u001b[0m\u001b[0;34m,\u001b[0m \u001b[0mdim\u001b[0m\u001b[0;34m*\u001b[0m\u001b[0mdim\u001b[0m\u001b[0;34m)\u001b[0m\u001b[0;34m)\u001b[0m\u001b[0;34m)\u001b[0m\u001b[0;34m)\u001b[0m\u001b[0;34m\u001b[0m\u001b[0;34m\u001b[0m\u001b[0m\n\u001b[0m\u001b[1;32m      2\u001b[0m \u001b[0my_pred\u001b[0m \u001b[0;34m=\u001b[0m \u001b[0mnp\u001b[0m\u001b[0;34m.\u001b[0m\u001b[0mreshape\u001b[0m\u001b[0;34m(\u001b[0m\u001b[0my_pred\u001b[0m\u001b[0;34m,\u001b[0m \u001b[0;34m(\u001b[0m\u001b[0my\u001b[0m\u001b[0;34m.\u001b[0m\u001b[0mshape\u001b[0m\u001b[0;34m[\u001b[0m\u001b[0;36m0\u001b[0m\u001b[0;34m]\u001b[0m\u001b[0;34m,\u001b[0m \u001b[0mdim\u001b[0m\u001b[0;34m,\u001b[0m \u001b[0mdim\u001b[0m\u001b[0;34m)\u001b[0m\u001b[0;34m)\u001b[0m\u001b[0;34m\u001b[0m\u001b[0;34m\u001b[0m\u001b[0m\n",
      "\u001b[0;31mNameError\u001b[0m: name 'ae' is not defined"
     ]
    }
   ],
   "source": [
    "y_pred = ae.decoder(ae.encoder(np.reshape(y, (y.shape[0], dim*dim))))\n",
    "y_pred = np.reshape(y_pred, (y.shape[0], dim, dim))\n"
   ]
  },
  {
   "cell_type": "code",
   "execution_count": 12,
   "id": "5e7dc43a",
   "metadata": {},
   "outputs": [
    {
     "data": {
      "image/png": "[encoded data removed]",
      "text/plain": [
       "<Figure size 1296x288 with 20 Axes>"
      ]
     },
     "metadata": {
      "needs_background": "light"
     },
     "output_type": "display_data"
    }
   ],
   "source": [
    "fig, axs = plt.subplots(2,10, figsize=(18,4))\n",
    "\n",
    "for i in range(10):\n",
    "    axs[0][i].imshow(y[i*5], cmap = \"gray\")\n",
    "    axs[1][i].imshow(y_pred[i*5], cmap = \"gray\")"
   ]
  },
  {
   "cell_type": "markdown",
   "id": "b4582093",
   "metadata": {},
   "source": [
    "## An entire aside on testing the subclassed model performance on MNIST "
   ]
  },
  {
   "cell_type": "code",
   "execution_count": 96,
   "id": "498ceff0",
   "metadata": {},
   "outputs": [
    {
     "name": "stdout",
     "output_type": "stream",
     "text": [
      "(60000, 28, 28) (10000, 28, 28)\n",
      "(60000, 784)\n",
      "(10000, 784)\n"
     ]
    }
   ],
   "source": [
    "#don't need labels since self-supervised \n",
    "(x_train, _), (x_test, _) = tfk.datasets.mnist.load_data()\n",
    "print(x_train.shape, x_test.shape)\n",
    "\n",
    "#preprocess the data\n",
    "x_train = x_train.astype('float32') / 255. #normalize \n",
    "x_test = x_test.astype('float32') / 255.\n",
    "\n",
    "x_train = x_train.reshape((len(x_train), x_train[0].size))\n",
    "x_test = x_test.reshape((len(x_test), x_test[0].size))\n",
    "print(x_train.shape)\n",
    "print(x_test.shape)"
   ]
  },
  {
   "cell_type": "code",
   "execution_count": 97,
   "id": "99a54db3",
   "metadata": {},
   "outputs": [],
   "source": [
    "#i know this works with a specific network type \n",
    "encoding_dim = 32\n",
    "dim = x_train[0].size\n",
    "\n",
    "input_img = tfk.layers.Input(shape=(dim,), name = \"input\")\n",
    "encoded = tfk.layers.Dense(units = encoding_dim, activation = 'relu', name = 'latent')(input_img)\n",
    "decoded = tfk.layers.Dense(units = dim, activation = 'sigmoid', name = \"output\")(encoded)\n",
    "\n",
    "autoencoder = tfk.Model(input_img, decoded, name = \"autoencoder\")\n",
    "encoder = tfk.Model(input_img, encoded, name = \"encoder\")\n",
    "\n",
    "#now create the decoder architecture \n",
    "encoded_input = tfk.layers.Input(shape=(encoding_dim,), name = \"input\") #new layer of type `Input`\n",
    "decoded_output = autoencoder.layers[-1](encoded_input) #reuse the decoded layer \n",
    "\n",
    "decoder = tfk.Model(encoded_input, decoded_output, name = \"decoder\") "
   ]
  },
  {
   "cell_type": "code",
   "execution_count": 117,
   "id": "9bd6a243",
   "metadata": {
    "scrolled": true
   },
   "outputs": [
    {
     "ename": "NameError",
     "evalue": "name 'encoding_dim' is not defined",
     "output_type": "error",
     "traceback": [
      "\u001b[0;31m---------------------------------------------------------------------------\u001b[0m",
      "\u001b[0;31mNameError\u001b[0m                                 Traceback (most recent call last)",
      "\u001b[0;32m<ipython-input-117-3cc644e23e80>\u001b[0m in \u001b[0;36m<module>\u001b[0;34m\u001b[0m\n\u001b[0;32m----> 1\u001b[0;31m ae = AE(build_encoder(input_shape = dim, latent_dim = encoding_dim), \n\u001b[0m\u001b[1;32m      2\u001b[0m         build_decoder(output_shape = int(np.prod(dim)), latent_dim = encoding_dim))\n\u001b[1;32m      3\u001b[0m \u001b[0;34m\u001b[0m\u001b[0m\n\u001b[1;32m      4\u001b[0m \u001b[0mae\u001b[0m\u001b[0;34m.\u001b[0m\u001b[0mcompile\u001b[0m\u001b[0;34m(\u001b[0m\u001b[0moptimizer\u001b[0m\u001b[0;34m=\u001b[0m\u001b[0mtfk\u001b[0m\u001b[0;34m.\u001b[0m\u001b[0moptimizers\u001b[0m\u001b[0;34m.\u001b[0m\u001b[0mAdam\u001b[0m\u001b[0;34m(\u001b[0m\u001b[0;34m)\u001b[0m\u001b[0;34m)\u001b[0m \u001b[0;31m#specify the optimizer reference in class above\u001b[0m\u001b[0;34m\u001b[0m\u001b[0;34m\u001b[0m\u001b[0m\n\u001b[1;32m      5\u001b[0m \u001b[0mae\u001b[0m\u001b[0;34m.\u001b[0m\u001b[0mfit\u001b[0m\u001b[0;34m(\u001b[0m\u001b[0mx_train\u001b[0m\u001b[0;34m,\u001b[0m \u001b[0mepochs\u001b[0m\u001b[0;34m=\u001b[0m\u001b[0;36m10\u001b[0m\u001b[0;34m,\u001b[0m \u001b[0mbatch_size\u001b[0m\u001b[0;34m=\u001b[0m\u001b[0;36m256\u001b[0m\u001b[0;34m)\u001b[0m\u001b[0;34m\u001b[0m\u001b[0;34m\u001b[0m\u001b[0m\n",
      "\u001b[0;31mNameError\u001b[0m: name 'encoding_dim' is not defined"
     ]
    }
   ],
   "source": [
    "ae = AE(build_encoder(input_shape = dim, latent_dim = encoding_dim), \n",
    "        build_decoder(output_shape = int(np.prod(dim)), latent_dim = encoding_dim))\n",
    "\n",
    "ae.compile(optimizer=tfk.optimizers.Adam()) #specify the optimizer reference in class above \n",
    "ae.fit(x_train, epochs=10, batch_size=256)"
   ]
  },
  {
   "cell_type": "code",
   "execution_count": 99,
   "id": "2e8437cb",
   "metadata": {},
   "outputs": [],
   "source": [
    "pred = ae.decoder(ae.encoder(x_train))\n",
    "pred = np.reshape(pred, (x_train.shape[0], 28,28))\n"
   ]
  },
  {
   "cell_type": "code",
   "execution_count": 100,
   "id": "65805ebf",
   "metadata": {},
   "outputs": [
    {
     "data": {
      "image/png": "[encoded data removed]",
      "text/plain": [
       "<Figure size 1296x288 with 20 Axes>"
      ]
     },
     "metadata": {
      "needs_background": "light"
     },
     "output_type": "display_data"
    }
   ],
   "source": [
    "fig, axs = plt.subplots(2,10, figsize=(18,4))\n",
    "\n",
    "for i in range(10):\n",
    "    axs[0][i].imshow(x_train[i].reshape(28,28), cmap = \"gray\")\n",
    "    axs[1][i].imshow(pred[i], cmap = \"gray\")"
   ]
  },
  {
   "cell_type": "markdown",
   "id": "719412bd",
   "metadata": {},
   "source": [
    "### aside done...\n",
    "\n",
    "## pass derivative info through encoder and decoder \n",
    "- encoder should return the derivatives as well "
   ]
  },
  {
   "cell_type": "code",
   "execution_count": 87,
   "id": "22372e7a",
   "metadata": {},
   "outputs": [
    {
     "name": "stdout",
     "output_type": "stream",
     "text": [
      "Model: \"simple\"\n",
      "_________________________________________________________________\n",
      " Layer (type)                Output Shape              Param #   \n",
      "=================================================================\n",
      " input (InputLayer)          [(None, 1, 1)]            0         \n",
      "                                                                 \n",
      " hidden1 (Dense)             (None, 1, 2)              4         \n",
      "                                                                 \n",
      " hidden2 (Dense)             (None, 1, 2)              6         \n",
      "                                                                 \n",
      " output (Dense)              (None, 1, 1)              3         \n",
      "                                                                 \n",
      "=================================================================\n",
      "Total params: 13\n",
      "Trainable params: 13\n",
      "Non-trainable params: 0\n",
      "_________________________________________________________________\n"
     ]
    }
   ],
   "source": [
    "#shallow network \n",
    "def my_init(shape, dtype=None):\n",
    "    return tf.ones(shape, dtype=dtype)\n",
    "\n",
    "a_ = tfk.Input(shape = (1,1), name = \"input\")\n",
    "a = tfk.layers.Dense(units = 2, kernel_initializer = my_init, activation = 'sigmoid', name = \"hidden1\")(a_)\n",
    "a = tfk.layers.Dense(units = 2, kernel_initializer = my_init, activation = 'sigmoid', name = \"hidden2\")(a)\n",
    "a = tfk.layers.Dense(units = 1, kernel_initializer = my_init, activation = 'sigmoid', name = \"output\")(a)\n",
    "\n",
    "\n",
    "m = tfk.Model(a_, a, name = \"simple\")\n",
    "m.summary()"
   ]
  },
  {
   "cell_type": "code",
   "execution_count": 88,
   "id": "2759954f",
   "metadata": {},
   "outputs": [],
   "source": [
    "a = tf.constant([0.], shape = (1,1))\n",
    "da = tf.constant([0.5], shape = (1,1))"
   ]
  },
  {
   "cell_type": "code",
   "execution_count": 89,
   "id": "cac4d62b",
   "metadata": {},
   "outputs": [],
   "source": [
    "temp = a\n",
    "dz = da\n",
    "for i in range(len(m.weights)//2):\n",
    "    weight = m.weights[2*i]\n",
    "    bias = m.weights[2*i+1]\n",
    "\n",
    "    temp = tf.matmul(temp, weight) + bias #pre-activation\n",
    "    temp = tf.nn.sigmoid(temp) #activation \n",
    "    \n",
    "    #dz = tf.multiply(tf.cast(temp>0, float), tf.matmul(dz, weight)) #derivative \n",
    "    dz = tf.multiply(temp*(1-temp), tf.matmul(dz, weight)) #derivative     "
   ]
  },
  {
   "cell_type": "code",
   "execution_count": 90,
   "id": "3b22384d",
   "metadata": {},
   "outputs": [
    {
     "data": {
      "text/plain": [
       "<tf.Tensor: shape=(), dtype=float32, numpy=0.01501581>"
      ]
     },
     "execution_count": 90,
     "metadata": {},
     "output_type": "execute_result"
    }
   ],
   "source": [
    "tf.nn.sigmoid(2*tf.nn.sigmoid(1.))*(1-tf.nn.sigmoid(2*tf.nn.sigmoid(1.)))*(tf.nn.sigmoid(1.)*(1-tf.nn.sigmoid(1.)))*0.5\n"
   ]
  },
  {
   "cell_type": "code",
   "execution_count": 91,
   "id": "54342f53",
   "metadata": {},
   "outputs": [
    {
     "data": {
      "text/plain": [
       "<tf.Tensor: shape=(1, 1), dtype=float32, numpy=array([[0.01501581]], dtype=float32)>"
      ]
     },
     "execution_count": 91,
     "metadata": {},
     "output_type": "execute_result"
    }
   ],
   "source": [
    "dz"
   ]
  },
  {
   "cell_type": "code",
   "execution_count": 230,
   "id": "c1a1f02d",
   "metadata": {},
   "outputs": [],
   "source": [
    "def z_derivative(model, data):\n",
    "    x, dx = data #unpack \n",
    "    temp = x\n",
    "    dz = dx\n",
    "    for i in range(len(model.weights)//2):\n",
    "        weight = model.weights[2*i]\n",
    "        bias = model.weights[2*i+1]\n",
    "\n",
    "        #add a switch case here or something for selecting the activation \n",
    "\n",
    "        temp = tf.matmul(temp, weight) + bias #pre-activation\n",
    "        temp = tf.nn.relu(temp) #activation \n",
    "\n",
    "        dz = tf.multiply(tf.cast(temp>0, float), tf.matmul(dz, weight)) #derivative \n",
    "        #dz = tf.multiply(temp*(1-temp), tf.matmul(dz, weight)) #derivative\n",
    "\n",
    "    return dz"
   ]
  },
  {
   "cell_type": "code",
   "execution_count": 231,
   "id": "2826ac18",
   "metadata": {},
   "outputs": [
    {
     "data": {
      "text/plain": [
       "<tf.Tensor: shape=(2, 1, 1), dtype=float32, numpy=\n",
       "array([[[0.]],\n",
       "\n",
       "       [[4.]]], dtype=float32)>"
      ]
     },
     "execution_count": 231,
     "metadata": {},
     "output_type": "execute_result"
    }
   ],
   "source": [
    "sample_data = tf.constant([0,1], shape=(2,1,1), dtype=float)\n",
    "sample_derivatives = tf.constant([0.5,1], shape=(2,1,1), dtype=float)\n",
    "\n",
    "z_derivative(m, (sample_data, sample_derivatives))"
   ]
  },
  {
   "cell_type": "code",
   "execution_count": 57,
   "id": "4ae9a05d",
   "metadata": {},
   "outputs": [],
   "source": [
    "class DAE(tfk.Model):\n",
    "    def __init__(self, encoder, decoder, **kwargs):\n",
    "        super().__init__(**kwargs)\n",
    "        self.encoder = encoder\n",
    "        self.decoder = decoder\n",
    "        \n",
    "        #stateful metrics \n",
    "        self.total_loss_tracker = tfk.metrics.Mean(name=\"total_loss\")\n",
    "        self.reconstruction_loss_tracker = tfk.metrics.Mean(\n",
    "            name=\"reconstruction_loss\"\n",
    "        )\n",
    "        self.dx_out_loss_tracker = tfk.metrics.Mean(name=\"dx_out_loss\")\n",
    "\n",
    "    @property\n",
    "    def metrics(self):\n",
    "        return [\n",
    "            self.total_loss_tracker,\n",
    "            self.reconstruction_loss_tracker,\n",
    "            self.dx_out_loss_tracker\n",
    "        ]\n",
    "    \n",
    "    def z_derivative(self, model, data):\n",
    "        x, dx = data #unpack \n",
    "        temp = x\n",
    "        dz = dx\n",
    "        for i in range(len(model.weights)//2):\n",
    "            temp = tf.matmul(temp, model.weights[2*i]) + model.weights[2*i+1] #pre-activation\n",
    "            temp = tf.nn.relu(temp) #activation \n",
    "\n",
    "            dz = tf.multiply(tf.cast(temp>0, float), tf.matmul(dz, model.weights[2*i])) #relu derivative \n",
    "            #dz = tf.multiply(temp*(1-temp), tf.matmul(dz, weight)) #sigmoid derivative\n",
    "\n",
    "        return dz\n",
    "    \n",
    "    def train_step(self, data):\n",
    "        with tf.GradientTape() as tape:\n",
    "            #unpacking positional and derivative information \n",
    "            x, dx = tf.unstack(data[1])  #symbolic tensors not iterable so i have to do this \n",
    "            x = x[None,:]\n",
    "            dx = dx[None,:]\n",
    "        \n",
    "            z = self.encoder(x) \n",
    "            reconstruction = self.decoder(z) \n",
    "            \n",
    "            #derivatives \n",
    "            dz = self.z_derivative(self.encoder, (x,dx))\n",
    "            dx_out = self.z_derivative(self.decoder, (z,dz)) \n",
    "            \n",
    "            #least squares regression for coef predictions \n",
    "\n",
    "            reconstruction_loss = tf.reduce_mean(\n",
    "                    tfk.losses.binary_crossentropy(x, reconstruction)\n",
    "            )\n",
    "            \n",
    "            \n",
    "            dx_out_loss = tf.losses.MeanSquaredError()(dx, dx_out)\n",
    "            \n",
    "            \n",
    "            total_loss = reconstruction_loss + (1e-04)*dx_out_loss\n",
    "            \n",
    "        #de-facto \n",
    "        grads = tape.gradient(total_loss, self.trainable_weights)\n",
    "        self.optimizer.apply_gradients(zip(grads, self.trainable_weights)) #will need to specify an optimizer \n",
    "        self.total_loss_tracker.update_state(total_loss)\n",
    "        self.reconstruction_loss_tracker.update_state(reconstruction_loss)\n",
    "        self.dx_out_loss_tracker.update_state(dx_out_loss)\n",
    "        \n",
    "        return {\n",
    "            \"loss\": self.total_loss_tracker.result(),\n",
    "            \"reconstruction_loss\": self.reconstruction_loss_tracker.result(),\n",
    "            \"dx_out_loss\": self.dx_out_loss_tracker.result(),\n",
    "        }"
   ]
  },
  {
   "cell_type": "code",
   "execution_count": 58,
   "id": "b4da57bf",
   "metadata": {},
   "outputs": [
    {
     "name": "stdout",
     "output_type": "stream",
     "text": [
      "(1000, 2, 2601)\n"
     ]
    }
   ],
   "source": [
    "#now our dataset consists of BOTH images and their derivatives\n",
    "x_ = np.reshape(x, (x.shape[0], np.prod(x.shape[1:])))\n",
    "dx_ = np.reshape(dx, (dx.shape[0], np.prod(dx.shape[1:])))\n",
    "\n",
    "x_train = np.array(list(zip(x_, dx_)))\n",
    "\n",
    "print(x_train.shape)"
   ]
  },
  {
   "cell_type": "code",
   "execution_count": 59,
   "id": "08a2fc93",
   "metadata": {},
   "outputs": [
    {
     "data": {
      "text/plain": [
       "<matplotlib.image.AxesImage at 0x15f6a4c10>"
      ]
     },
     "execution_count": 59,
     "metadata": {},
     "output_type": "execute_result"
    },
    {
     "data": {
      "image/png": "[encoded data removed]",
      "text/plain": [
       "<Figure size 432x288 with 2 Axes>"
      ]
     },
     "metadata": {
      "needs_background": "light"
     },
     "output_type": "display_data"
    }
   ],
   "source": [
    "#baseline \n",
    "f, a = plt.subplots(1,2)\n",
    "i = 100\n",
    "a[0].imshow(x[i].reshape(51,51), cmap = 'gray')\n",
    "a[1].imshow(dx[i].reshape(51,51), cmap = 'gray')"
   ]
  },
  {
   "cell_type": "code",
   "execution_count": 60,
   "id": "123b902b",
   "metadata": {},
   "outputs": [
    {
     "data": {
      "text/plain": [
       "<matplotlib.image.AxesImage at 0x15f776bb0>"
      ]
     },
     "execution_count": 60,
     "metadata": {},
     "output_type": "execute_result"
    },
    {
     "data": {
      "image/png": "[encoded data removed]",
      "text/plain": [
       "<Figure size 432x288 with 2 Axes>"
      ]
     },
     "metadata": {
      "needs_background": "light"
     },
     "output_type": "display_data"
    }
   ],
   "source": [
    "f, a = plt.subplots(1,2)\n",
    "i = 100\n",
    "a[0].imshow(x_train[i][0].reshape(51,51), cmap = 'gray')\n",
    "a[1].imshow(x_train[i][1].reshape(51,51), cmap = 'gray')"
   ]
  },
  {
   "cell_type": "code",
   "execution_count": 61,
   "id": "a366680b",
   "metadata": {
    "scrolled": true
   },
   "outputs": [
    {
     "name": "stdout",
     "output_type": "stream",
     "text": [
      "Epoch 1/200\n",
      "16/16 [==============================] - 1s 3ms/step - loss: 0.6854 - reconstruction_loss: 0.6693 - dx_out_loss: 0.0305\n",
      "Epoch 2/200\n",
      "16/16 [==============================] - 0s 4ms/step - loss: 0.4396 - reconstruction_loss: 0.2875 - dx_out_loss: 0.0375\n",
      "Epoch 3/200\n",
      "16/16 [==============================] - 0s 4ms/step - loss: 0.0542 - reconstruction_loss: 0.0517 - dx_out_loss: 0.0243\n",
      "Epoch 4/200\n",
      "16/16 [==============================] - 0s 3ms/step - loss: 0.0630 - reconstruction_loss: 0.0548 - dx_out_loss: 0.0178\n",
      "Epoch 5/200\n",
      "16/16 [==============================] - 0s 4ms/step - loss: 0.0380 - reconstruction_loss: 0.0456 - dx_out_loss: 0.0360\n",
      "Epoch 6/200\n",
      "16/16 [==============================] - 0s 3ms/step - loss: 0.0382 - reconstruction_loss: 0.0421 - dx_out_loss: 0.0265\n",
      "Epoch 7/200\n",
      "16/16 [==============================] - 0s 3ms/step - loss: 0.0408 - reconstruction_loss: 0.0421 - dx_out_loss: 0.0236\n",
      "Epoch 8/200\n",
      "16/16 [==============================] - 0s 3ms/step - loss: 0.0367 - reconstruction_loss: 0.0378 - dx_out_loss: 0.0175\n",
      "Epoch 9/200\n",
      "16/16 [==============================] - 0s 3ms/step - loss: 0.0422 - reconstruction_loss: 0.0441 - dx_out_loss: 0.0358\n",
      "Epoch 10/200\n",
      "16/16 [==============================] - 0s 3ms/step - loss: 0.0434 - reconstruction_loss: 0.0415 - dx_out_loss: 0.0303\n",
      "Epoch 11/200\n",
      "16/16 [==============================] - 0s 3ms/step - loss: 0.0432 - reconstruction_loss: 0.0489 - dx_out_loss: 0.0324\n",
      "Epoch 12/200\n",
      "16/16 [==============================] - 0s 3ms/step - loss: 0.0363 - reconstruction_loss: 0.0382 - dx_out_loss: 0.0504\n",
      "Epoch 13/200\n",
      "16/16 [==============================] - 0s 3ms/step - loss: 0.0328 - reconstruction_loss: 0.0331 - dx_out_loss: 0.0087\n",
      "Epoch 14/200\n",
      "16/16 [==============================] - 0s 3ms/step - loss: 0.0416 - reconstruction_loss: 0.0381 - dx_out_loss: 0.0299\n",
      "Epoch 15/200\n",
      "16/16 [==============================] - 0s 3ms/step - loss: 0.0471 - reconstruction_loss: 0.0399 - dx_out_loss: 0.0212\n",
      "Epoch 16/200\n",
      "16/16 [==============================] - 0s 3ms/step - loss: 0.0386 - reconstruction_loss: 0.0398 - dx_out_loss: 0.0316\n",
      "Epoch 17/200\n",
      "16/16 [==============================] - 0s 3ms/step - loss: 0.0446 - reconstruction_loss: 0.0483 - dx_out_loss: 0.0250\n",
      "Epoch 18/200\n",
      "16/16 [==============================] - 0s 4ms/step - loss: 0.0433 - reconstruction_loss: 0.0442 - dx_out_loss: 0.0359\n",
      "Epoch 19/200\n",
      "16/16 [==============================] - 0s 8ms/step - loss: 0.0453 - reconstruction_loss: 0.0465 - dx_out_loss: 0.0519\n",
      "Epoch 20/200\n",
      "16/16 [==============================] - 0s 4ms/step - loss: 0.0465 - reconstruction_loss: 0.0404 - dx_out_loss: 0.0139\n",
      "Epoch 21/200\n",
      "16/16 [==============================] - 0s 4ms/step - loss: 0.0408 - reconstruction_loss: 0.0416 - dx_out_loss: 0.0508\n",
      "Epoch 22/200\n",
      "16/16 [==============================] - 0s 3ms/step - loss: 0.0391 - reconstruction_loss: 0.0458 - dx_out_loss: 0.0325\n",
      "Epoch 23/200\n",
      "16/16 [==============================] - 0s 3ms/step - loss: 0.0421 - reconstruction_loss: 0.0427 - dx_out_loss: 0.0109\n",
      "Epoch 24/200\n",
      "16/16 [==============================] - 0s 3ms/step - loss: 0.0459 - reconstruction_loss: 0.0462 - dx_out_loss: 0.0254\n",
      "Epoch 25/200\n",
      "16/16 [==============================] - 0s 3ms/step - loss: 0.0460 - reconstruction_loss: 0.0445 - dx_out_loss: 0.0256\n",
      "Epoch 26/200\n",
      "16/16 [==============================] - 0s 4ms/step - loss: 0.0525 - reconstruction_loss: 0.0445 - dx_out_loss: 0.0242\n",
      "Epoch 27/200\n",
      "16/16 [==============================] - 0s 4ms/step - loss: 0.0373 - reconstruction_loss: 0.0402 - dx_out_loss: 0.0149\n",
      "Epoch 28/200\n",
      "16/16 [==============================] - 0s 4ms/step - loss: 0.0536 - reconstruction_loss: 0.0456 - dx_out_loss: 0.0084\n",
      "Epoch 29/200\n",
      "16/16 [==============================] - 0s 6ms/step - loss: 0.0360 - reconstruction_loss: 0.0365 - dx_out_loss: 0.0078\n",
      "Epoch 30/200\n",
      "16/16 [==============================] - 0s 6ms/step - loss: 0.0406 - reconstruction_loss: 0.0393 - dx_out_loss: 0.0169\n",
      "Epoch 31/200\n",
      "16/16 [==============================] - 0s 5ms/step - loss: 0.0384 - reconstruction_loss: 0.0419 - dx_out_loss: 0.0195\n",
      "Epoch 32/200\n",
      "16/16 [==============================] - 0s 3ms/step - loss: 0.0461 - reconstruction_loss: 0.0406 - dx_out_loss: 0.0155\n",
      "Epoch 33/200\n",
      "16/16 [==============================] - 0s 3ms/step - loss: 0.0451 - reconstruction_loss: 0.0444 - dx_out_loss: 0.0173\n",
      "Epoch 34/200\n",
      "16/16 [==============================] - 0s 6ms/step - loss: 0.0373 - reconstruction_loss: 0.0390 - dx_out_loss: 0.0249\n",
      "Epoch 35/200\n",
      "16/16 [==============================] - 0s 5ms/step - loss: 0.0425 - reconstruction_loss: 0.0432 - dx_out_loss: 0.0341\n",
      "Epoch 36/200\n",
      "16/16 [==============================] - 0s 4ms/step - loss: 0.0371 - reconstruction_loss: 0.0378 - dx_out_loss: 0.0154\n",
      "Epoch 37/200\n",
      "16/16 [==============================] - 0s 4ms/step - loss: 0.0431 - reconstruction_loss: 0.0461 - dx_out_loss: 0.0239\n",
      "Epoch 38/200\n",
      "16/16 [==============================] - 0s 4ms/step - loss: 0.0348 - reconstruction_loss: 0.0343 - dx_out_loss: 0.0073\n",
      "Epoch 39/200\n",
      "16/16 [==============================] - 0s 4ms/step - loss: 0.0343 - reconstruction_loss: 0.0342 - dx_out_loss: 0.0109\n",
      "Epoch 40/200\n",
      "16/16 [==============================] - 0s 3ms/step - loss: 0.0384 - reconstruction_loss: 0.0386 - dx_out_loss: 0.0265\n",
      "Epoch 41/200\n",
      "16/16 [==============================] - 0s 3ms/step - loss: 0.0439 - reconstruction_loss: 0.0461 - dx_out_loss: 0.0136\n",
      "Epoch 42/200\n",
      "16/16 [==============================] - 0s 3ms/step - loss: 0.0517 - reconstruction_loss: 0.0464 - dx_out_loss: 0.0276\n",
      "Epoch 43/200\n",
      "16/16 [==============================] - 0s 3ms/step - loss: 0.0474 - reconstruction_loss: 0.0470 - dx_out_loss: 0.0232\n",
      "Epoch 44/200\n",
      "16/16 [==============================] - 0s 3ms/step - loss: 0.0414 - reconstruction_loss: 0.0388 - dx_out_loss: 0.0279\n",
      "Epoch 45/200\n",
      "16/16 [==============================] - 0s 3ms/step - loss: 0.0424 - reconstruction_loss: 0.0386 - dx_out_loss: 0.0171\n",
      "Epoch 46/200\n",
      "16/16 [==============================] - 0s 3ms/step - loss: 0.0483 - reconstruction_loss: 0.0439 - dx_out_loss: 0.0057\n",
      "Epoch 47/200\n",
      "16/16 [==============================] - 0s 4ms/step - loss: 0.0417 - reconstruction_loss: 0.0450 - dx_out_loss: 0.0293\n",
      "Epoch 48/200\n",
      "16/16 [==============================] - 0s 4ms/step - loss: 0.0387 - reconstruction_loss: 0.0409 - dx_out_loss: 0.0277\n",
      "Epoch 49/200\n",
      "16/16 [==============================] - 0s 4ms/step - loss: 0.0437 - reconstruction_loss: 0.0450 - dx_out_loss: 0.0268\n",
      "Epoch 50/200\n",
      "16/16 [==============================] - 0s 4ms/step - loss: 0.0387 - reconstruction_loss: 0.0417 - dx_out_loss: 0.0208\n",
      "Epoch 51/200\n",
      "16/16 [==============================] - 0s 5ms/step - loss: 0.0332 - reconstruction_loss: 0.0337 - dx_out_loss: 0.0090\n",
      "Epoch 52/200\n",
      "16/16 [==============================] - 0s 5ms/step - loss: 0.0363 - reconstruction_loss: 0.0370 - dx_out_loss: 0.0178\n",
      "Epoch 53/200\n",
      "16/16 [==============================] - 0s 5ms/step - loss: 0.0499 - reconstruction_loss: 0.0432 - dx_out_loss: 0.0103\n",
      "Epoch 54/200\n",
      "16/16 [==============================] - 0s 5ms/step - loss: 0.0338 - reconstruction_loss: 0.0345 - dx_out_loss: 0.0282\n",
      "Epoch 55/200\n",
      "16/16 [==============================] - 0s 6ms/step - loss: 0.0367 - reconstruction_loss: 0.0406 - dx_out_loss: 0.0292\n",
      "Epoch 56/200\n",
      "16/16 [==============================] - 0s 5ms/step - loss: 0.0434 - reconstruction_loss: 0.0396 - dx_out_loss: 0.0106\n",
      "Epoch 57/200\n",
      "16/16 [==============================] - 0s 5ms/step - loss: 0.0456 - reconstruction_loss: 0.0431 - dx_out_loss: 0.0244\n",
      "Epoch 58/200\n",
      "16/16 [==============================] - 0s 4ms/step - loss: 0.0433 - reconstruction_loss: 0.0461 - dx_out_loss: 0.0249\n",
      "Epoch 59/200\n",
      "16/16 [==============================] - 0s 5ms/step - loss: 0.0340 - reconstruction_loss: 0.0376 - dx_out_loss: 0.0249\n",
      "Epoch 60/200\n",
      "16/16 [==============================] - 0s 5ms/step - loss: 0.0424 - reconstruction_loss: 0.0379 - dx_out_loss: 0.0106\n",
      "Epoch 61/200\n",
      "16/16 [==============================] - 0s 5ms/step - loss: 0.0361 - reconstruction_loss: 0.0412 - dx_out_loss: 0.0258\n",
      "Epoch 62/200\n"
     ]
    },
    {
     "name": "stdout",
     "output_type": "stream",
     "text": [
      "16/16 [==============================] - 0s 6ms/step - loss: 0.0351 - reconstruction_loss: 0.0384 - dx_out_loss: 0.0138\n",
      "Epoch 63/200\n",
      "16/16 [==============================] - 0s 6ms/step - loss: 0.0365 - reconstruction_loss: 0.0345 - dx_out_loss: 0.0124\n",
      "Epoch 64/200\n",
      "16/16 [==============================] - 0s 6ms/step - loss: 0.0393 - reconstruction_loss: 0.0392 - dx_out_loss: 0.0480\n",
      "Epoch 65/200\n",
      "16/16 [==============================] - 0s 6ms/step - loss: 0.0433 - reconstruction_loss: 0.0413 - dx_out_loss: 0.0438\n",
      "Epoch 66/200\n",
      "16/16 [==============================] - 0s 5ms/step - loss: 0.0402 - reconstruction_loss: 0.0373 - dx_out_loss: 0.2589\n",
      "Epoch 67/200\n",
      "16/16 [==============================] - 0s 5ms/step - loss: 0.0354 - reconstruction_loss: 0.0355 - dx_out_loss: 0.0817\n",
      "Epoch 68/200\n",
      "16/16 [==============================] - 0s 4ms/step - loss: 0.0345 - reconstruction_loss: 0.0345 - dx_out_loss: 0.0226\n",
      "Epoch 69/200\n",
      "16/16 [==============================] - 0s 4ms/step - loss: 0.0368 - reconstruction_loss: 0.0360 - dx_out_loss: 0.0155\n",
      "Epoch 70/200\n",
      "16/16 [==============================] - 0s 4ms/step - loss: 0.0398 - reconstruction_loss: 0.0351 - dx_out_loss: 0.0156\n",
      "Epoch 71/200\n",
      "16/16 [==============================] - 0s 3ms/step - loss: 0.0322 - reconstruction_loss: 0.0339 - dx_out_loss: 0.0242\n",
      "Epoch 72/200\n",
      "16/16 [==============================] - 0s 4ms/step - loss: 0.0408 - reconstruction_loss: 0.0417 - dx_out_loss: 0.0192\n",
      "Epoch 73/200\n",
      "16/16 [==============================] - 0s 3ms/step - loss: 0.0363 - reconstruction_loss: 0.0369 - dx_out_loss: 0.0508\n",
      "Epoch 74/200\n",
      "16/16 [==============================] - 0s 4ms/step - loss: 0.0320 - reconstruction_loss: 0.0347 - dx_out_loss: 0.0332\n",
      "Epoch 75/200\n",
      "16/16 [==============================] - 0s 4ms/step - loss: 0.0325 - reconstruction_loss: 0.0337 - dx_out_loss: 0.0122\n",
      "Epoch 76/200\n",
      "16/16 [==============================] - 0s 3ms/step - loss: 0.0314 - reconstruction_loss: 0.0307 - dx_out_loss: 0.0311\n",
      "Epoch 77/200\n",
      "16/16 [==============================] - 0s 3ms/step - loss: 0.0406 - reconstruction_loss: 0.0376 - dx_out_loss: 0.0363\n",
      "Epoch 78/200\n",
      "16/16 [==============================] - 0s 3ms/step - loss: 0.0288 - reconstruction_loss: 0.0290 - dx_out_loss: 0.1071\n",
      "Epoch 79/200\n",
      "16/16 [==============================] - 0s 4ms/step - loss: 0.0345 - reconstruction_loss: 0.0354 - dx_out_loss: 0.1166\n",
      "Epoch 80/200\n",
      "16/16 [==============================] - 0s 4ms/step - loss: 0.0308 - reconstruction_loss: 0.0323 - dx_out_loss: 0.0490\n",
      "Epoch 81/200\n",
      "16/16 [==============================] - 0s 4ms/step - loss: 0.0305 - reconstruction_loss: 0.0304 - dx_out_loss: 0.0109\n",
      "Epoch 82/200\n",
      "16/16 [==============================] - 0s 4ms/step - loss: 0.0328 - reconstruction_loss: 0.0335 - dx_out_loss: 0.0475\n",
      "Epoch 83/200\n",
      "16/16 [==============================] - 0s 3ms/step - loss: 0.0313 - reconstruction_loss: 0.0326 - dx_out_loss: 0.0062\n",
      "Epoch 84/200\n",
      "16/16 [==============================] - 0s 3ms/step - loss: 0.0342 - reconstruction_loss: 0.0328 - dx_out_loss: 0.0563\n",
      "Epoch 85/200\n",
      "16/16 [==============================] - 0s 3ms/step - loss: 0.0307 - reconstruction_loss: 0.0301 - dx_out_loss: 0.0348\n",
      "Epoch 86/200\n",
      "16/16 [==============================] - 0s 4ms/step - loss: 0.0338 - reconstruction_loss: 0.0314 - dx_out_loss: 0.0357\n",
      "Epoch 87/200\n",
      "16/16 [==============================] - 0s 4ms/step - loss: 0.0331 - reconstruction_loss: 0.0326 - dx_out_loss: 0.0983\n",
      "Epoch 88/200\n",
      "16/16 [==============================] - 0s 4ms/step - loss: 0.0302 - reconstruction_loss: 0.0304 - dx_out_loss: 0.0134\n",
      "Epoch 89/200\n",
      "16/16 [==============================] - 0s 4ms/step - loss: 0.0326 - reconstruction_loss: 0.0311 - dx_out_loss: 0.0582\n",
      "Epoch 90/200\n",
      "16/16 [==============================] - 0s 4ms/step - loss: 0.0284 - reconstruction_loss: 0.0285 - dx_out_loss: 0.0198\n",
      "Epoch 91/200\n",
      "16/16 [==============================] - 0s 3ms/step - loss: 0.0310 - reconstruction_loss: 0.0316 - dx_out_loss: 0.0569\n",
      "Epoch 92/200\n",
      "16/16 [==============================] - 0s 3ms/step - loss: 0.0318 - reconstruction_loss: 0.0329 - dx_out_loss: 0.0362\n",
      "Epoch 93/200\n",
      "16/16 [==============================] - 0s 3ms/step - loss: 0.0325 - reconstruction_loss: 0.0324 - dx_out_loss: 0.0826\n",
      "Epoch 94/200\n",
      "16/16 [==============================] - 0s 3ms/step - loss: 0.0290 - reconstruction_loss: 0.0291 - dx_out_loss: 0.0646\n",
      "Epoch 95/200\n",
      "16/16 [==============================] - 0s 3ms/step - loss: 0.0309 - reconstruction_loss: 0.0311 - dx_out_loss: 0.0277\n",
      "Epoch 96/200\n",
      "16/16 [==============================] - 0s 3ms/step - loss: 0.0295 - reconstruction_loss: 0.0297 - dx_out_loss: 0.0631\n",
      "Epoch 97/200\n",
      "16/16 [==============================] - 0s 3ms/step - loss: 0.0290 - reconstruction_loss: 0.0295 - dx_out_loss: 0.0788\n",
      "Epoch 98/200\n",
      "16/16 [==============================] - 0s 3ms/step - loss: 0.0308 - reconstruction_loss: 0.0325 - dx_out_loss: 0.0425\n",
      "Epoch 99/200\n",
      "16/16 [==============================] - 0s 3ms/step - loss: 0.0294 - reconstruction_loss: 0.0297 - dx_out_loss: 0.0316\n",
      "Epoch 100/200\n",
      "16/16 [==============================] - 0s 3ms/step - loss: 0.0287 - reconstruction_loss: 0.0290 - dx_out_loss: 0.0470\n",
      "Epoch 101/200\n",
      "16/16 [==============================] - 0s 3ms/step - loss: 0.0306 - reconstruction_loss: 0.0296 - dx_out_loss: 0.0440\n",
      "Epoch 102/200\n",
      "16/16 [==============================] - 0s 3ms/step - loss: 0.0291 - reconstruction_loss: 0.0288 - dx_out_loss: 0.0513\n",
      "Epoch 103/200\n",
      "16/16 [==============================] - 0s 3ms/step - loss: 0.0288 - reconstruction_loss: 0.0286 - dx_out_loss: 0.0950\n",
      "Epoch 104/200\n",
      "16/16 [==============================] - 0s 3ms/step - loss: 0.0291 - reconstruction_loss: 0.0292 - dx_out_loss: 0.1826\n",
      "Epoch 105/200\n",
      "16/16 [==============================] - 0s 3ms/step - loss: 0.0288 - reconstruction_loss: 0.0290 - dx_out_loss: 0.0635\n",
      "Epoch 106/200\n",
      "16/16 [==============================] - 0s 3ms/step - loss: 0.0287 - reconstruction_loss: 0.0291 - dx_out_loss: 0.0172\n",
      "Epoch 107/200\n",
      "16/16 [==============================] - 0s 3ms/step - loss: 0.0339 - reconstruction_loss: 0.0298 - dx_out_loss: 0.0579\n",
      "Epoch 108/200\n",
      "16/16 [==============================] - 0s 3ms/step - loss: 0.0291 - reconstruction_loss: 0.0292 - dx_out_loss: 0.0342\n",
      "Epoch 109/200\n",
      "16/16 [==============================] - 0s 3ms/step - loss: 0.0282 - reconstruction_loss: 0.0283 - dx_out_loss: 0.0458\n",
      "Epoch 110/200\n",
      "16/16 [==============================] - 0s 3ms/step - loss: 0.0282 - reconstruction_loss: 0.0282 - dx_out_loss: 0.0381\n",
      "Epoch 111/200\n",
      "16/16 [==============================] - 0s 3ms/step - loss: 0.0285 - reconstruction_loss: 0.0290 - dx_out_loss: 0.0667\n",
      "Epoch 112/200\n",
      "16/16 [==============================] - 0s 3ms/step - loss: 0.0284 - reconstruction_loss: 0.0285 - dx_out_loss: 0.0754\n",
      "Epoch 113/200\n",
      "16/16 [==============================] - 0s 4ms/step - loss: 0.0282 - reconstruction_loss: 0.0283 - dx_out_loss: 0.0273\n",
      "Epoch 114/200\n",
      "16/16 [==============================] - 0s 4ms/step - loss: 0.0303 - reconstruction_loss: 0.0314 - dx_out_loss: 0.0255\n",
      "Epoch 115/200\n",
      "16/16 [==============================] - 0s 4ms/step - loss: 0.0282 - reconstruction_loss: 0.0285 - dx_out_loss: 0.0555\n",
      "Epoch 116/200\n",
      "16/16 [==============================] - 0s 4ms/step - loss: 0.0307 - reconstruction_loss: 0.0307 - dx_out_loss: 0.0521\n",
      "Epoch 117/200\n",
      "16/16 [==============================] - 0s 4ms/step - loss: 0.0308 - reconstruction_loss: 0.0301 - dx_out_loss: 0.0801\n",
      "Epoch 118/200\n",
      "16/16 [==============================] - 0s 3ms/step - loss: 0.0302 - reconstruction_loss: 0.0300 - dx_out_loss: 0.0473\n",
      "Epoch 119/200\n",
      "16/16 [==============================] - 0s 3ms/step - loss: 0.0292 - reconstruction_loss: 0.0292 - dx_out_loss: 0.0577\n",
      "Epoch 120/200\n",
      "16/16 [==============================] - 0s 3ms/step - loss: 0.0301 - reconstruction_loss: 0.0298 - dx_out_loss: 0.1499\n",
      "Epoch 121/200\n",
      "16/16 [==============================] - 0s 3ms/step - loss: 0.0296 - reconstruction_loss: 0.0293 - dx_out_loss: 0.0480\n",
      "Epoch 122/200\n",
      "16/16 [==============================] - 0s 3ms/step - loss: 0.0282 - reconstruction_loss: 0.0282 - dx_out_loss: 0.0652\n",
      "Epoch 123/200\n"
     ]
    },
    {
     "name": "stdout",
     "output_type": "stream",
     "text": [
      "16/16 [==============================] - 0s 3ms/step - loss: 0.0290 - reconstruction_loss: 0.0287 - dx_out_loss: 0.0239\n",
      "Epoch 124/200\n",
      "16/16 [==============================] - 0s 3ms/step - loss: 0.0285 - reconstruction_loss: 0.0284 - dx_out_loss: 0.0704\n",
      "Epoch 125/200\n",
      "16/16 [==============================] - 0s 3ms/step - loss: 0.0293 - reconstruction_loss: 0.0295 - dx_out_loss: 0.1169\n",
      "Epoch 126/200\n",
      "16/16 [==============================] - 0s 3ms/step - loss: 0.0292 - reconstruction_loss: 0.0292 - dx_out_loss: 0.1555\n",
      "Epoch 127/200\n",
      "16/16 [==============================] - 0s 3ms/step - loss: 0.0312 - reconstruction_loss: 0.0301 - dx_out_loss: 0.0349\n",
      "Epoch 128/200\n",
      "16/16 [==============================] - 0s 3ms/step - loss: 0.0296 - reconstruction_loss: 0.0307 - dx_out_loss: 0.1998\n",
      "Epoch 129/200\n",
      "16/16 [==============================] - 0s 3ms/step - loss: 0.0307 - reconstruction_loss: 0.0307 - dx_out_loss: 0.0586\n",
      "Epoch 130/200\n",
      "16/16 [==============================] - 0s 3ms/step - loss: 0.0309 - reconstruction_loss: 0.0310 - dx_out_loss: 0.0679\n",
      "Epoch 131/200\n",
      "16/16 [==============================] - 0s 3ms/step - loss: 0.0298 - reconstruction_loss: 0.0298 - dx_out_loss: 0.0671\n",
      "Epoch 132/200\n",
      "16/16 [==============================] - 0s 3ms/step - loss: 0.0290 - reconstruction_loss: 0.0293 - dx_out_loss: 0.0950\n",
      "Epoch 133/200\n",
      "16/16 [==============================] - 0s 3ms/step - loss: 0.0286 - reconstruction_loss: 0.0283 - dx_out_loss: 0.0571\n",
      "Epoch 134/200\n",
      "16/16 [==============================] - 0s 3ms/step - loss: 0.0282 - reconstruction_loss: 0.0281 - dx_out_loss: 0.0259\n",
      "Epoch 135/200\n",
      "16/16 [==============================] - 0s 3ms/step - loss: 0.0281 - reconstruction_loss: 0.0283 - dx_out_loss: 0.1127\n",
      "Epoch 136/200\n",
      "16/16 [==============================] - 0s 3ms/step - loss: 0.0279 - reconstruction_loss: 0.0280 - dx_out_loss: 0.0691\n",
      "Epoch 137/200\n",
      "16/16 [==============================] - 0s 3ms/step - loss: 0.0288 - reconstruction_loss: 0.0293 - dx_out_loss: 0.1107\n",
      "Epoch 138/200\n",
      "16/16 [==============================] - 0s 3ms/step - loss: 0.0288 - reconstruction_loss: 0.0289 - dx_out_loss: 0.1176\n",
      "Epoch 139/200\n",
      "16/16 [==============================] - 0s 3ms/step - loss: 0.0286 - reconstruction_loss: 0.0282 - dx_out_loss: 0.1080\n",
      "Epoch 140/200\n",
      "16/16 [==============================] - 0s 3ms/step - loss: 0.0288 - reconstruction_loss: 0.0297 - dx_out_loss: 0.0907\n",
      "Epoch 141/200\n",
      "16/16 [==============================] - 0s 3ms/step - loss: 0.0282 - reconstruction_loss: 0.0284 - dx_out_loss: 0.0570\n",
      "Epoch 142/200\n",
      "16/16 [==============================] - 0s 3ms/step - loss: 0.0279 - reconstruction_loss: 0.0280 - dx_out_loss: 0.0428\n",
      "Epoch 143/200\n",
      "16/16 [==============================] - 0s 3ms/step - loss: 0.0280 - reconstruction_loss: 0.0283 - dx_out_loss: 0.0140\n",
      "Epoch 144/200\n",
      "16/16 [==============================] - 0s 4ms/step - loss: 0.0279 - reconstruction_loss: 0.0280 - dx_out_loss: 0.1028\n",
      "Epoch 145/200\n",
      "16/16 [==============================] - 0s 4ms/step - loss: 0.0292 - reconstruction_loss: 0.0288 - dx_out_loss: 0.1248\n",
      "Epoch 146/200\n",
      "16/16 [==============================] - 0s 4ms/step - loss: 0.0287 - reconstruction_loss: 0.0285 - dx_out_loss: 0.2354\n",
      "Epoch 147/200\n",
      "16/16 [==============================] - 0s 4ms/step - loss: 0.0279 - reconstruction_loss: 0.0279 - dx_out_loss: 0.0381\n",
      "Epoch 148/200\n",
      "16/16 [==============================] - 0s 4ms/step - loss: 0.0281 - reconstruction_loss: 0.0281 - dx_out_loss: 0.1167\n",
      "Epoch 149/200\n",
      "16/16 [==============================] - 0s 4ms/step - loss: 0.0280 - reconstruction_loss: 0.0281 - dx_out_loss: 0.0636\n",
      "Epoch 150/200\n",
      "16/16 [==============================] - 0s 3ms/step - loss: 0.0289 - reconstruction_loss: 0.0289 - dx_out_loss: 0.1883\n",
      "Epoch 151/200\n",
      "16/16 [==============================] - 0s 4ms/step - loss: 0.0284 - reconstruction_loss: 0.0286 - dx_out_loss: 0.2814\n",
      "Epoch 152/200\n",
      "16/16 [==============================] - 0s 4ms/step - loss: 0.0283 - reconstruction_loss: 0.0283 - dx_out_loss: 0.1224\n",
      "Epoch 153/200\n",
      "16/16 [==============================] - 0s 4ms/step - loss: 0.0288 - reconstruction_loss: 0.0289 - dx_out_loss: 0.0426\n",
      "Epoch 154/200\n",
      "16/16 [==============================] - 0s 3ms/step - loss: 0.0286 - reconstruction_loss: 0.0285 - dx_out_loss: 0.1928\n",
      "Epoch 155/200\n",
      "16/16 [==============================] - 0s 4ms/step - loss: 0.0287 - reconstruction_loss: 0.0285 - dx_out_loss: 0.1175\n",
      "Epoch 156/200\n",
      "16/16 [==============================] - 0s 3ms/step - loss: 0.0284 - reconstruction_loss: 0.0281 - dx_out_loss: 0.1738\n",
      "Epoch 157/200\n",
      "16/16 [==============================] - 0s 3ms/step - loss: 0.0281 - reconstruction_loss: 0.0282 - dx_out_loss: 0.0332\n",
      "Epoch 158/200\n",
      "16/16 [==============================] - 0s 3ms/step - loss: 0.0286 - reconstruction_loss: 0.0288 - dx_out_loss: 0.1178\n",
      "Epoch 159/200\n",
      "16/16 [==============================] - 0s 3ms/step - loss: 0.0281 - reconstruction_loss: 0.0282 - dx_out_loss: 0.0235\n",
      "Epoch 160/200\n",
      "16/16 [==============================] - 0s 4ms/step - loss: 0.0295 - reconstruction_loss: 0.0288 - dx_out_loss: 0.0569\n",
      "Epoch 161/200\n",
      "16/16 [==============================] - 0s 4ms/step - loss: 0.0284 - reconstruction_loss: 0.0290 - dx_out_loss: 0.0825\n",
      "Epoch 162/200\n",
      "16/16 [==============================] - 0s 3ms/step - loss: 0.0285 - reconstruction_loss: 0.0284 - dx_out_loss: 0.0487\n",
      "Epoch 163/200\n",
      "16/16 [==============================] - 0s 4ms/step - loss: 0.0286 - reconstruction_loss: 0.0287 - dx_out_loss: 0.0695\n",
      "Epoch 164/200\n",
      "16/16 [==============================] - 0s 4ms/step - loss: 0.0282 - reconstruction_loss: 0.0282 - dx_out_loss: 0.0420\n",
      "Epoch 165/200\n",
      "16/16 [==============================] - 0s 4ms/step - loss: 0.0281 - reconstruction_loss: 0.0280 - dx_out_loss: 0.2464\n",
      "Epoch 166/200\n",
      "16/16 [==============================] - 0s 5ms/step - loss: 0.0287 - reconstruction_loss: 0.0285 - dx_out_loss: 0.0805\n",
      "Epoch 167/200\n",
      "16/16 [==============================] - 0s 5ms/step - loss: 0.0284 - reconstruction_loss: 0.0282 - dx_out_loss: 0.0473\n",
      "Epoch 168/200\n",
      "16/16 [==============================] - 0s 5ms/step - loss: 0.0290 - reconstruction_loss: 0.0295 - dx_out_loss: 0.1165\n",
      "Epoch 169/200\n",
      "16/16 [==============================] - 0s 4ms/step - loss: 0.0299 - reconstruction_loss: 0.0304 - dx_out_loss: 0.1673\n",
      "Epoch 170/200\n",
      "16/16 [==============================] - 0s 4ms/step - loss: 0.0306 - reconstruction_loss: 0.0307 - dx_out_loss: 0.0386\n",
      "Epoch 171/200\n",
      "16/16 [==============================] - 0s 4ms/step - loss: 0.0288 - reconstruction_loss: 0.0288 - dx_out_loss: 0.0910\n",
      "Epoch 172/200\n",
      "16/16 [==============================] - 0s 5ms/step - loss: 0.0283 - reconstruction_loss: 0.0283 - dx_out_loss: 0.0524\n",
      "Epoch 173/200\n",
      "16/16 [==============================] - 0s 4ms/step - loss: 0.0284 - reconstruction_loss: 0.0286 - dx_out_loss: 0.1214\n",
      "Epoch 174/200\n",
      "16/16 [==============================] - 0s 4ms/step - loss: 0.0282 - reconstruction_loss: 0.0282 - dx_out_loss: 0.3097\n",
      "Epoch 175/200\n",
      "16/16 [==============================] - 0s 4ms/step - loss: 0.0282 - reconstruction_loss: 0.0281 - dx_out_loss: 0.1147\n",
      "Epoch 176/200\n",
      "16/16 [==============================] - 0s 4ms/step - loss: 0.0290 - reconstruction_loss: 0.0289 - dx_out_loss: 0.0253\n",
      "Epoch 177/200\n",
      "16/16 [==============================] - 0s 4ms/step - loss: 0.0281 - reconstruction_loss: 0.0284 - dx_out_loss: 0.1629\n",
      "Epoch 178/200\n",
      "16/16 [==============================] - 0s 3ms/step - loss: 0.0281 - reconstruction_loss: 0.0280 - dx_out_loss: 0.0695\n",
      "Epoch 179/200\n",
      "16/16 [==============================] - 0s 3ms/step - loss: 0.0280 - reconstruction_loss: 0.0280 - dx_out_loss: 0.1487\n",
      "Epoch 180/200\n",
      "16/16 [==============================] - 0s 4ms/step - loss: 0.0278 - reconstruction_loss: 0.0278 - dx_out_loss: 0.0256\n",
      "Epoch 181/200\n",
      "16/16 [==============================] - 0s 4ms/step - loss: 0.0279 - reconstruction_loss: 0.0279 - dx_out_loss: 0.0923\n",
      "Epoch 182/200\n",
      "16/16 [==============================] - 0s 3ms/step - loss: 0.0278 - reconstruction_loss: 0.0277 - dx_out_loss: 0.0313\n",
      "Epoch 183/200\n",
      "16/16 [==============================] - 0s 4ms/step - loss: 0.0280 - reconstruction_loss: 0.0281 - dx_out_loss: 0.2842\n",
      "Epoch 184/200\n"
     ]
    },
    {
     "name": "stdout",
     "output_type": "stream",
     "text": [
      "16/16 [==============================] - 0s 4ms/step - loss: 0.0278 - reconstruction_loss: 0.0278 - dx_out_loss: 0.0602\n",
      "Epoch 185/200\n",
      "16/16 [==============================] - 0s 3ms/step - loss: 0.0278 - reconstruction_loss: 0.0278 - dx_out_loss: 0.1012\n",
      "Epoch 186/200\n",
      "16/16 [==============================] - 0s 3ms/step - loss: 0.0281 - reconstruction_loss: 0.0281 - dx_out_loss: 0.0653\n",
      "Epoch 187/200\n",
      "16/16 [==============================] - 0s 4ms/step - loss: 0.0283 - reconstruction_loss: 0.0287 - dx_out_loss: 0.1506\n",
      "Epoch 188/200\n",
      "16/16 [==============================] - 0s 3ms/step - loss: 0.0282 - reconstruction_loss: 0.0283 - dx_out_loss: 0.0520\n",
      "Epoch 189/200\n",
      "16/16 [==============================] - 0s 3ms/step - loss: 0.0281 - reconstruction_loss: 0.0281 - dx_out_loss: 0.1424\n",
      "Epoch 190/200\n",
      "16/16 [==============================] - 0s 3ms/step - loss: 0.0281 - reconstruction_loss: 0.0281 - dx_out_loss: 0.1319\n",
      "Epoch 191/200\n",
      "16/16 [==============================] - 0s 3ms/step - loss: 0.0286 - reconstruction_loss: 0.0285 - dx_out_loss: 0.0612\n",
      "Epoch 192/200\n",
      "16/16 [==============================] - 0s 3ms/step - loss: 0.0287 - reconstruction_loss: 0.0284 - dx_out_loss: 0.1511\n",
      "Epoch 193/200\n",
      "16/16 [==============================] - 0s 4ms/step - loss: 0.0281 - reconstruction_loss: 0.0280 - dx_out_loss: 0.1272\n",
      "Epoch 194/200\n",
      "16/16 [==============================] - 0s 3ms/step - loss: 0.0280 - reconstruction_loss: 0.0279 - dx_out_loss: 0.1076\n",
      "Epoch 195/200\n",
      "16/16 [==============================] - 0s 3ms/step - loss: 0.0278 - reconstruction_loss: 0.0278 - dx_out_loss: 0.0451\n",
      "Epoch 196/200\n",
      "16/16 [==============================] - 0s 4ms/step - loss: 0.0291 - reconstruction_loss: 0.0285 - dx_out_loss: 0.0633\n",
      "Epoch 197/200\n",
      "16/16 [==============================] - 0s 3ms/step - loss: 0.0279 - reconstruction_loss: 0.0279 - dx_out_loss: 0.0261\n",
      "Epoch 198/200\n",
      "16/16 [==============================] - 0s 3ms/step - loss: 0.0280 - reconstruction_loss: 0.0279 - dx_out_loss: 0.0575\n",
      "Epoch 199/200\n",
      "16/16 [==============================] - 0s 3ms/step - loss: 0.0280 - reconstruction_loss: 0.0281 - dx_out_loss: 0.0808\n",
      "Epoch 200/200\n",
      "16/16 [==============================] - 0s 3ms/step - loss: 0.0281 - reconstruction_loss: 0.0280 - dx_out_loss: 0.0648\n"
     ]
    },
    {
     "data": {
      "text/plain": [
       "<keras.callbacks.History at 0x15f887df0>"
      ]
     },
     "execution_count": 61,
     "metadata": {},
     "output_type": "execute_result"
    }
   ],
   "source": [
    "tf.random.set_seed(seed)\n",
    "\n",
    "img_dim = x_train.shape[-1]\n",
    "latent_dim = 2\n",
    "\n",
    "dae = DAE(build_encoder(input_shape = img_dim, latent_dim = latent_dim), \n",
    "          build_decoder(output_shape = int(np.prod(img_dim)), latent_dim = latent_dim))\n",
    "\n",
    "dae.compile(optimizer=tfk.optimizers.Adam()) #specify the optimizer reference in class above \n",
    "dae.fit(x_train, epochs=200, batch_size=64)"
   ]
  },
  {
   "cell_type": "code",
   "execution_count": 62,
   "id": "f13b06fd",
   "metadata": {},
   "outputs": [
    {
     "data": {
      "image/png": "[encoded data removed]",
      "text/plain": [
       "<Figure size 1296x288 with 20 Axes>"
      ]
     },
     "metadata": {
      "needs_background": "light"
     },
     "output_type": "display_data"
    }
   ],
   "source": [
    "y_pred = dae.decoder(dae.encoder(np.reshape(y, (y.shape[0], dim*dim))))\n",
    "y_pred = np.reshape(y_pred, (y.shape[0], dim, dim))\n",
    "\n",
    "fig, axs = plt.subplots(2,10, figsize=(18,4))\n",
    "\n",
    "for i in range(10):\n",
    "    axs[0][i].imshow(y[i*5], cmap = \"gray\")\n",
    "    axs[1][i].imshow(y_pred[i*5], cmap = \"gray\")"
   ]
  },
  {
   "cell_type": "code",
   "execution_count": 56,
   "id": "f2d8102d",
   "metadata": {},
   "outputs": [
    {
     "data": {
      "image/png": "[encoded data removed]",
      "text/plain": [
       "<Figure size 1296x288 with 20 Axes>"
      ]
     },
     "metadata": {
      "needs_background": "light"
     },
     "output_type": "display_data"
    }
   ],
   "source": [
    "y_pred = dae.decoder(dae.encoder(np.reshape(y, (y.shape[0], dim*dim))))\n",
    "y_pred = np.reshape(y_pred, (y.shape[0], dim, dim))\n",
    "\n",
    "fig, axs = plt.subplots(2,10, figsize=(18,4))\n",
    "\n",
    "for i in range(10):\n",
    "    axs[0][i].imshow(y[i*5], cmap = \"gray\")\n",
    "    axs[1][i].imshow(y_pred[i*5], cmap = \"gray\")"
   ]
  },
  {
   "cell_type": "code",
   "execution_count": null,
   "id": "06a96236",
   "metadata": {},
   "outputs": [],
   "source": []
  }
 ],
 "metadata": {
  "kernelspec": {
   "display_name": "Python 3",
   "language": "python",
   "name": "python3"
  },
  "language_info": {
   "codemirror_mode": {
    "name": "ipython",
    "version": 3
   },
   "file_extension": ".py",
   "mimetype": "text/x-python",
   "name": "python",
   "nbconvert_exporter": "python",
   "pygments_lexer": "ipython3",
   "version": "3.9.3"
  }
 },
 "nbformat": 4,
 "nbformat_minor": 5
}
