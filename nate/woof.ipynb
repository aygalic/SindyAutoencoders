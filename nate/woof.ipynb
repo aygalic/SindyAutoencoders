{
 "cells": [
  {
   "cell_type": "code",
   "execution_count": 2,
   "id": "fa3f4c7c",
   "metadata": {},
   "outputs": [],
   "source": [
    "import tensorflow as tf \n",
    "import tensorflow.keras as tfk \n",
    "import numpy as np \n",
    "import matplotlib.pyplot as plt \n",
    "import sys\n",
    "import os\n",
    "from utils import *\n",
    "from scipy.integrate import solve_ivp"
   ]
  },
  {
   "cell_type": "markdown",
   "id": "94a199cd",
   "metadata": {},
   "source": [
    "## Notes\n",
    "- sigmoids through the encoder to a terrible job at localizing the point mass in frame - reconstruction loss high "
   ]
  },
  {
   "cell_type": "code",
   "execution_count": 3,
   "id": "8fcb9a70",
   "metadata": {
    "scrolled": true
   },
   "outputs": [
    {
     "data": {
      "text/plain": [
       "[<matplotlib.lines.Line2D at 0x15ab26d30>]"
      ]
     },
     "execution_count": 3,
     "metadata": {},
     "output_type": "execute_result"
    },
    {
     "data": {
      "image/png": "[encoded data removed]",
      "text/plain": [
       "<Figure size 432x288 with 1 Axes>"
      ]
     },
     "metadata": {
      "needs_background": "light"
     },
     "output_type": "display_data"
    }
   ],
   "source": [
    "#generating some data instead of reading from a directory \n",
    "def generate_spring_data(params, t, x0):\n",
    "    spring_f = lambda t, x, params: [x[1], -params['c']*x[1]-(params['k']/params['m'])*x[0]]\n",
    "    \n",
    "    data = solve_ivp(lambda t,x: spring_f(t,x,params), \n",
    "                    t_span = (t[0], t[-1]), \n",
    "                    y0 = x0,\n",
    "                    t_eval = t).y.T\n",
    "    return data \n",
    "\n",
    "\n",
    "params = {'c':0.33, 'm':0.5, 'k':1}\n",
    "x0 = [1, 0]\n",
    "t = np.arange(0, 20, 0.02)\n",
    "\n",
    "x_train = generate_spring_data(params, t, x0)\n",
    "\n",
    "\n",
    "plt.plot(x_train[:,0])"
   ]
  },
  {
   "cell_type": "code",
   "execution_count": 4,
   "id": "a25f9300",
   "metadata": {},
   "outputs": [
    {
     "name": "stdout",
     "output_type": "stream",
     "text": [
      "(1000, 51, 51)\n"
     ]
    },
    {
     "data": {
      "text/plain": [
       "<matplotlib.image.AxesImage at 0x15ac7d160>"
      ]
     },
     "execution_count": 4,
     "metadata": {},
     "output_type": "execute_result"
    },
    {
     "data": {
      "image/png": "[encoded data removed]",
      "text/plain": [
       "<Figure size 432x288 with 1 Axes>"
      ]
     },
     "metadata": {
      "needs_background": "light"
     },
     "output_type": "display_data"
    }
   ],
   "source": [
    "x,dx,ddx = spring_to_movie(x_train[:,0], dt=0.02, dim = 51)\n",
    "\n",
    "print(x.shape)\n",
    "plt.imshow(x[0], cmap = 'gray')"
   ]
  },
  {
   "cell_type": "code",
   "execution_count": 5,
   "id": "fca4d456",
   "metadata": {},
   "outputs": [],
   "source": [
    "class AE(tfk.Model):\n",
    "    def __init__(self, encoder, decoder, **kwargs):\n",
    "        super().__init__(**kwargs)\n",
    "        self.encoder = encoder\n",
    "        self.decoder = decoder\n",
    "        \n",
    "        #stateful metrics \n",
    "        self.total_loss_tracker = tfk.metrics.Mean(name=\"total_loss\")\n",
    "        self.reconstruction_loss_tracker = tfk.metrics.Mean(\n",
    "            name=\"reconstruction_loss\"\n",
    "        )\n",
    "\n",
    "    @property\n",
    "    def metrics(self):\n",
    "        return [\n",
    "            self.total_loss_tracker,\n",
    "            self.reconstruction_loss_tracker,\n",
    "        ]\n",
    "\n",
    "    def train_step(self, data):\n",
    "        #print(data.shape)\n",
    "        with tf.GradientTape() as tape:\n",
    "            z = self.encoder(data) \n",
    "            reconstruction = self.decoder(z) \n",
    "\n",
    "            #use BCE for black and white pics \n",
    "            reconstruction_loss = tf.reduce_mean(\n",
    "                    tfk.losses.binary_crossentropy(data, reconstruction)\n",
    "            )\n",
    "            \n",
    "            total_loss = reconstruction_loss # + other terms \n",
    "            \n",
    "        #de-facto \n",
    "        grads = tape.gradient(total_loss, self.trainable_weights)\n",
    "        self.optimizer.apply_gradients(zip(grads, self.trainable_weights)) #will need to specify an optimizer \n",
    "        self.total_loss_tracker.update_state(total_loss)\n",
    "        self.reconstruction_loss_tracker.update_state(reconstruction_loss)\n",
    "        \n",
    "        return {\n",
    "            \"loss\": self.total_loss_tracker.result(),\n",
    "            \"reconstruction_loss\": self.reconstruction_loss_tracker.result(),\n",
    "        }"
   ]
  },
  {
   "cell_type": "code",
   "execution_count": 6,
   "id": "4d5a0100",
   "metadata": {},
   "outputs": [],
   "source": [
    "def build_encoder(input_shape, latent_dim = 1):\n",
    "    \"\"\"\n",
    "    i'll need to add multiple outputs for the encoding as well as derivative info(s) as outputs vae style \n",
    "    \"\"\"\n",
    "    encoder_inputs = tfk.Input(shape=input_shape) \n",
    "    \n",
    "    #initially following parameters outlined in sindy paper \n",
    "    activation = \"relu\"\n",
    "    x = tfk.layers.Dense(128, activation=activation)(encoder_inputs)\n",
    "    x = tfk.layers.Dense(64, activation=activation)(x)\n",
    "    x = tfk.layers.Dense(32, activation=activation)(x)\n",
    "    z = tfk.layers.Dense(latent_dim, activation=activation)(x)\n",
    "\n",
    "    encoder = tfk.Model(encoder_inputs, z, name=\"encoder\")\n",
    "    return encoder\n",
    "\n",
    "\n",
    "def build_decoder(output_shape, latent_dim = 1):\n",
    "    decoder_inputs = tfk.Input(shape=(latent_dim,))\n",
    "    \n",
    "    #initially following parameters outlined in sindy paper \n",
    "    activation = \"relu\"\n",
    "    x = tfk.layers.Dense(32, activation=activation)(decoder_inputs)\n",
    "    x = tfk.layers.Dense(64, activation=activation)(x)\n",
    "    x = tfk.layers.Dense(128, activation=activation)(x)\n",
    "    reconstructed = tfk.layers.Dense(output_shape, activation=\"sigmoid\")(x) #softmax for grayscale \n",
    "    \n",
    "\n",
    "    decoder = tfk.Model(decoder_inputs, reconstructed, name=\"decoder\")\n",
    "    return decoder"
   ]
  },
  {
   "cell_type": "code",
   "execution_count": 7,
   "id": "d974129f",
   "metadata": {},
   "outputs": [
    {
     "data": {
      "text/plain": [
       "(1000, 2601)"
      ]
     },
     "execution_count": 7,
     "metadata": {},
     "output_type": "execute_result"
    }
   ],
   "source": [
    "#flatten to work with network \n",
    "dim = 51\n",
    "x_train = np.reshape(x, (x.shape[0], dim*dim))\n",
    "x_train.shape"
   ]
  },
  {
   "cell_type": "code",
   "execution_count": 8,
   "id": "4eb00110",
   "metadata": {
    "scrolled": true
   },
   "outputs": [
    {
     "name": "stdout",
     "output_type": "stream",
     "text": [
      "Epoch 1/200\n",
      "16/16 [==============================] - 1s 10ms/step - loss: 0.6824 - reconstruction_loss: 0.6592\n",
      "Epoch 2/200\n",
      "16/16 [==============================] - 0s 14ms/step - loss: 0.3340 - reconstruction_loss: 0.2038\n",
      "Epoch 3/200\n",
      "16/16 [==============================] - 0s 12ms/step - loss: 0.0613 - reconstruction_loss: 0.0563\n",
      "Epoch 4/200\n",
      "16/16 [==============================] - 0s 11ms/step - loss: 0.0460 - reconstruction_loss: 0.0443\n",
      "Epoch 5/200\n",
      "16/16 [==============================] - 0s 12ms/step - loss: 0.0418 - reconstruction_loss: 0.0416\n",
      "Epoch 6/200\n",
      "16/16 [==============================] - 0s 12ms/step - loss: 0.0404 - reconstruction_loss: 0.0410\n",
      "Epoch 7/200\n",
      "16/16 [==============================] - 0s 13ms/step - loss: 0.0408 - reconstruction_loss: 0.0408\n",
      "Epoch 8/200\n",
      "16/16 [==============================] - 0s 12ms/step - loss: 0.0414 - reconstruction_loss: 0.0408\n",
      "Epoch 9/200\n",
      "16/16 [==============================] - 0s 14ms/step - loss: 0.0407 - reconstruction_loss: 0.0408\n",
      "Epoch 10/200\n",
      "16/16 [==============================] - 0s 16ms/step - loss: 0.0401 - reconstruction_loss: 0.0407\n",
      "Epoch 11/200\n",
      "16/16 [==============================] - 0s 13ms/step - loss: 0.0413 - reconstruction_loss: 0.0407\n",
      "Epoch 12/200\n",
      "16/16 [==============================] - 0s 12ms/step - loss: 0.0408 - reconstruction_loss: 0.0406\n",
      "Epoch 13/200\n",
      "16/16 [==============================] - 0s 13ms/step - loss: 0.0405 - reconstruction_loss: 0.0406\n",
      "Epoch 14/200\n",
      "16/16 [==============================] - 0s 14ms/step - loss: 0.0408 - reconstruction_loss: 0.0405\n",
      "Epoch 15/200\n",
      "16/16 [==============================] - 0s 14ms/step - loss: 0.0401 - reconstruction_loss: 0.0405\n",
      "Epoch 16/200\n",
      "16/16 [==============================] - 0s 15ms/step - loss: 0.0406 - reconstruction_loss: 0.0404\n",
      "Epoch 17/200\n",
      "16/16 [==============================] - 0s 13ms/step - loss: 0.0404 - reconstruction_loss: 0.0405\n",
      "Epoch 18/200\n",
      "16/16 [==============================] - 0s 14ms/step - loss: 0.0402 - reconstruction_loss: 0.0404\n",
      "Epoch 19/200\n",
      "16/16 [==============================] - 0s 15ms/step - loss: 0.0404 - reconstruction_loss: 0.0405\n",
      "Epoch 20/200\n",
      "16/16 [==============================] - 0s 13ms/step - loss: 0.0402 - reconstruction_loss: 0.0404\n",
      "Epoch 21/200\n",
      "16/16 [==============================] - 0s 13ms/step - loss: 0.0408 - reconstruction_loss: 0.0404\n",
      "Epoch 22/200\n",
      "16/16 [==============================] - 0s 13ms/step - loss: 0.0402 - reconstruction_loss: 0.0404\n",
      "Epoch 23/200\n",
      "16/16 [==============================] - 0s 13ms/step - loss: 0.0404 - reconstruction_loss: 0.0404\n",
      "Epoch 24/200\n",
      "16/16 [==============================] - 0s 14ms/step - loss: 0.0404 - reconstruction_loss: 0.0403\n",
      "Epoch 25/200\n",
      "16/16 [==============================] - 0s 15ms/step - loss: 0.0407 - reconstruction_loss: 0.0402\n",
      "Epoch 26/200\n",
      "16/16 [==============================] - 0s 14ms/step - loss: 0.0410 - reconstruction_loss: 0.0403\n",
      "Epoch 27/200\n",
      "16/16 [==============================] - 0s 14ms/step - loss: 0.0402 - reconstruction_loss: 0.0403\n",
      "Epoch 28/200\n",
      "16/16 [==============================] - 0s 16ms/step - loss: 0.0410 - reconstruction_loss: 0.0402\n",
      "Epoch 29/200\n",
      "16/16 [==============================] - 0s 15ms/step - loss: 0.0399 - reconstruction_loss: 0.0402\n",
      "Epoch 30/200\n",
      "16/16 [==============================] - 0s 14ms/step - loss: 0.0400 - reconstruction_loss: 0.0403\n",
      "Epoch 31/200\n",
      "16/16 [==============================] - 0s 16ms/step - loss: 0.0401 - reconstruction_loss: 0.0403\n",
      "Epoch 32/200\n",
      "16/16 [==============================] - 0s 14ms/step - loss: 0.0401 - reconstruction_loss: 0.0402\n",
      "Epoch 33/200\n",
      "16/16 [==============================] - 0s 14ms/step - loss: 0.0405 - reconstruction_loss: 0.0401\n",
      "Epoch 34/200\n",
      "16/16 [==============================] - 0s 15ms/step - loss: 0.0398 - reconstruction_loss: 0.0401\n",
      "Epoch 35/200\n",
      "16/16 [==============================] - 0s 16ms/step - loss: 0.0400 - reconstruction_loss: 0.0401\n",
      "Epoch 36/200\n",
      "16/16 [==============================] - 0s 15ms/step - loss: 0.0404 - reconstruction_loss: 0.0401\n",
      "Epoch 37/200\n",
      "16/16 [==============================] - 0s 22ms/step - loss: 0.0401 - reconstruction_loss: 0.0400\n",
      "Epoch 38/200\n",
      "16/16 [==============================] - 0s 17ms/step - loss: 0.0398 - reconstruction_loss: 0.0401\n",
      "Epoch 39/200\n",
      "16/16 [==============================] - 0s 17ms/step - loss: 0.0402 - reconstruction_loss: 0.0400\n",
      "Epoch 40/200\n",
      "16/16 [==============================] - 0s 19ms/step - loss: 0.0402 - reconstruction_loss: 0.0400\n",
      "Epoch 41/200\n",
      "16/16 [==============================] - 0s 14ms/step - loss: 0.0399 - reconstruction_loss: 0.0400\n",
      "Epoch 42/200\n",
      "16/16 [==============================] - 0s 17ms/step - loss: 0.0403 - reconstruction_loss: 0.0399\n",
      "Epoch 43/200\n",
      "16/16 [==============================] - 0s 14ms/step - loss: 0.0400 - reconstruction_loss: 0.0401\n",
      "Epoch 44/200\n",
      "16/16 [==============================] - 0s 14ms/step - loss: 0.0396 - reconstruction_loss: 0.0400\n",
      "Epoch 45/200\n",
      "16/16 [==============================] - 0s 15ms/step - loss: 0.0399 - reconstruction_loss: 0.0399\n",
      "Epoch 46/200\n",
      "16/16 [==============================] - 0s 16ms/step - loss: 0.0396 - reconstruction_loss: 0.0399\n",
      "Epoch 47/200\n",
      "16/16 [==============================] - 0s 17ms/step - loss: 0.0401 - reconstruction_loss: 0.0399\n",
      "Epoch 48/200\n",
      "16/16 [==============================] - 0s 16ms/step - loss: 0.0397 - reconstruction_loss: 0.0398\n",
      "Epoch 49/200\n",
      "16/16 [==============================] - 0s 16ms/step - loss: 0.0397 - reconstruction_loss: 0.0399\n",
      "Epoch 50/200\n",
      "16/16 [==============================] - 0s 17ms/step - loss: 0.0395 - reconstruction_loss: 0.0398\n",
      "Epoch 51/200\n",
      "16/16 [==============================] - 0s 16ms/step - loss: 0.0401 - reconstruction_loss: 0.0398\n",
      "Epoch 52/200\n",
      "16/16 [==============================] - 0s 16ms/step - loss: 0.0404 - reconstruction_loss: 0.0398\n",
      "Epoch 53/200\n",
      "16/16 [==============================] - 0s 14ms/step - loss: 0.0393 - reconstruction_loss: 0.0399\n",
      "Epoch 54/200\n",
      "16/16 [==============================] - 0s 14ms/step - loss: 0.0394 - reconstruction_loss: 0.0398\n",
      "Epoch 55/200\n",
      "16/16 [==============================] - 0s 15ms/step - loss: 0.0399 - reconstruction_loss: 0.0397\n",
      "Epoch 56/200\n",
      "16/16 [==============================] - 0s 15ms/step - loss: 0.0404 - reconstruction_loss: 0.0397\n",
      "Epoch 57/200\n",
      "16/16 [==============================] - 0s 16ms/step - loss: 0.0393 - reconstruction_loss: 0.0398\n",
      "Epoch 58/200\n",
      "16/16 [==============================] - 0s 18ms/step - loss: 0.0400 - reconstruction_loss: 0.0398\n",
      "Epoch 59/200\n",
      "16/16 [==============================] - 0s 21ms/step - loss: 0.0402 - reconstruction_loss: 0.0396\n",
      "Epoch 60/200\n",
      "16/16 [==============================] - 0s 18ms/step - loss: 0.0397 - reconstruction_loss: 0.0396\n",
      "Epoch 61/200\n",
      "16/16 [==============================] - 0s 17ms/step - loss: 0.0394 - reconstruction_loss: 0.0397\n",
      "Epoch 62/200\n",
      "16/16 [==============================] - 0s 18ms/step - loss: 0.0400 - reconstruction_loss: 0.0396\n",
      "Epoch 63/200\n",
      "16/16 [==============================] - 0s 18ms/step - loss: 0.0393 - reconstruction_loss: 0.0396\n",
      "Epoch 64/200\n",
      "16/16 [==============================] - 0s 18ms/step - loss: 0.0397 - reconstruction_loss: 0.0396\n",
      "Epoch 65/200\n",
      "16/16 [==============================] - 0s 17ms/step - loss: 0.0394 - reconstruction_loss: 0.0396\n",
      "Epoch 66/200\n",
      "16/16 [==============================] - 0s 18ms/step - loss: 0.0395 - reconstruction_loss: 0.0396\n",
      "Epoch 67/200\n",
      "16/16 [==============================] - 0s 19ms/step - loss: 0.0394 - reconstruction_loss: 0.0396\n",
      "Epoch 68/200\n",
      "16/16 [==============================] - 0s 19ms/step - loss: 0.0393 - reconstruction_loss: 0.0394\n",
      "Epoch 69/200\n",
      "16/16 [==============================] - 0s 17ms/step - loss: 0.0393 - reconstruction_loss: 0.0395\n",
      "Epoch 70/200\n",
      "16/16 [==============================] - 0s 19ms/step - loss: 0.0388 - reconstruction_loss: 0.0394\n",
      "Epoch 71/200\n",
      "16/16 [==============================] - 0s 20ms/step - loss: 0.0397 - reconstruction_loss: 0.0394\n",
      "Epoch 72/200\n",
      "16/16 [==============================] - 0s 18ms/step - loss: 0.0398 - reconstruction_loss: 0.0394\n",
      "Epoch 73/200\n",
      "16/16 [==============================] - 0s 18ms/step - loss: 0.0399 - reconstruction_loss: 0.0395\n",
      "Epoch 74/200\n"
     ]
    },
    {
     "name": "stdout",
     "output_type": "stream",
     "text": [
      "16/16 [==============================] - 0s 17ms/step - loss: 0.0394 - reconstruction_loss: 0.0394\n",
      "Epoch 75/200\n",
      "16/16 [==============================] - 0s 17ms/step - loss: 0.0394 - reconstruction_loss: 0.0393\n",
      "Epoch 76/200\n",
      "16/16 [==============================] - 0s 15ms/step - loss: 0.0400 - reconstruction_loss: 0.0393\n",
      "Epoch 77/200\n",
      "16/16 [==============================] - 0s 15ms/step - loss: 0.0389 - reconstruction_loss: 0.0393\n",
      "Epoch 78/200\n",
      "16/16 [==============================] - 0s 16ms/step - loss: 0.0391 - reconstruction_loss: 0.0393\n",
      "Epoch 79/200\n",
      "16/16 [==============================] - 0s 15ms/step - loss: 0.0384 - reconstruction_loss: 0.0392\n",
      "Epoch 80/200\n",
      "16/16 [==============================] - 0s 15ms/step - loss: 0.0389 - reconstruction_loss: 0.0393\n",
      "Epoch 81/200\n",
      "16/16 [==============================] - 0s 15ms/step - loss: 0.0389 - reconstruction_loss: 0.0393\n",
      "Epoch 82/200\n",
      "16/16 [==============================] - 0s 15ms/step - loss: 0.0388 - reconstruction_loss: 0.0393\n",
      "Epoch 83/200\n",
      "16/16 [==============================] - 0s 15ms/step - loss: 0.0389 - reconstruction_loss: 0.0393\n",
      "Epoch 84/200\n",
      "16/16 [==============================] - 0s 16ms/step - loss: 0.0391 - reconstruction_loss: 0.0392\n",
      "Epoch 85/200\n",
      "16/16 [==============================] - 0s 16ms/step - loss: 0.0399 - reconstruction_loss: 0.0392\n",
      "Epoch 86/200\n",
      "16/16 [==============================] - 0s 15ms/step - loss: 0.0391 - reconstruction_loss: 0.0392\n",
      "Epoch 87/200\n",
      "16/16 [==============================] - 0s 15ms/step - loss: 0.0392 - reconstruction_loss: 0.0391\n",
      "Epoch 88/200\n",
      "16/16 [==============================] - 0s 16ms/step - loss: 0.0394 - reconstruction_loss: 0.0390\n",
      "Epoch 89/200\n",
      "16/16 [==============================] - 0s 15ms/step - loss: 0.0389 - reconstruction_loss: 0.0391\n",
      "Epoch 90/200\n",
      "16/16 [==============================] - 0s 17ms/step - loss: 0.0391 - reconstruction_loss: 0.0390\n",
      "Epoch 91/200\n",
      "16/16 [==============================] - 0s 16ms/step - loss: 0.0393 - reconstruction_loss: 0.0390\n",
      "Epoch 92/200\n",
      "16/16 [==============================] - 0s 18ms/step - loss: 0.0389 - reconstruction_loss: 0.0391\n",
      "Epoch 93/200\n",
      "16/16 [==============================] - 0s 15ms/step - loss: 0.0398 - reconstruction_loss: 0.0389\n",
      "Epoch 94/200\n",
      "16/16 [==============================] - 0s 16ms/step - loss: 0.0387 - reconstruction_loss: 0.0390\n",
      "Epoch 95/200\n",
      "16/16 [==============================] - 0s 16ms/step - loss: 0.0394 - reconstruction_loss: 0.0390\n",
      "Epoch 96/200\n",
      "16/16 [==============================] - 0s 16ms/step - loss: 0.0385 - reconstruction_loss: 0.0389\n",
      "Epoch 97/200\n",
      "16/16 [==============================] - 0s 16ms/step - loss: 0.0390 - reconstruction_loss: 0.0389\n",
      "Epoch 98/200\n",
      "16/16 [==============================] - 0s 16ms/step - loss: 0.0391 - reconstruction_loss: 0.0389\n",
      "Epoch 99/200\n",
      "16/16 [==============================] - 0s 15ms/step - loss: 0.0391 - reconstruction_loss: 0.0389\n",
      "Epoch 100/200\n",
      "16/16 [==============================] - 0s 16ms/step - loss: 0.0394 - reconstruction_loss: 0.0388\n",
      "Epoch 101/200\n",
      "16/16 [==============================] - 0s 17ms/step - loss: 0.0390 - reconstruction_loss: 0.0388\n",
      "Epoch 102/200\n",
      "16/16 [==============================] - 0s 17ms/step - loss: 0.0391 - reconstruction_loss: 0.0387\n",
      "Epoch 103/200\n",
      "16/16 [==============================] - 0s 17ms/step - loss: 0.0387 - reconstruction_loss: 0.0388\n",
      "Epoch 104/200\n",
      "16/16 [==============================] - 0s 17ms/step - loss: 0.0385 - reconstruction_loss: 0.0387\n",
      "Epoch 105/200\n",
      "16/16 [==============================] - 0s 17ms/step - loss: 0.0387 - reconstruction_loss: 0.0386\n",
      "Epoch 106/200\n",
      "16/16 [==============================] - 0s 16ms/step - loss: 0.0390 - reconstruction_loss: 0.0386\n",
      "Epoch 107/200\n",
      "16/16 [==============================] - 0s 16ms/step - loss: 0.0384 - reconstruction_loss: 0.0386\n",
      "Epoch 108/200\n",
      "16/16 [==============================] - 0s 16ms/step - loss: 0.0389 - reconstruction_loss: 0.0385\n",
      "Epoch 109/200\n",
      "16/16 [==============================] - 0s 16ms/step - loss: 0.0387 - reconstruction_loss: 0.0386\n",
      "Epoch 110/200\n",
      "16/16 [==============================] - 0s 17ms/step - loss: 0.0387 - reconstruction_loss: 0.0386\n",
      "Epoch 111/200\n",
      "16/16 [==============================] - 0s 16ms/step - loss: 0.0381 - reconstruction_loss: 0.0385\n",
      "Epoch 112/200\n",
      "16/16 [==============================] - 0s 16ms/step - loss: 0.0382 - reconstruction_loss: 0.0385\n",
      "Epoch 113/200\n",
      "16/16 [==============================] - 0s 16ms/step - loss: 0.0381 - reconstruction_loss: 0.0383\n",
      "Epoch 114/200\n",
      "16/16 [==============================] - 0s 17ms/step - loss: 0.0386 - reconstruction_loss: 0.0385\n",
      "Epoch 115/200\n",
      "16/16 [==============================] - 0s 17ms/step - loss: 0.0387 - reconstruction_loss: 0.0386\n",
      "Epoch 116/200\n",
      "16/16 [==============================] - 0s 17ms/step - loss: 0.0385 - reconstruction_loss: 0.0384\n",
      "Epoch 117/200\n",
      "16/16 [==============================] - 0s 16ms/step - loss: 0.0384 - reconstruction_loss: 0.0383\n",
      "Epoch 118/200\n",
      "16/16 [==============================] - 0s 16ms/step - loss: 0.0383 - reconstruction_loss: 0.0382\n",
      "Epoch 119/200\n",
      "16/16 [==============================] - 0s 17ms/step - loss: 0.0382 - reconstruction_loss: 0.0382\n",
      "Epoch 120/200\n",
      "16/16 [==============================] - 0s 18ms/step - loss: 0.0385 - reconstruction_loss: 0.0381\n",
      "Epoch 121/200\n",
      "16/16 [==============================] - 0s 17ms/step - loss: 0.0378 - reconstruction_loss: 0.0379\n",
      "Epoch 122/200\n",
      "16/16 [==============================] - 0s 17ms/step - loss: 0.0381 - reconstruction_loss: 0.0379\n",
      "Epoch 123/200\n",
      "16/16 [==============================] - 0s 17ms/step - loss: 0.0382 - reconstruction_loss: 0.0378\n",
      "Epoch 124/200\n",
      "16/16 [==============================] - 0s 19ms/step - loss: 0.0378 - reconstruction_loss: 0.0377\n",
      "Epoch 125/200\n",
      "16/16 [==============================] - 0s 16ms/step - loss: 0.0374 - reconstruction_loss: 0.0375\n",
      "Epoch 126/200\n",
      "16/16 [==============================] - 0s 17ms/step - loss: 0.0374 - reconstruction_loss: 0.0374\n",
      "Epoch 127/200\n",
      "16/16 [==============================] - 0s 17ms/step - loss: 0.0376 - reconstruction_loss: 0.0371\n",
      "Epoch 128/200\n",
      "16/16 [==============================] - 0s 17ms/step - loss: 0.0370 - reconstruction_loss: 0.0369\n",
      "Epoch 129/200\n",
      "16/16 [==============================] - 0s 17ms/step - loss: 0.0370 - reconstruction_loss: 0.0367\n",
      "Epoch 130/200\n",
      "16/16 [==============================] - 0s 17ms/step - loss: 0.0368 - reconstruction_loss: 0.0366\n",
      "Epoch 131/200\n",
      "16/16 [==============================] - 0s 17ms/step - loss: 0.0359 - reconstruction_loss: 0.0364\n",
      "Epoch 132/200\n",
      "16/16 [==============================] - 0s 17ms/step - loss: 0.0362 - reconstruction_loss: 0.0363\n",
      "Epoch 133/200\n",
      "16/16 [==============================] - 0s 16ms/step - loss: 0.0367 - reconstruction_loss: 0.0363\n",
      "Epoch 134/200\n",
      "16/16 [==============================] - 0s 17ms/step - loss: 0.0366 - reconstruction_loss: 0.0362\n",
      "Epoch 135/200\n",
      "16/16 [==============================] - 0s 16ms/step - loss: 0.0365 - reconstruction_loss: 0.0359\n",
      "Epoch 136/200\n",
      "16/16 [==============================] - 0s 17ms/step - loss: 0.0364 - reconstruction_loss: 0.0358\n",
      "Epoch 137/200\n",
      "16/16 [==============================] - 0s 17ms/step - loss: 0.0356 - reconstruction_loss: 0.0358\n",
      "Epoch 138/200\n",
      "16/16 [==============================] - 0s 16ms/step - loss: 0.0358 - reconstruction_loss: 0.0356\n",
      "Epoch 139/200\n",
      "16/16 [==============================] - 0s 16ms/step - loss: 0.0359 - reconstruction_loss: 0.0356\n",
      "Epoch 140/200\n",
      "16/16 [==============================] - 0s 16ms/step - loss: 0.0356 - reconstruction_loss: 0.0355\n",
      "Epoch 141/200\n",
      "16/16 [==============================] - 0s 16ms/step - loss: 0.0352 - reconstruction_loss: 0.0354\n",
      "Epoch 142/200\n",
      "16/16 [==============================] - 0s 17ms/step - loss: 0.0354 - reconstruction_loss: 0.0353\n",
      "Epoch 143/200\n",
      "16/16 [==============================] - 0s 17ms/step - loss: 0.0354 - reconstruction_loss: 0.0353\n",
      "Epoch 144/200\n",
      "16/16 [==============================] - 0s 16ms/step - loss: 0.0360 - reconstruction_loss: 0.0355\n",
      "Epoch 145/200\n",
      "16/16 [==============================] - 0s 17ms/step - loss: 0.0351 - reconstruction_loss: 0.0352\n",
      "Epoch 146/200\n"
     ]
    },
    {
     "name": "stdout",
     "output_type": "stream",
     "text": [
      "16/16 [==============================] - 0s 19ms/step - loss: 0.0346 - reconstruction_loss: 0.0351\n",
      "Epoch 147/200\n",
      "16/16 [==============================] - 0s 16ms/step - loss: 0.0353 - reconstruction_loss: 0.0350\n",
      "Epoch 148/200\n",
      "16/16 [==============================] - 0s 17ms/step - loss: 0.0352 - reconstruction_loss: 0.0352\n",
      "Epoch 149/200\n",
      "16/16 [==============================] - 0s 16ms/step - loss: 0.0351 - reconstruction_loss: 0.0350\n",
      "Epoch 150/200\n",
      "16/16 [==============================] - 0s 16ms/step - loss: 0.0348 - reconstruction_loss: 0.0348\n",
      "Epoch 151/200\n",
      "16/16 [==============================] - 0s 23ms/step - loss: 0.0351 - reconstruction_loss: 0.0349\n",
      "Epoch 152/200\n",
      "16/16 [==============================] - 0s 17ms/step - loss: 0.0346 - reconstruction_loss: 0.0348\n",
      "Epoch 153/200\n",
      "16/16 [==============================] - 0s 16ms/step - loss: 0.0348 - reconstruction_loss: 0.0347\n",
      "Epoch 154/200\n",
      "16/16 [==============================] - 0s 16ms/step - loss: 0.0346 - reconstruction_loss: 0.0346\n",
      "Epoch 155/200\n",
      "16/16 [==============================] - 0s 17ms/step - loss: 0.0344 - reconstruction_loss: 0.0346\n",
      "Epoch 156/200\n",
      "16/16 [==============================] - 0s 18ms/step - loss: 0.0345 - reconstruction_loss: 0.0345\n",
      "Epoch 157/200\n",
      "16/16 [==============================] - 0s 18ms/step - loss: 0.0344 - reconstruction_loss: 0.0345\n",
      "Epoch 158/200\n",
      "16/16 [==============================] - 0s 17ms/step - loss: 0.0349 - reconstruction_loss: 0.0346\n",
      "Epoch 159/200\n",
      "16/16 [==============================] - 0s 17ms/step - loss: 0.0347 - reconstruction_loss: 0.0344\n",
      "Epoch 160/200\n",
      "16/16 [==============================] - 0s 17ms/step - loss: 0.0340 - reconstruction_loss: 0.0344\n",
      "Epoch 161/200\n",
      "16/16 [==============================] - 0s 16ms/step - loss: 0.0344 - reconstruction_loss: 0.0346\n",
      "Epoch 162/200\n",
      "16/16 [==============================] - 0s 16ms/step - loss: 0.0348 - reconstruction_loss: 0.0346\n",
      "Epoch 163/200\n",
      "16/16 [==============================] - 0s 17ms/step - loss: 0.0345 - reconstruction_loss: 0.0344\n",
      "Epoch 164/200\n",
      "16/16 [==============================] - 0s 17ms/step - loss: 0.0343 - reconstruction_loss: 0.0343\n",
      "Epoch 165/200\n",
      "16/16 [==============================] - 0s 18ms/step - loss: 0.0340 - reconstruction_loss: 0.0343\n",
      "Epoch 166/200\n",
      "16/16 [==============================] - 0s 17ms/step - loss: 0.0343 - reconstruction_loss: 0.0344\n",
      "Epoch 167/200\n",
      "16/16 [==============================] - 0s 17ms/step - loss: 0.0345 - reconstruction_loss: 0.0344\n",
      "Epoch 168/200\n",
      "16/16 [==============================] - 0s 16ms/step - loss: 0.0344 - reconstruction_loss: 0.0344\n",
      "Epoch 169/200\n",
      "16/16 [==============================] - 0s 17ms/step - loss: 0.0343 - reconstruction_loss: 0.0343\n",
      "Epoch 170/200\n",
      "16/16 [==============================] - 0s 17ms/step - loss: 0.0341 - reconstruction_loss: 0.0342\n",
      "Epoch 171/200\n",
      "16/16 [==============================] - 0s 17ms/step - loss: 0.0341 - reconstruction_loss: 0.0343\n",
      "Epoch 172/200\n",
      "16/16 [==============================] - 0s 17ms/step - loss: 0.0341 - reconstruction_loss: 0.0343\n",
      "Epoch 173/200\n",
      "16/16 [==============================] - 0s 17ms/step - loss: 0.0344 - reconstruction_loss: 0.0343\n",
      "Epoch 174/200\n",
      "16/16 [==============================] - 0s 18ms/step - loss: 0.0343 - reconstruction_loss: 0.0342\n",
      "Epoch 175/200\n",
      "16/16 [==============================] - 0s 17ms/step - loss: 0.0341 - reconstruction_loss: 0.0342\n",
      "Epoch 176/200\n",
      "16/16 [==============================] - 0s 17ms/step - loss: 0.0343 - reconstruction_loss: 0.0342\n",
      "Epoch 177/200\n",
      "16/16 [==============================] - 0s 17ms/step - loss: 0.0343 - reconstruction_loss: 0.0342\n",
      "Epoch 178/200\n",
      "16/16 [==============================] - 0s 16ms/step - loss: 0.0344 - reconstruction_loss: 0.0344\n",
      "Epoch 179/200\n",
      "16/16 [==============================] - 0s 16ms/step - loss: 0.0341 - reconstruction_loss: 0.0342\n",
      "Epoch 180/200\n",
      "16/16 [==============================] - 0s 18ms/step - loss: 0.0341 - reconstruction_loss: 0.0342\n",
      "Epoch 181/200\n",
      "16/16 [==============================] - 0s 17ms/step - loss: 0.0339 - reconstruction_loss: 0.0341\n",
      "Epoch 182/200\n",
      "16/16 [==============================] - 0s 16ms/step - loss: 0.0342 - reconstruction_loss: 0.0341\n",
      "Epoch 183/200\n",
      "16/16 [==============================] - 0s 18ms/step - loss: 0.0340 - reconstruction_loss: 0.0341\n",
      "Epoch 184/200\n",
      "16/16 [==============================] - 0s 17ms/step - loss: 0.0340 - reconstruction_loss: 0.0340\n",
      "Epoch 185/200\n",
      "16/16 [==============================] - 0s 17ms/step - loss: 0.0344 - reconstruction_loss: 0.0342\n",
      "Epoch 186/200\n",
      "16/16 [==============================] - 0s 16ms/step - loss: 0.0344 - reconstruction_loss: 0.0341\n",
      "Epoch 187/200\n",
      "16/16 [==============================] - 0s 19ms/step - loss: 0.0340 - reconstruction_loss: 0.0340\n",
      "Epoch 188/200\n",
      "16/16 [==============================] - 0s 17ms/step - loss: 0.0340 - reconstruction_loss: 0.0340\n",
      "Epoch 189/200\n",
      "16/16 [==============================] - 0s 17ms/step - loss: 0.0339 - reconstruction_loss: 0.0340\n",
      "Epoch 190/200\n",
      "16/16 [==============================] - 0s 17ms/step - loss: 0.0338 - reconstruction_loss: 0.0339\n",
      "Epoch 191/200\n",
      "16/16 [==============================] - 0s 17ms/step - loss: 0.0340 - reconstruction_loss: 0.0338\n",
      "Epoch 192/200\n",
      "16/16 [==============================] - 0s 17ms/step - loss: 0.0340 - reconstruction_loss: 0.0339\n",
      "Epoch 193/200\n",
      "16/16 [==============================] - 0s 17ms/step - loss: 0.0338 - reconstruction_loss: 0.0339\n",
      "Epoch 194/200\n",
      "16/16 [==============================] - 0s 17ms/step - loss: 0.0337 - reconstruction_loss: 0.0338\n",
      "Epoch 195/200\n",
      "16/16 [==============================] - 0s 17ms/step - loss: 0.0338 - reconstruction_loss: 0.0339\n",
      "Epoch 196/200\n",
      "16/16 [==============================] - 0s 17ms/step - loss: 0.0338 - reconstruction_loss: 0.0338\n",
      "Epoch 197/200\n",
      "16/16 [==============================] - 0s 17ms/step - loss: 0.0337 - reconstruction_loss: 0.0337\n",
      "Epoch 198/200\n",
      "16/16 [==============================] - 0s 17ms/step - loss: 0.0337 - reconstruction_loss: 0.0338\n",
      "Epoch 199/200\n",
      "16/16 [==============================] - 0s 17ms/step - loss: 0.0339 - reconstruction_loss: 0.0339\n",
      "Epoch 200/200\n",
      "16/16 [==============================] - 0s 18ms/step - loss: 0.0339 - reconstruction_loss: 0.0338\n"
     ]
    },
    {
     "data": {
      "text/plain": [
       "<keras.callbacks.History at 0x15ae84ee0>"
      ]
     },
     "execution_count": 8,
     "metadata": {},
     "output_type": "execute_result"
    }
   ],
   "source": [
    "img_dim = x_train.shape[1:]\n",
    "latent_dim = 2 #same dimension as the size of our state variable for the dynamic updates \n",
    "\n",
    "ae = AE(build_encoder(input_shape = img_dim, latent_dim = latent_dim), \n",
    "        build_decoder(output_shape = int(np.prod(img_dim)), latent_dim = latent_dim))\n",
    "ae.compile(optimizer=tfk.optimizers.Adam()) #specify the optimizer reference in class above \n",
    "ae.fit(x_train, epochs=200, batch_size=64)"
   ]
  },
  {
   "cell_type": "code",
   "execution_count": 9,
   "id": "269692c9",
   "metadata": {},
   "outputs": [
    {
     "data": {
      "text/plain": [
       "[<matplotlib.lines.Line2D at 0x15b636d90>]"
      ]
     },
     "execution_count": 9,
     "metadata": {},
     "output_type": "execute_result"
    },
    {
     "data": {
      "image/png": "[encoded data removed]",
      "text/plain": [
       "<Figure size 432x288 with 1 Axes>"
      ]
     },
     "metadata": {
      "needs_background": "light"
     },
     "output_type": "display_data"
    }
   ],
   "source": [
    "#generate test data and make some predictions\n",
    "params = {'c':0.6, 'm':0.2, 'k':1}\n",
    "x0 = [1, 1]\n",
    "t = np.arange(0, 20, 0.1)\n",
    "\n",
    "x_test = generate_spring_data(params,t,x0)\n",
    "\n",
    "\n",
    "plt.plot(x_test[:,0])"
   ]
  },
  {
   "cell_type": "code",
   "execution_count": 10,
   "id": "27691613",
   "metadata": {},
   "outputs": [
    {
     "data": {
      "text/plain": [
       "(200, 51, 51)"
      ]
     },
     "execution_count": 10,
     "metadata": {},
     "output_type": "execute_result"
    }
   ],
   "source": [
    "y,_,_ = spring_to_movie(x_test[:,0], dt=0.1, dim = dim)\n",
    "y.shape"
   ]
  },
  {
   "cell_type": "code",
   "execution_count": 11,
   "id": "b66e5671",
   "metadata": {},
   "outputs": [],
   "source": [
    "y_pred = ae.decoder(ae.encoder(np.reshape(y, (y.shape[0], dim*dim))))\n",
    "y_pred = np.reshape(y_pred, (y.shape[0], dim, dim))\n"
   ]
  },
  {
   "cell_type": "code",
   "execution_count": 12,
   "id": "946c4bde",
   "metadata": {},
   "outputs": [
    {
     "data": {
      "image/png": "[encoded data removed]",
      "text/plain": [
       "<Figure size 1296x288 with 20 Axes>"
      ]
     },
     "metadata": {
      "needs_background": "light"
     },
     "output_type": "display_data"
    }
   ],
   "source": [
    "fig, axs = plt.subplots(2,10, figsize=(18,4))\n",
    "\n",
    "for i in range(10):\n",
    "    axs[0][i].imshow(y[i*5], cmap = \"gray\")\n",
    "    axs[1][i].imshow(y_pred[i*5], cmap = \"gray\")"
   ]
  },
  {
   "cell_type": "markdown",
   "id": "adf3a623",
   "metadata": {},
   "source": [
    "## An entire aside on testing the subclassed model performance on MNIST "
   ]
  },
  {
   "cell_type": "code",
   "execution_count": 96,
   "id": "62cc9eec",
   "metadata": {},
   "outputs": [
    {
     "name": "stdout",
     "output_type": "stream",
     "text": [
      "(60000, 28, 28) (10000, 28, 28)\n",
      "(60000, 784)\n",
      "(10000, 784)\n"
     ]
    }
   ],
   "source": [
    "#don't need labels since self-supervised \n",
    "(x_train, _), (x_test, _) = tfk.datasets.mnist.load_data()\n",
    "print(x_train.shape, x_test.shape)\n",
    "\n",
    "#preprocess the data\n",
    "x_train = x_train.astype('float32') / 255. #normalize \n",
    "x_test = x_test.astype('float32') / 255.\n",
    "\n",
    "x_train = x_train.reshape((len(x_train), x_train[0].size))\n",
    "x_test = x_test.reshape((len(x_test), x_test[0].size))\n",
    "print(x_train.shape)\n",
    "print(x_test.shape)"
   ]
  },
  {
   "cell_type": "code",
   "execution_count": 97,
   "id": "5fadc6ee",
   "metadata": {},
   "outputs": [],
   "source": [
    "#i know this works with a specific network type \n",
    "encoding_dim = 32\n",
    "dim = x_train[0].size\n",
    "\n",
    "input_img = tfk.layers.Input(shape=(dim,), name = \"input\")\n",
    "encoded = tfk.layers.Dense(units = encoding_dim, activation = 'relu', name = 'latent')(input_img)\n",
    "decoded = tfk.layers.Dense(units = dim, activation = 'sigmoid', name = \"output\")(encoded)\n",
    "\n",
    "autoencoder = tfk.Model(input_img, decoded, name = \"autoencoder\")\n",
    "encoder = tfk.Model(input_img, encoded, name = \"encoder\")\n",
    "\n",
    "#now create the decoder architecture \n",
    "encoded_input = tfk.layers.Input(shape=(encoding_dim,), name = \"input\") #new layer of type `Input`\n",
    "decoded_output = autoencoder.layers[-1](encoded_input) #reuse the decoded layer \n",
    "\n",
    "decoder = tfk.Model(encoded_input, decoded_output, name = \"decoder\") "
   ]
  },
  {
   "cell_type": "code",
   "execution_count": 117,
   "id": "226bb093",
   "metadata": {
    "scrolled": true
   },
   "outputs": [
    {
     "ename": "NameError",
     "evalue": "name 'encoding_dim' is not defined",
     "output_type": "error",
     "traceback": [
      "\u001b[0;31m---------------------------------------------------------------------------\u001b[0m",
      "\u001b[0;31mNameError\u001b[0m                                 Traceback (most recent call last)",
      "\u001b[0;32m<ipython-input-117-3cc644e23e80>\u001b[0m in \u001b[0;36m<module>\u001b[0;34m\u001b[0m\n\u001b[0;32m----> 1\u001b[0;31m ae = AE(build_encoder(input_shape = dim, latent_dim = encoding_dim), \n\u001b[0m\u001b[1;32m      2\u001b[0m         build_decoder(output_shape = int(np.prod(dim)), latent_dim = encoding_dim))\n\u001b[1;32m      3\u001b[0m \u001b[0;34m\u001b[0m\u001b[0m\n\u001b[1;32m      4\u001b[0m \u001b[0mae\u001b[0m\u001b[0;34m.\u001b[0m\u001b[0mcompile\u001b[0m\u001b[0;34m(\u001b[0m\u001b[0moptimizer\u001b[0m\u001b[0;34m=\u001b[0m\u001b[0mtfk\u001b[0m\u001b[0;34m.\u001b[0m\u001b[0moptimizers\u001b[0m\u001b[0;34m.\u001b[0m\u001b[0mAdam\u001b[0m\u001b[0;34m(\u001b[0m\u001b[0;34m)\u001b[0m\u001b[0;34m)\u001b[0m \u001b[0;31m#specify the optimizer reference in class above\u001b[0m\u001b[0;34m\u001b[0m\u001b[0;34m\u001b[0m\u001b[0m\n\u001b[1;32m      5\u001b[0m \u001b[0mae\u001b[0m\u001b[0;34m.\u001b[0m\u001b[0mfit\u001b[0m\u001b[0;34m(\u001b[0m\u001b[0mx_train\u001b[0m\u001b[0;34m,\u001b[0m \u001b[0mepochs\u001b[0m\u001b[0;34m=\u001b[0m\u001b[0;36m10\u001b[0m\u001b[0;34m,\u001b[0m \u001b[0mbatch_size\u001b[0m\u001b[0;34m=\u001b[0m\u001b[0;36m256\u001b[0m\u001b[0;34m)\u001b[0m\u001b[0;34m\u001b[0m\u001b[0;34m\u001b[0m\u001b[0m\n",
      "\u001b[0;31mNameError\u001b[0m: name 'encoding_dim' is not defined"
     ]
    }
   ],
   "source": [
    "ae = AE(build_encoder(input_shape = dim, latent_dim = encoding_dim), \n",
    "        build_decoder(output_shape = int(np.prod(dim)), latent_dim = encoding_dim))\n",
    "\n",
    "ae.compile(optimizer=tfk.optimizers.Adam()) #specify the optimizer reference in class above \n",
    "ae.fit(x_train, epochs=10, batch_size=256)"
   ]
  },
  {
   "cell_type": "code",
   "execution_count": 99,
   "id": "bb991fdd",
   "metadata": {},
   "outputs": [],
   "source": [
    "pred = ae.decoder(ae.encoder(x_train))\n",
    "pred = np.reshape(pred, (x_train.shape[0], 28,28))\n"
   ]
  },
  {
   "cell_type": "code",
   "execution_count": 100,
   "id": "b0640dd5",
   "metadata": {},
   "outputs": [
    {
     "data": {
      "image/png": "[encoded data removed]",
      "text/plain": [
       "<Figure size 1296x288 with 20 Axes>"
      ]
     },
     "metadata": {
      "needs_background": "light"
     },
     "output_type": "display_data"
    }
   ],
   "source": [
    "fig, axs = plt.subplots(2,10, figsize=(18,4))\n",
    "\n",
    "for i in range(10):\n",
    "    axs[0][i].imshow(x_train[i].reshape(28,28), cmap = \"gray\")\n",
    "    axs[1][i].imshow(pred[i], cmap = \"gray\")"
   ]
  },
  {
   "cell_type": "markdown",
   "id": "74ac4bed",
   "metadata": {},
   "source": [
    "### aside done...\n",
    "\n",
    "## pass derivative info through encoder and decoder \n",
    "- encoder should return the derivatives as well "
   ]
  },
  {
   "cell_type": "code",
   "execution_count": 37,
   "id": "ec838a42",
   "metadata": {},
   "outputs": [
    {
     "name": "stdout",
     "output_type": "stream",
     "text": [
      "Model: \"simple\"\n",
      "_________________________________________________________________\n",
      " Layer (type)                Output Shape              Param #   \n",
      "=================================================================\n",
      " input (InputLayer)          [(None, 1, 1)]            0         \n",
      "                                                                 \n",
      " hidden1 (Dense)             (None, 1, 2)              4         \n",
      "                                                                 \n",
      " hidden2 (Dense)             (None, 1, 2)              6         \n",
      "                                                                 \n",
      " output (Dense)              (None, 1, 1)              3         \n",
      "                                                                 \n",
      "=================================================================\n",
      "Total params: 13\n",
      "Trainable params: 13\n",
      "Non-trainable params: 0\n",
      "_________________________________________________________________\n"
     ]
    }
   ],
   "source": [
    "#shallow network \n",
    "def my_init(shape, dtype=None):\n",
    "    return tf.ones(shape, dtype=dtype)\n",
    "\n",
    "a_ = tfk.Input(shape = (1,1), name = \"input\")\n",
    "a = tfk.layers.Dense(units = 2, kernel_initializer = my_init, activation = 'sigmoid', name = \"hidden1\")(a_)\n",
    "a = tfk.layers.Dense(units = 2, kernel_initializer = my_init, activation = 'sigmoid', name = \"hidden2\")(a)\n",
    "a = tfk.layers.Dense(units = 1, kernel_initializer = my_init, activation = 'sigmoid', name = \"output\")(a)\n",
    "\n",
    "\n",
    "m = tfk.Model(a_, a, name = \"simple\")\n",
    "m.summary()"
   ]
  },
  {
   "cell_type": "code",
   "execution_count": 38,
   "id": "97da130e",
   "metadata": {},
   "outputs": [],
   "source": [
    "a = tf.constant([0.], shape = (1,1))\n",
    "da = tf.constant([0.5], shape = (1,1))"
   ]
  },
  {
   "cell_type": "code",
   "execution_count": 39,
   "id": "94228c05",
   "metadata": {},
   "outputs": [],
   "source": [
    "temp = a\n",
    "dz = da\n",
    "for i in range(len(m.weights)//2):\n",
    "    weight = m.weights[2*i]\n",
    "    bias = m.weights[2*i+1]\n",
    "\n",
    "    temp = tf.matmul(temp, weight) + bias #pre-activation\n",
    "    temp = tf.nn.sigmoid(temp) #activation \n",
    "    \n",
    "    #dz = tf.multiply(tf.cast(temp>0, float), tf.matmul(dz, weight)) #derivative \n",
    "    dz = tf.multiply(temp*(1-temp), tf.matmul(dz, weight)) #derivative     "
   ]
  },
  {
   "cell_type": "code",
   "execution_count": null,
   "id": "67d25265",
   "metadata": {},
   "outputs": [],
   "source": [
    "tf.nn.sigmoid(2*)"
   ]
  },
  {
   "cell_type": "code",
   "execution_count": 42,
   "id": "1ff5dcb8",
   "metadata": {},
   "outputs": [
    {
     "data": {
      "text/plain": [
       "<tf.Tensor: shape=(1, 1), dtype=float32, numpy=array([[0.81185627]], dtype=float32)>"
      ]
     },
     "execution_count": 42,
     "metadata": {},
     "output_type": "execute_result"
    }
   ],
   "source": [
    "temp"
   ]
  },
  {
   "cell_type": "code",
   "execution_count": null,
   "id": "90303ff0",
   "metadata": {},
   "outputs": [],
   "source": [
    "def z_derivative(self, model, data):\n",
    "        x, dx = data #unpack \n",
    "        \n",
    "        temp = x\n",
    "        dz = dx\n",
    "        for i in range(len(model.weights)//2):\n",
    "            weight = model.weights[2*i]\n",
    "            bias = model.weights[2*i+1]\n",
    "\n",
    "            #add a switch case here or something for selecting the activation \n",
    "\n",
    "            temp = tf.matmul(temp, weight) + bias #pre-activation\n",
    "            temp = tf.nn.relu(temp) #activation \n",
    "\n",
    "            dz = tf.multiply(tf.cast(temp>0, float), tf.matmul(dz, weight)) #derivative \n",
    "            #dz = tf.multiply(temp*(1-temp), tf.matmul(dz, weight)) #derivative\n",
    "        \n",
    "        return dz"
   ]
  },
  {
   "cell_type": "code",
   "execution_count": 30,
   "id": "f8eb5e93",
   "metadata": {},
   "outputs": [],
   "source": [
    "class DAE(tfk.Model):\n",
    "    def __init__(self, encoder, decoder, **kwargs):\n",
    "        super().__init__(**kwargs)\n",
    "        self.encoder = encoder\n",
    "        self.decoder = decoder\n",
    "        \n",
    "        #stateful metrics \n",
    "        self.total_loss_tracker = tfk.metrics.Mean(name=\"total_loss\")\n",
    "        self.reconstruction_loss_tracker = tfk.metrics.Mean(\n",
    "            name=\"reconstruction_loss\"\n",
    "        )\n",
    "\n",
    "    @property\n",
    "    def metrics(self):\n",
    "        return [\n",
    "            self.total_loss_tracker,\n",
    "            self.reconstruction_loss_tracker,\n",
    "        ]\n",
    "    \n",
    "    def train_step(self, data):\n",
    "        with tf.GradientTape() as tape:\n",
    "            #unpacking positional and derivative information \n",
    "            x,dx = tf.unstack(data[1])  #symbolic tensors not iterable so i have to do this \n",
    "            x = x[None,:]\n",
    "            dx = dx[None,:]\n",
    "        \n",
    "            z = self.encoder(x) \n",
    "            reconstruction = self.decoder(z) \n",
    "            \n",
    "            #derivatives \n",
    "            dz = z_derivative(self.encoder, (x,dx)) #utils.py\n",
    "            dx_out = z_derivative(self.decoder, (z, dz))\n",
    "            \n",
    "            #print((dx-dx_out).shape) #this is kinda promising \n",
    "\n",
    "            #use BCE for black and white pics \n",
    "            reconstruction_loss = tf.reduce_mean(\n",
    "                    tfk.losses.binary_crossentropy(x, reconstruction)\n",
    "            )\n",
    "            \n",
    "            total_loss = reconstruction_loss # + other terms \n",
    "            \n",
    "        #de-facto \n",
    "        grads = tape.gradient(total_loss, self.trainable_weights)\n",
    "        self.optimizer.apply_gradients(zip(grads, self.trainable_weights)) #will need to specify an optimizer \n",
    "        self.total_loss_tracker.update_state(total_loss)\n",
    "        self.reconstruction_loss_tracker.update_state(reconstruction_loss)\n",
    "        \n",
    "        return {\n",
    "            \"loss\": self.total_loss_tracker.result(),\n",
    "            \"reconstruction_loss\": self.reconstruction_loss_tracker.result(),\n",
    "        }"
   ]
  },
  {
   "cell_type": "code",
   "execution_count": 31,
   "id": "e85fcfca",
   "metadata": {},
   "outputs": [
    {
     "name": "stdout",
     "output_type": "stream",
     "text": [
      "(1000, 2, 2601)\n"
     ]
    }
   ],
   "source": [
    "#now our dataset consists of BOTH images and their derivatives\n",
    "x_ = np.reshape(x, (x.shape[0], np.prod(x.shape[1:])))\n",
    "dx_ = np.reshape(dx, (dx.shape[0], np.prod(dx.shape[1:])))\n",
    "\n",
    "x_train = np.array(list(zip(x_, dx_)))\n",
    "\n",
    "print(x_train.shape)"
   ]
  },
  {
   "cell_type": "code",
   "execution_count": 32,
   "id": "5e0f22f2",
   "metadata": {},
   "outputs": [
    {
     "data": {
      "text/plain": [
       "<matplotlib.image.AxesImage at 0x1646c2d60>"
      ]
     },
     "execution_count": 32,
     "metadata": {},
     "output_type": "execute_result"
    },
    {
     "data": {
      "image/png": "[encoded data removed]",
      "text/plain": [
       "<Figure size 432x288 with 2 Axes>"
      ]
     },
     "metadata": {
      "needs_background": "light"
     },
     "output_type": "display_data"
    }
   ],
   "source": [
    "#baseline \n",
    "f, a = plt.subplots(1,2)\n",
    "i = 100\n",
    "a[0].imshow(x[i].reshape(51,51), cmap = 'gray')\n",
    "a[1].imshow(dx[i].reshape(51,51), cmap = 'gray')"
   ]
  },
  {
   "cell_type": "code",
   "execution_count": 33,
   "id": "5668df71",
   "metadata": {},
   "outputs": [
    {
     "data": {
      "text/plain": [
       "<matplotlib.image.AxesImage at 0x1649b6a00>"
      ]
     },
     "execution_count": 33,
     "metadata": {},
     "output_type": "execute_result"
    },
    {
     "data": {
      "image/png": "[encoded data removed]",
      "text/plain": [
       "<Figure size 432x288 with 2 Axes>"
      ]
     },
     "metadata": {
      "needs_background": "light"
     },
     "output_type": "display_data"
    }
   ],
   "source": [
    "f, a = plt.subplots(1,2)\n",
    "i = 100\n",
    "a[0].imshow(x_train[i][0].reshape(51,51), cmap = 'gray')\n",
    "a[1].imshow(x_train[i][1].reshape(51,51), cmap = 'gray')"
   ]
  },
  {
   "cell_type": "code",
   "execution_count": 34,
   "id": "3ccb63fc",
   "metadata": {},
   "outputs": [
    {
     "name": "stdout",
     "output_type": "stream",
     "text": [
      "Epoch 1/250\n",
      "(1, 2601)\n",
      "(1, 2601)\n",
      "16/16 [==============================] - 1s 3ms/step - loss: 0.6823 - reconstruction_loss: 0.6593\n",
      "Epoch 2/250\n",
      "16/16 [==============================] - 0s 3ms/step - loss: 0.3504 - reconstruction_loss: 0.2169\n",
      "Epoch 3/250\n",
      "16/16 [==============================] - 0s 3ms/step - loss: 0.0585 - reconstruction_loss: 0.0560\n",
      "Epoch 4/250\n",
      "16/16 [==============================] - 0s 3ms/step - loss: 0.0564 - reconstruction_loss: 0.0481\n",
      "Epoch 5/250\n",
      "16/16 [==============================] - 0s 3ms/step - loss: 0.0525 - reconstruction_loss: 0.0437\n",
      "Epoch 6/250\n",
      "16/16 [==============================] - 0s 3ms/step - loss: 0.0531 - reconstruction_loss: 0.0523\n",
      "Epoch 7/250\n",
      "16/16 [==============================] - 0s 3ms/step - loss: 0.0466 - reconstruction_loss: 0.0475\n",
      "Epoch 8/250\n",
      "16/16 [==============================] - 0s 3ms/step - loss: 0.0444 - reconstruction_loss: 0.0441\n",
      "Epoch 9/250\n",
      "16/16 [==============================] - 0s 3ms/step - loss: 0.0441 - reconstruction_loss: 0.0430\n",
      "Epoch 10/250\n",
      "16/16 [==============================] - 0s 3ms/step - loss: 0.0395 - reconstruction_loss: 0.0372\n",
      "Epoch 11/250\n",
      "16/16 [==============================] - 0s 3ms/step - loss: 0.0358 - reconstruction_loss: 0.0339\n",
      "Epoch 12/250\n",
      "16/16 [==============================] - 0s 3ms/step - loss: 0.0500 - reconstruction_loss: 0.0492\n",
      "Epoch 13/250\n",
      "16/16 [==============================] - 0s 3ms/step - loss: 0.0397 - reconstruction_loss: 0.0397\n",
      "Epoch 14/250\n",
      "16/16 [==============================] - 0s 3ms/step - loss: 0.0381 - reconstruction_loss: 0.0360\n",
      "Epoch 15/250\n",
      "16/16 [==============================] - 0s 3ms/step - loss: 0.0396 - reconstruction_loss: 0.0424\n",
      "Epoch 16/250\n",
      "16/16 [==============================] - 0s 3ms/step - loss: 0.0318 - reconstruction_loss: 0.0319\n",
      "Epoch 17/250\n",
      "16/16 [==============================] - 0s 3ms/step - loss: 0.0326 - reconstruction_loss: 0.0333\n",
      "Epoch 18/250\n",
      "16/16 [==============================] - 0s 3ms/step - loss: 0.0428 - reconstruction_loss: 0.0414\n",
      "Epoch 19/250\n",
      "16/16 [==============================] - 0s 3ms/step - loss: 0.0416 - reconstruction_loss: 0.0446\n",
      "Epoch 20/250\n",
      "16/16 [==============================] - 0s 3ms/step - loss: 0.0469 - reconstruction_loss: 0.0452\n",
      "Epoch 21/250\n",
      "16/16 [==============================] - 0s 4ms/step - loss: 0.0391 - reconstruction_loss: 0.0378\n",
      "Epoch 22/250\n",
      "16/16 [==============================] - 0s 4ms/step - loss: 0.0492 - reconstruction_loss: 0.0506\n",
      "Epoch 23/250\n",
      "16/16 [==============================] - 0s 4ms/step - loss: 0.0435 - reconstruction_loss: 0.0397\n",
      "Epoch 24/250\n",
      "16/16 [==============================] - 0s 4ms/step - loss: 0.0462 - reconstruction_loss: 0.0460\n",
      "Epoch 25/250\n",
      "16/16 [==============================] - 0s 4ms/step - loss: 0.0350 - reconstruction_loss: 0.0413\n",
      "Epoch 26/250\n",
      "16/16 [==============================] - 0s 3ms/step - loss: 0.0437 - reconstruction_loss: 0.0409\n",
      "Epoch 27/250\n",
      "16/16 [==============================] - 0s 3ms/step - loss: 0.0497 - reconstruction_loss: 0.0430\n",
      "Epoch 28/250\n",
      "16/16 [==============================] - 0s 3ms/step - loss: 0.0435 - reconstruction_loss: 0.0373\n",
      "Epoch 29/250\n",
      "16/16 [==============================] - 0s 3ms/step - loss: 0.0396 - reconstruction_loss: 0.0439\n",
      "Epoch 30/250\n",
      "16/16 [==============================] - 0s 3ms/step - loss: 0.0478 - reconstruction_loss: 0.0435\n",
      "Epoch 31/250\n",
      "16/16 [==============================] - 0s 3ms/step - loss: 0.0458 - reconstruction_loss: 0.0491\n",
      "Epoch 32/250\n",
      "16/16 [==============================] - 0s 3ms/step - loss: 0.0415 - reconstruction_loss: 0.0420\n",
      "Epoch 33/250\n",
      "16/16 [==============================] - 0s 3ms/step - loss: 0.0394 - reconstruction_loss: 0.0424\n",
      "Epoch 34/250\n",
      "16/16 [==============================] - 0s 3ms/step - loss: 0.0452 - reconstruction_loss: 0.0473\n",
      "Epoch 35/250\n",
      "16/16 [==============================] - 0s 3ms/step - loss: 0.0417 - reconstruction_loss: 0.0425\n",
      "Epoch 36/250\n",
      "16/16 [==============================] - 0s 3ms/step - loss: 0.0435 - reconstruction_loss: 0.0447\n",
      "Epoch 37/250\n",
      "16/16 [==============================] - 0s 4ms/step - loss: 0.0401 - reconstruction_loss: 0.0376\n",
      "Epoch 38/250\n",
      "16/16 [==============================] - 0s 3ms/step - loss: 0.0391 - reconstruction_loss: 0.0401\n",
      "Epoch 39/250\n",
      "16/16 [==============================] - 0s 5ms/step - loss: 0.0373 - reconstruction_loss: 0.0392\n",
      "Epoch 40/250\n",
      " 1/16 [>.............................] - ETA: 0s - loss: 0.0380 - reconstruction_loss: 0.0380"
     ]
    },
    {
     "ename": "KeyboardInterrupt",
     "evalue": "",
     "output_type": "error",
     "traceback": [
      "\u001b[0;31m---------------------------------------------------------------------------\u001b[0m",
      "\u001b[0;31mKeyboardInterrupt\u001b[0m                         Traceback (most recent call last)",
      "\u001b[0;32m<ipython-input-34-2248c2447e14>\u001b[0m in \u001b[0;36m<module>\u001b[0;34m\u001b[0m\n\u001b[1;32m      6\u001b[0m \u001b[0;34m\u001b[0m\u001b[0m\n\u001b[1;32m      7\u001b[0m \u001b[0mdae\u001b[0m\u001b[0;34m.\u001b[0m\u001b[0mcompile\u001b[0m\u001b[0;34m(\u001b[0m\u001b[0moptimizer\u001b[0m\u001b[0;34m=\u001b[0m\u001b[0mtfk\u001b[0m\u001b[0;34m.\u001b[0m\u001b[0moptimizers\u001b[0m\u001b[0;34m.\u001b[0m\u001b[0mAdam\u001b[0m\u001b[0;34m(\u001b[0m\u001b[0;34m)\u001b[0m\u001b[0;34m)\u001b[0m \u001b[0;31m#specify the optimizer reference in class above\u001b[0m\u001b[0;34m\u001b[0m\u001b[0;34m\u001b[0m\u001b[0m\n\u001b[0;32m----> 8\u001b[0;31m \u001b[0mdae\u001b[0m\u001b[0;34m.\u001b[0m\u001b[0mfit\u001b[0m\u001b[0;34m(\u001b[0m\u001b[0mx_train\u001b[0m\u001b[0;34m,\u001b[0m \u001b[0mepochs\u001b[0m\u001b[0;34m=\u001b[0m\u001b[0;36m250\u001b[0m\u001b[0;34m,\u001b[0m \u001b[0mbatch_size\u001b[0m\u001b[0;34m=\u001b[0m\u001b[0;36m64\u001b[0m\u001b[0;34m)\u001b[0m\u001b[0;34m\u001b[0m\u001b[0;34m\u001b[0m\u001b[0m\n\u001b[0m",
      "\u001b[0;32m~/.pyenv/versions/3.9.3/lib/python3.9/site-packages/keras/utils/traceback_utils.py\u001b[0m in \u001b[0;36merror_handler\u001b[0;34m(*args, **kwargs)\u001b[0m\n\u001b[1;32m     63\u001b[0m         \u001b[0mfiltered_tb\u001b[0m \u001b[0;34m=\u001b[0m \u001b[0;32mNone\u001b[0m\u001b[0;34m\u001b[0m\u001b[0;34m\u001b[0m\u001b[0m\n\u001b[1;32m     64\u001b[0m         \u001b[0;32mtry\u001b[0m\u001b[0;34m:\u001b[0m\u001b[0;34m\u001b[0m\u001b[0;34m\u001b[0m\u001b[0m\n\u001b[0;32m---> 65\u001b[0;31m             \u001b[0;32mreturn\u001b[0m \u001b[0mfn\u001b[0m\u001b[0;34m(\u001b[0m\u001b[0;34m*\u001b[0m\u001b[0margs\u001b[0m\u001b[0;34m,\u001b[0m \u001b[0;34m**\u001b[0m\u001b[0mkwargs\u001b[0m\u001b[0;34m)\u001b[0m\u001b[0;34m\u001b[0m\u001b[0;34m\u001b[0m\u001b[0m\n\u001b[0m\u001b[1;32m     66\u001b[0m         \u001b[0;32mexcept\u001b[0m \u001b[0mException\u001b[0m \u001b[0;32mas\u001b[0m \u001b[0me\u001b[0m\u001b[0;34m:\u001b[0m\u001b[0;34m\u001b[0m\u001b[0;34m\u001b[0m\u001b[0m\n\u001b[1;32m     67\u001b[0m             \u001b[0mfiltered_tb\u001b[0m \u001b[0;34m=\u001b[0m \u001b[0m_process_traceback_frames\u001b[0m\u001b[0;34m(\u001b[0m\u001b[0me\u001b[0m\u001b[0;34m.\u001b[0m\u001b[0m__traceback__\u001b[0m\u001b[0;34m)\u001b[0m\u001b[0;34m\u001b[0m\u001b[0;34m\u001b[0m\u001b[0m\n",
      "\u001b[0;32m~/.pyenv/versions/3.9.3/lib/python3.9/site-packages/keras/engine/training.py\u001b[0m in \u001b[0;36mfit\u001b[0;34m(self, x, y, batch_size, epochs, verbose, callbacks, validation_split, validation_data, shuffle, class_weight, sample_weight, initial_epoch, steps_per_epoch, validation_steps, validation_batch_size, validation_freq, max_queue_size, workers, use_multiprocessing)\u001b[0m\n\u001b[1;32m   1562\u001b[0m                         ):\n\u001b[1;32m   1563\u001b[0m                             \u001b[0mcallbacks\u001b[0m\u001b[0;34m.\u001b[0m\u001b[0mon_train_batch_begin\u001b[0m\u001b[0;34m(\u001b[0m\u001b[0mstep\u001b[0m\u001b[0;34m)\u001b[0m\u001b[0;34m\u001b[0m\u001b[0;34m\u001b[0m\u001b[0m\n\u001b[0;32m-> 1564\u001b[0;31m                             \u001b[0mtmp_logs\u001b[0m \u001b[0;34m=\u001b[0m \u001b[0mself\u001b[0m\u001b[0;34m.\u001b[0m\u001b[0mtrain_function\u001b[0m\u001b[0;34m(\u001b[0m\u001b[0miterator\u001b[0m\u001b[0;34m)\u001b[0m\u001b[0;34m\u001b[0m\u001b[0;34m\u001b[0m\u001b[0m\n\u001b[0m\u001b[1;32m   1565\u001b[0m                             \u001b[0;32mif\u001b[0m \u001b[0mdata_handler\u001b[0m\u001b[0;34m.\u001b[0m\u001b[0mshould_sync\u001b[0m\u001b[0;34m:\u001b[0m\u001b[0;34m\u001b[0m\u001b[0;34m\u001b[0m\u001b[0m\n\u001b[1;32m   1566\u001b[0m                                 \u001b[0mcontext\u001b[0m\u001b[0;34m.\u001b[0m\u001b[0masync_wait\u001b[0m\u001b[0;34m(\u001b[0m\u001b[0;34m)\u001b[0m\u001b[0;34m\u001b[0m\u001b[0;34m\u001b[0m\u001b[0m\n",
      "\u001b[0;32m~/.pyenv/versions/3.9.3/lib/python3.9/site-packages/tensorflow/python/util/traceback_utils.py\u001b[0m in \u001b[0;36merror_handler\u001b[0;34m(*args, **kwargs)\u001b[0m\n\u001b[1;32m    148\u001b[0m     \u001b[0mfiltered_tb\u001b[0m \u001b[0;34m=\u001b[0m \u001b[0;32mNone\u001b[0m\u001b[0;34m\u001b[0m\u001b[0;34m\u001b[0m\u001b[0m\n\u001b[1;32m    149\u001b[0m     \u001b[0;32mtry\u001b[0m\u001b[0;34m:\u001b[0m\u001b[0;34m\u001b[0m\u001b[0;34m\u001b[0m\u001b[0m\n\u001b[0;32m--> 150\u001b[0;31m       \u001b[0;32mreturn\u001b[0m \u001b[0mfn\u001b[0m\u001b[0;34m(\u001b[0m\u001b[0;34m*\u001b[0m\u001b[0margs\u001b[0m\u001b[0;34m,\u001b[0m \u001b[0;34m**\u001b[0m\u001b[0mkwargs\u001b[0m\u001b[0;34m)\u001b[0m\u001b[0;34m\u001b[0m\u001b[0;34m\u001b[0m\u001b[0m\n\u001b[0m\u001b[1;32m    151\u001b[0m     \u001b[0;32mexcept\u001b[0m \u001b[0mException\u001b[0m \u001b[0;32mas\u001b[0m \u001b[0me\u001b[0m\u001b[0;34m:\u001b[0m\u001b[0;34m\u001b[0m\u001b[0;34m\u001b[0m\u001b[0m\n\u001b[1;32m    152\u001b[0m       \u001b[0mfiltered_tb\u001b[0m \u001b[0;34m=\u001b[0m \u001b[0m_process_traceback_frames\u001b[0m\u001b[0;34m(\u001b[0m\u001b[0me\u001b[0m\u001b[0;34m.\u001b[0m\u001b[0m__traceback__\u001b[0m\u001b[0;34m)\u001b[0m\u001b[0;34m\u001b[0m\u001b[0;34m\u001b[0m\u001b[0m\n",
      "\u001b[0;32m~/.pyenv/versions/3.9.3/lib/python3.9/site-packages/tensorflow/python/eager/def_function.py\u001b[0m in \u001b[0;36m__call__\u001b[0;34m(self, *args, **kwds)\u001b[0m\n\u001b[1;32m    913\u001b[0m \u001b[0;34m\u001b[0m\u001b[0m\n\u001b[1;32m    914\u001b[0m       \u001b[0;32mwith\u001b[0m \u001b[0mOptionalXlaContext\u001b[0m\u001b[0;34m(\u001b[0m\u001b[0mself\u001b[0m\u001b[0;34m.\u001b[0m\u001b[0m_jit_compile\u001b[0m\u001b[0;34m)\u001b[0m\u001b[0;34m:\u001b[0m\u001b[0;34m\u001b[0m\u001b[0;34m\u001b[0m\u001b[0m\n\u001b[0;32m--> 915\u001b[0;31m         \u001b[0mresult\u001b[0m \u001b[0;34m=\u001b[0m \u001b[0mself\u001b[0m\u001b[0;34m.\u001b[0m\u001b[0m_call\u001b[0m\u001b[0;34m(\u001b[0m\u001b[0;34m*\u001b[0m\u001b[0margs\u001b[0m\u001b[0;34m,\u001b[0m \u001b[0;34m**\u001b[0m\u001b[0mkwds\u001b[0m\u001b[0;34m)\u001b[0m\u001b[0;34m\u001b[0m\u001b[0;34m\u001b[0m\u001b[0m\n\u001b[0m\u001b[1;32m    916\u001b[0m \u001b[0;34m\u001b[0m\u001b[0m\n\u001b[1;32m    917\u001b[0m       \u001b[0mnew_tracing_count\u001b[0m \u001b[0;34m=\u001b[0m \u001b[0mself\u001b[0m\u001b[0;34m.\u001b[0m\u001b[0mexperimental_get_tracing_count\u001b[0m\u001b[0;34m(\u001b[0m\u001b[0;34m)\u001b[0m\u001b[0;34m\u001b[0m\u001b[0;34m\u001b[0m\u001b[0m\n",
      "\u001b[0;32m~/.pyenv/versions/3.9.3/lib/python3.9/site-packages/tensorflow/python/eager/def_function.py\u001b[0m in \u001b[0;36m_call\u001b[0;34m(self, *args, **kwds)\u001b[0m\n\u001b[1;32m    945\u001b[0m       \u001b[0;31m# In this case we have created variables on the first call, so we run the\u001b[0m\u001b[0;34m\u001b[0m\u001b[0;34m\u001b[0m\u001b[0;34m\u001b[0m\u001b[0m\n\u001b[1;32m    946\u001b[0m       \u001b[0;31m# defunned version which is guaranteed to never create variables.\u001b[0m\u001b[0;34m\u001b[0m\u001b[0;34m\u001b[0m\u001b[0;34m\u001b[0m\u001b[0m\n\u001b[0;32m--> 947\u001b[0;31m       \u001b[0;32mreturn\u001b[0m \u001b[0mself\u001b[0m\u001b[0;34m.\u001b[0m\u001b[0m_stateless_fn\u001b[0m\u001b[0;34m(\u001b[0m\u001b[0;34m*\u001b[0m\u001b[0margs\u001b[0m\u001b[0;34m,\u001b[0m \u001b[0;34m**\u001b[0m\u001b[0mkwds\u001b[0m\u001b[0;34m)\u001b[0m  \u001b[0;31m# pylint: disable=not-callable\u001b[0m\u001b[0;34m\u001b[0m\u001b[0;34m\u001b[0m\u001b[0m\n\u001b[0m\u001b[1;32m    948\u001b[0m     \u001b[0;32melif\u001b[0m \u001b[0mself\u001b[0m\u001b[0;34m.\u001b[0m\u001b[0m_stateful_fn\u001b[0m \u001b[0;32mis\u001b[0m \u001b[0;32mnot\u001b[0m \u001b[0;32mNone\u001b[0m\u001b[0;34m:\u001b[0m\u001b[0;34m\u001b[0m\u001b[0;34m\u001b[0m\u001b[0m\n\u001b[1;32m    949\u001b[0m       \u001b[0;31m# Release the lock early so that multiple threads can perform the call\u001b[0m\u001b[0;34m\u001b[0m\u001b[0;34m\u001b[0m\u001b[0;34m\u001b[0m\u001b[0m\n",
      "\u001b[0;32m~/.pyenv/versions/3.9.3/lib/python3.9/site-packages/tensorflow/python/eager/function.py\u001b[0m in \u001b[0;36m__call__\u001b[0;34m(self, *args, **kwargs)\u001b[0m\n\u001b[1;32m   2494\u001b[0m       (graph_function,\n\u001b[1;32m   2495\u001b[0m        filtered_flat_args) = self._maybe_define_function(args, kwargs)\n\u001b[0;32m-> 2496\u001b[0;31m     return graph_function._call_flat(\n\u001b[0m\u001b[1;32m   2497\u001b[0m         filtered_flat_args, captured_inputs=graph_function.captured_inputs)  # pylint: disable=protected-access\n\u001b[1;32m   2498\u001b[0m \u001b[0;34m\u001b[0m\u001b[0m\n",
      "\u001b[0;32m~/.pyenv/versions/3.9.3/lib/python3.9/site-packages/tensorflow/python/eager/function.py\u001b[0m in \u001b[0;36m_call_flat\u001b[0;34m(self, args, captured_inputs, cancellation_manager)\u001b[0m\n\u001b[1;32m   1860\u001b[0m         and executing_eagerly):\n\u001b[1;32m   1861\u001b[0m       \u001b[0;31m# No tape is watching; skip to running the function.\u001b[0m\u001b[0;34m\u001b[0m\u001b[0;34m\u001b[0m\u001b[0;34m\u001b[0m\u001b[0m\n\u001b[0;32m-> 1862\u001b[0;31m       return self._build_call_outputs(self._inference_function.call(\n\u001b[0m\u001b[1;32m   1863\u001b[0m           ctx, args, cancellation_manager=cancellation_manager))\n\u001b[1;32m   1864\u001b[0m     forward_backward = self._select_forward_and_backward_functions(\n",
      "\u001b[0;32m~/.pyenv/versions/3.9.3/lib/python3.9/site-packages/tensorflow/python/eager/function.py\u001b[0m in \u001b[0;36mcall\u001b[0;34m(self, ctx, args, cancellation_manager)\u001b[0m\n\u001b[1;32m    497\u001b[0m       \u001b[0;32mwith\u001b[0m \u001b[0m_InterpolateFunctionError\u001b[0m\u001b[0;34m(\u001b[0m\u001b[0mself\u001b[0m\u001b[0;34m)\u001b[0m\u001b[0;34m:\u001b[0m\u001b[0;34m\u001b[0m\u001b[0;34m\u001b[0m\u001b[0m\n\u001b[1;32m    498\u001b[0m         \u001b[0;32mif\u001b[0m \u001b[0mcancellation_manager\u001b[0m \u001b[0;32mis\u001b[0m \u001b[0;32mNone\u001b[0m\u001b[0;34m:\u001b[0m\u001b[0;34m\u001b[0m\u001b[0;34m\u001b[0m\u001b[0m\n\u001b[0;32m--> 499\u001b[0;31m           outputs = execute.execute(\n\u001b[0m\u001b[1;32m    500\u001b[0m               \u001b[0mstr\u001b[0m\u001b[0;34m(\u001b[0m\u001b[0mself\u001b[0m\u001b[0;34m.\u001b[0m\u001b[0msignature\u001b[0m\u001b[0;34m.\u001b[0m\u001b[0mname\u001b[0m\u001b[0;34m)\u001b[0m\u001b[0;34m,\u001b[0m\u001b[0;34m\u001b[0m\u001b[0;34m\u001b[0m\u001b[0m\n\u001b[1;32m    501\u001b[0m               \u001b[0mnum_outputs\u001b[0m\u001b[0;34m=\u001b[0m\u001b[0mself\u001b[0m\u001b[0;34m.\u001b[0m\u001b[0m_num_outputs\u001b[0m\u001b[0;34m,\u001b[0m\u001b[0;34m\u001b[0m\u001b[0;34m\u001b[0m\u001b[0m\n",
      "\u001b[0;32m~/.pyenv/versions/3.9.3/lib/python3.9/site-packages/tensorflow/python/eager/execute.py\u001b[0m in \u001b[0;36mquick_execute\u001b[0;34m(op_name, num_outputs, inputs, attrs, ctx, name)\u001b[0m\n\u001b[1;32m     52\u001b[0m   \u001b[0;32mtry\u001b[0m\u001b[0;34m:\u001b[0m\u001b[0;34m\u001b[0m\u001b[0;34m\u001b[0m\u001b[0m\n\u001b[1;32m     53\u001b[0m     \u001b[0mctx\u001b[0m\u001b[0;34m.\u001b[0m\u001b[0mensure_initialized\u001b[0m\u001b[0;34m(\u001b[0m\u001b[0;34m)\u001b[0m\u001b[0;34m\u001b[0m\u001b[0;34m\u001b[0m\u001b[0m\n\u001b[0;32m---> 54\u001b[0;31m     tensors = pywrap_tfe.TFE_Py_Execute(ctx._handle, device_name, op_name,\n\u001b[0m\u001b[1;32m     55\u001b[0m                                         inputs, attrs, num_outputs)\n\u001b[1;32m     56\u001b[0m   \u001b[0;32mexcept\u001b[0m \u001b[0mcore\u001b[0m\u001b[0;34m.\u001b[0m\u001b[0m_NotOkStatusException\u001b[0m \u001b[0;32mas\u001b[0m \u001b[0me\u001b[0m\u001b[0;34m:\u001b[0m\u001b[0;34m\u001b[0m\u001b[0;34m\u001b[0m\u001b[0m\n",
      "\u001b[0;31mKeyboardInterrupt\u001b[0m: "
     ]
    }
   ],
   "source": [
    "img_dim = x_train.shape[-1]\n",
    "latent_dim = 2\n",
    "\n",
    "dae = DAE(build_encoder(input_shape = img_dim, latent_dim = latent_dim), \n",
    "          build_decoder(output_shape = int(np.prod(img_dim)), latent_dim = latent_dim))\n",
    "\n",
    "dae.compile(optimizer=tfk.optimizers.Adam()) #specify the optimizer reference in class above \n",
    "dae.fit(x_train, epochs=250, batch_size=64)"
   ]
  },
  {
   "cell_type": "code",
   "execution_count": null,
   "id": "69379903",
   "metadata": {},
   "outputs": [],
   "source": [
    "dae.fit(x_train, epochs=250, batch_size=64)"
   ]
  },
  {
   "cell_type": "code",
   "execution_count": null,
   "id": "f1c087f3",
   "metadata": {},
   "outputs": [],
   "source": []
  },
  {
   "cell_type": "code",
   "execution_count": null,
   "id": "a4462e8f",
   "metadata": {},
   "outputs": [],
   "source": []
  }
 ],
 "metadata": {
  "kernelspec": {
   "display_name": "Python 3",
   "language": "python",
   "name": "python3"
  },
  "language_info": {
   "codemirror_mode": {
    "name": "ipython",
    "version": 3
   },
   "file_extension": ".py",
   "mimetype": "text/x-python",
   "name": "python",
   "nbconvert_exporter": "python",
   "pygments_lexer": "ipython3",
   "version": "3.9.3"
  }
 },
 "nbformat": 4,
 "nbformat_minor": 5
}
