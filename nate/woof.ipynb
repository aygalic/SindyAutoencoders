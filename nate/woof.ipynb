{
 "cells": [
  {
   "cell_type": "code",
   "execution_count": 1,
   "id": "4503e937",
   "metadata": {},
   "outputs": [],
   "source": [
    "import tensorflow as tf \n",
    "import tensorflow.keras as tfk \n",
    "import numpy as np \n",
    "import matplotlib.pyplot as plt \n",
    "import sys\n",
    "import os\n",
    "from utils import *\n",
    "from scipy.integrate import solve_ivp\n",
    "\n",
    "seed = 42\n",
    "tf.random.set_seed(seed)"
   ]
  },
  {
   "cell_type": "markdown",
   "id": "409a6cb8",
   "metadata": {},
   "source": [
    "## Notes\n",
    "- sigmoids through the encoder to a terrible job at localizing the point mass in frame - reconstruction loss high "
   ]
  },
  {
   "cell_type": "code",
   "execution_count": 2,
   "id": "7dea63ff",
   "metadata": {
    "scrolled": true
   },
   "outputs": [
    {
     "data": {
      "text/plain": [
       "[<matplotlib.lines.Line2D at 0x15594b700>]"
      ]
     },
     "execution_count": 2,
     "metadata": {},
     "output_type": "execute_result"
    },
    {
     "data": {
      "image/png": "[encoded data removed]",
      "text/plain": [
       "<Figure size 432x288 with 1 Axes>"
      ]
     },
     "metadata": {
      "needs_background": "light"
     },
     "output_type": "display_data"
    }
   ],
   "source": [
    "#generating some data instead of reading from a directory \n",
    "def generate_spring_data(params, t, x0):\n",
    "    spring_f = lambda t, x, params: [x[1], -params['c']*x[1]-(params['k']/params['m'])*x[0]]\n",
    "    \n",
    "    data = solve_ivp(lambda t,x: spring_f(t,x,params), \n",
    "                    t_span = (t[0], t[-1]), \n",
    "                    y0 = x0,\n",
    "                    t_eval = t).y.T\n",
    "    return data \n",
    "\n",
    "\n",
    "params = {'c':0.33, 'm':0.5, 'k':1}\n",
    "x0 = [1, 0]\n",
    "t = np.arange(0, 20, 0.02)\n",
    "\n",
    "x_train = generate_spring_data(params, t, x0)\n",
    "\n",
    "\n",
    "plt.plot(x_train[:,0])"
   ]
  },
  {
   "cell_type": "code",
   "execution_count": 3,
   "id": "3e083642",
   "metadata": {},
   "outputs": [
    {
     "name": "stdout",
     "output_type": "stream",
     "text": [
      "(1000, 51, 51)\n"
     ]
    },
    {
     "data": {
      "text/plain": [
       "<matplotlib.image.AxesImage at 0x155a93d60>"
      ]
     },
     "execution_count": 3,
     "metadata": {},
     "output_type": "execute_result"
    },
    {
     "data": {
      "image/png": "[encoded data removed]",
      "text/plain": [
       "<Figure size 432x288 with 1 Axes>"
      ]
     },
     "metadata": {
      "needs_background": "light"
     },
     "output_type": "display_data"
    }
   ],
   "source": [
    "x,dx,ddx = spring_to_movie(x_train[:,0], dt=0.02, dim = 51)\n",
    "\n",
    "print(x.shape)\n",
    "plt.imshow(x[0], cmap = 'gray')"
   ]
  },
  {
   "cell_type": "code",
   "execution_count": 4,
   "id": "cb9824c8",
   "metadata": {},
   "outputs": [],
   "source": [
    "class AE(tfk.Model):\n",
    "    def __init__(self, encoder, decoder, **kwargs):\n",
    "        super().__init__(**kwargs)\n",
    "        self.encoder = encoder\n",
    "        self.decoder = decoder\n",
    "        \n",
    "        #stateful metrics \n",
    "        self.total_loss_tracker = tfk.metrics.Mean(name=\"total_loss\")\n",
    "        self.reconstruction_loss_tracker = tfk.metrics.Mean(\n",
    "            name=\"reconstruction_loss\"\n",
    "        )\n",
    "\n",
    "    @property\n",
    "    def metrics(self):\n",
    "        return [\n",
    "            self.total_loss_tracker,\n",
    "            self.reconstruction_loss_tracker,\n",
    "        ]\n",
    "\n",
    "    def train_step(self, data):\n",
    "        #print(data.shape)\n",
    "        with tf.GradientTape() as tape:\n",
    "            z = self.encoder(data) \n",
    "            reconstruction = self.decoder(z) \n",
    "\n",
    "            #use BCE for black and white pics \n",
    "            reconstruction_loss = tf.reduce_mean(\n",
    "                    tfk.losses.binary_crossentropy(data, reconstruction)\n",
    "            )\n",
    "            \n",
    "            total_loss = reconstruction_loss # + other terms \n",
    "            \n",
    "        #de-facto \n",
    "        grads = tape.gradient(total_loss, self.trainable_weights)\n",
    "        self.optimizer.apply_gradients(zip(grads, self.trainable_weights)) #will need to specify an optimizer \n",
    "        self.total_loss_tracker.update_state(total_loss)\n",
    "        self.reconstruction_loss_tracker.update_state(reconstruction_loss)\n",
    "        \n",
    "        return {\n",
    "            \"loss\": self.total_loss_tracker.result(),\n",
    "            \"reconstruction_loss\": self.reconstruction_loss_tracker.result(),\n",
    "        }"
   ]
  },
  {
   "cell_type": "code",
   "execution_count": 5,
   "id": "bd8f00e6",
   "metadata": {},
   "outputs": [],
   "source": [
    "def build_encoder(input_shape, latent_dim = 1):\n",
    "    \"\"\"\n",
    "    i'll need to add multiple outputs for the encoding as well as derivative info(s) as outputs vae style \n",
    "    \"\"\"\n",
    "    encoder_inputs = tfk.Input(shape=input_shape) \n",
    "    \n",
    "    #initially following parameters outlined in sindy paper \n",
    "    activation = \"relu\"\n",
    "    x = tfk.layers.Dense(128, activation=activation, kernel_initializer = tfk.initializers.GlorotNormal(seed=seed))(encoder_inputs)\n",
    "    x = tfk.layers.Dense(64, activation=activation, kernel_initializer = tfk.initializers.GlorotNormal(seed=seed))(x)\n",
    "    x = tfk.layers.Dense(32, activation=activation, kernel_initializer = tfk.initializers.GlorotNormal(seed=seed))(x)\n",
    "    z = tfk.layers.Dense(latent_dim, activation=activation, kernel_initializer = tfk.initializers.GlorotNormal(seed=seed))(x)\n",
    "\n",
    "    encoder = tfk.Model(encoder_inputs, z, name=\"encoder\")\n",
    "    return encoder\n",
    "\n",
    "\n",
    "def build_decoder(output_shape, latent_dim = 1):\n",
    "    decoder_inputs = tfk.Input(shape=(latent_dim,))\n",
    "    \n",
    "    #initially following parameters outlined in sindy paper \n",
    "    activation = \"relu\"\n",
    "    x = tfk.layers.Dense(32, activation=activation, kernel_initializer = tfk.initializers.GlorotNormal(seed=seed))(decoder_inputs)\n",
    "    x = tfk.layers.Dense(64, activation=activation, kernel_initializer = tfk.initializers.GlorotNormal(seed=seed))(x)\n",
    "    x = tfk.layers.Dense(128, activation=activation, kernel_initializer = tfk.initializers.GlorotNormal(seed=seed))(x)\n",
    "    reconstructed = tfk.layers.Dense(output_shape, activation=\"sigmoid\", kernel_initializer = tfk.initializers.GlorotNormal(seed=seed))(x) #softmax for grayscale \n",
    "    \n",
    "\n",
    "    decoder = tfk.Model(decoder_inputs, reconstructed, name=\"decoder\")\n",
    "    return decoder"
   ]
  },
  {
   "cell_type": "code",
   "execution_count": 6,
   "id": "bfe96d7a",
   "metadata": {},
   "outputs": [
    {
     "data": {
      "text/plain": [
       "(1000, 2601)"
      ]
     },
     "execution_count": 6,
     "metadata": {},
     "output_type": "execute_result"
    }
   ],
   "source": [
    "#flatten to work with network \n",
    "dim = 51\n",
    "x_train = np.reshape(x, (x.shape[0], dim*dim))\n",
    "x_train.shape"
   ]
  },
  {
   "cell_type": "code",
   "execution_count": 7,
   "id": "69fe5141",
   "metadata": {
    "scrolled": true
   },
   "outputs": [
    {
     "name": "stdout",
     "output_type": "stream",
     "text": [
      "Epoch 1/200\n",
      "16/16 [==============================] - 1s 8ms/step - loss: 0.6808 - reconstruction_loss: 0.6539\n",
      "Epoch 2/200\n",
      "16/16 [==============================] - 0s 8ms/step - loss: 0.2959 - reconstruction_loss: 0.1778\n",
      "Epoch 3/200\n",
      "16/16 [==============================] - 0s 9ms/step - loss: 0.0618 - reconstruction_loss: 0.0564\n",
      "Epoch 4/200\n",
      "16/16 [==============================] - 0s 9ms/step - loss: 0.0455 - reconstruction_loss: 0.0440\n",
      "Epoch 5/200\n",
      "16/16 [==============================] - 0s 9ms/step - loss: 0.0419 - reconstruction_loss: 0.0414\n",
      "Epoch 6/200\n",
      "16/16 [==============================] - 0s 9ms/step - loss: 0.0408 - reconstruction_loss: 0.0410\n",
      "Epoch 7/200\n",
      "16/16 [==============================] - 0s 9ms/step - loss: 0.0408 - reconstruction_loss: 0.0407\n",
      "Epoch 8/200\n",
      "16/16 [==============================] - 0s 9ms/step - loss: 0.0409 - reconstruction_loss: 0.0406\n",
      "Epoch 9/200\n",
      "16/16 [==============================] - 0s 9ms/step - loss: 0.0400 - reconstruction_loss: 0.0407\n",
      "Epoch 10/200\n",
      "16/16 [==============================] - 0s 9ms/step - loss: 0.0402 - reconstruction_loss: 0.0406\n",
      "Epoch 11/200\n",
      "16/16 [==============================] - 0s 11ms/step - loss: 0.0404 - reconstruction_loss: 0.0403\n",
      "Epoch 12/200\n",
      "16/16 [==============================] - 0s 9ms/step - loss: 0.0399 - reconstruction_loss: 0.0403\n",
      "Epoch 13/200\n",
      "16/16 [==============================] - 0s 9ms/step - loss: 0.0399 - reconstruction_loss: 0.0399\n",
      "Epoch 14/200\n",
      "16/16 [==============================] - 0s 9ms/step - loss: 0.0394 - reconstruction_loss: 0.0393\n",
      "Epoch 15/200\n",
      "16/16 [==============================] - 0s 9ms/step - loss: 0.0388 - reconstruction_loss: 0.0378\n",
      "Epoch 16/200\n",
      "16/16 [==============================] - 0s 9ms/step - loss: 0.0367 - reconstruction_loss: 0.0362\n",
      "Epoch 17/200\n",
      "16/16 [==============================] - 0s 9ms/step - loss: 0.0352 - reconstruction_loss: 0.0355\n",
      "Epoch 18/200\n",
      "16/16 [==============================] - 0s 9ms/step - loss: 0.0352 - reconstruction_loss: 0.0350\n",
      "Epoch 19/200\n",
      "16/16 [==============================] - 0s 11ms/step - loss: 0.0349 - reconstruction_loss: 0.0345\n",
      "Epoch 20/200\n",
      "16/16 [==============================] - 0s 10ms/step - loss: 0.0342 - reconstruction_loss: 0.0338\n",
      "Epoch 21/200\n",
      "16/16 [==============================] - 0s 10ms/step - loss: 0.0328 - reconstruction_loss: 0.0330\n",
      "Epoch 22/200\n",
      "16/16 [==============================] - 0s 10ms/step - loss: 0.0321 - reconstruction_loss: 0.0319\n",
      "Epoch 23/200\n",
      "16/16 [==============================] - 0s 10ms/step - loss: 0.0310 - reconstruction_loss: 0.0308\n",
      "Epoch 24/200\n",
      "16/16 [==============================] - 0s 10ms/step - loss: 0.0300 - reconstruction_loss: 0.0299\n",
      "Epoch 25/200\n",
      "16/16 [==============================] - 0s 10ms/step - loss: 0.0290 - reconstruction_loss: 0.0290\n",
      "Epoch 26/200\n",
      "16/16 [==============================] - 0s 10ms/step - loss: 0.0289 - reconstruction_loss: 0.0285\n",
      "Epoch 27/200\n",
      "16/16 [==============================] - 0s 10ms/step - loss: 0.0284 - reconstruction_loss: 0.0283\n",
      "Epoch 28/200\n",
      "16/16 [==============================] - 0s 10ms/step - loss: 0.0284 - reconstruction_loss: 0.0282\n",
      "Epoch 29/200\n",
      "16/16 [==============================] - 0s 10ms/step - loss: 0.0283 - reconstruction_loss: 0.0282\n",
      "Epoch 30/200\n",
      "16/16 [==============================] - 0s 10ms/step - loss: 0.0282 - reconstruction_loss: 0.0282\n",
      "Epoch 31/200\n",
      "16/16 [==============================] - 0s 10ms/step - loss: 0.0282 - reconstruction_loss: 0.0281\n",
      "Epoch 32/200\n",
      "16/16 [==============================] - 0s 10ms/step - loss: 0.0281 - reconstruction_loss: 0.0281\n",
      "Epoch 33/200\n",
      "16/16 [==============================] - 0s 10ms/step - loss: 0.0280 - reconstruction_loss: 0.0281\n",
      "Epoch 34/200\n",
      "16/16 [==============================] - 0s 10ms/step - loss: 0.0280 - reconstruction_loss: 0.0281\n",
      "Epoch 35/200\n",
      "16/16 [==============================] - 0s 11ms/step - loss: 0.0281 - reconstruction_loss: 0.0281\n",
      "Epoch 36/200\n",
      "16/16 [==============================] - 0s 10ms/step - loss: 0.0281 - reconstruction_loss: 0.0281\n",
      "Epoch 37/200\n",
      "16/16 [==============================] - 0s 16ms/step - loss: 0.0281 - reconstruction_loss: 0.0280\n",
      "Epoch 38/200\n",
      "16/16 [==============================] - 0s 11ms/step - loss: 0.0280 - reconstruction_loss: 0.0280\n",
      "Epoch 39/200\n",
      "16/16 [==============================] - 0s 11ms/step - loss: 0.0280 - reconstruction_loss: 0.0280\n",
      "Epoch 40/200\n",
      "16/16 [==============================] - 0s 10ms/step - loss: 0.0279 - reconstruction_loss: 0.0280\n",
      "Epoch 41/200\n",
      "16/16 [==============================] - 0s 10ms/step - loss: 0.0280 - reconstruction_loss: 0.0280\n",
      "Epoch 42/200\n",
      "16/16 [==============================] - 0s 10ms/step - loss: 0.0281 - reconstruction_loss: 0.0280\n",
      "Epoch 43/200\n",
      "16/16 [==============================] - 0s 10ms/step - loss: 0.0279 - reconstruction_loss: 0.0280\n",
      "Epoch 44/200\n",
      "16/16 [==============================] - 0s 10ms/step - loss: 0.0280 - reconstruction_loss: 0.0280\n",
      "Epoch 45/200\n",
      "16/16 [==============================] - 0s 11ms/step - loss: 0.0281 - reconstruction_loss: 0.0280\n",
      "Epoch 46/200\n",
      "16/16 [==============================] - 0s 11ms/step - loss: 0.0279 - reconstruction_loss: 0.0280\n",
      "Epoch 47/200\n",
      "16/16 [==============================] - 0s 11ms/step - loss: 0.0279 - reconstruction_loss: 0.0280\n",
      "Epoch 48/200\n",
      "16/16 [==============================] - 0s 11ms/step - loss: 0.0280 - reconstruction_loss: 0.0279\n",
      "Epoch 49/200\n",
      "16/16 [==============================] - 0s 11ms/step - loss: 0.0279 - reconstruction_loss: 0.0279\n",
      "Epoch 50/200\n",
      "16/16 [==============================] - 0s 13ms/step - loss: 0.0280 - reconstruction_loss: 0.0280\n",
      "Epoch 51/200\n",
      "16/16 [==============================] - 0s 12ms/step - loss: 0.0279 - reconstruction_loss: 0.0280\n",
      "Epoch 52/200\n",
      "16/16 [==============================] - 0s 14ms/step - loss: 0.0280 - reconstruction_loss: 0.0280\n",
      "Epoch 53/200\n",
      "16/16 [==============================] - 0s 13ms/step - loss: 0.0281 - reconstruction_loss: 0.0280\n",
      "Epoch 54/200\n",
      "16/16 [==============================] - 0s 13ms/step - loss: 0.0280 - reconstruction_loss: 0.0280\n",
      "Epoch 55/200\n",
      "16/16 [==============================] - 0s 13ms/step - loss: 0.0279 - reconstruction_loss: 0.0279\n",
      "Epoch 56/200\n",
      "16/16 [==============================] - 0s 13ms/step - loss: 0.0280 - reconstruction_loss: 0.0279\n",
      "Epoch 57/200\n",
      "16/16 [==============================] - 0s 14ms/step - loss: 0.0280 - reconstruction_loss: 0.0279\n",
      "Epoch 58/200\n",
      "16/16 [==============================] - 0s 14ms/step - loss: 0.0279 - reconstruction_loss: 0.0279\n",
      "Epoch 59/200\n",
      "16/16 [==============================] - 0s 17ms/step - loss: 0.0279 - reconstruction_loss: 0.0279\n",
      "Epoch 60/200\n",
      "16/16 [==============================] - 0s 11ms/step - loss: 0.0280 - reconstruction_loss: 0.0279\n",
      "Epoch 61/200\n",
      "16/16 [==============================] - 0s 13ms/step - loss: 0.0279 - reconstruction_loss: 0.0279\n",
      "Epoch 62/200\n",
      "16/16 [==============================] - 0s 21ms/step - loss: 0.0279 - reconstruction_loss: 0.0280\n",
      "Epoch 63/200\n",
      "16/16 [==============================] - 0s 15ms/step - loss: 0.0280 - reconstruction_loss: 0.0279\n",
      "Epoch 64/200\n",
      "16/16 [==============================] - 0s 13ms/step - loss: 0.0279 - reconstruction_loss: 0.0279\n",
      "Epoch 65/200\n",
      "16/16 [==============================] - 0s 14ms/step - loss: 0.0279 - reconstruction_loss: 0.0279\n",
      "Epoch 66/200\n",
      "16/16 [==============================] - 0s 15ms/step - loss: 0.0280 - reconstruction_loss: 0.0279\n",
      "Epoch 67/200\n",
      "16/16 [==============================] - 0s 12ms/step - loss: 0.0279 - reconstruction_loss: 0.0279\n",
      "Epoch 68/200\n",
      "16/16 [==============================] - 0s 12ms/step - loss: 0.0279 - reconstruction_loss: 0.0279\n",
      "Epoch 69/200\n",
      "16/16 [==============================] - 0s 13ms/step - loss: 0.0278 - reconstruction_loss: 0.0279\n",
      "Epoch 70/200\n",
      "16/16 [==============================] - 0s 14ms/step - loss: 0.0278 - reconstruction_loss: 0.0279\n",
      "Epoch 71/200\n",
      "16/16 [==============================] - 0s 13ms/step - loss: 0.0279 - reconstruction_loss: 0.0279\n",
      "Epoch 72/200\n",
      "16/16 [==============================] - 0s 13ms/step - loss: 0.0279 - reconstruction_loss: 0.0279\n",
      "Epoch 73/200\n",
      "16/16 [==============================] - 0s 13ms/step - loss: 0.0279 - reconstruction_loss: 0.0279\n",
      "Epoch 74/200\n"
     ]
    },
    {
     "name": "stdout",
     "output_type": "stream",
     "text": [
      "16/16 [==============================] - 0s 12ms/step - loss: 0.0280 - reconstruction_loss: 0.0279\n",
      "Epoch 75/200\n",
      "16/16 [==============================] - 0s 11ms/step - loss: 0.0281 - reconstruction_loss: 0.0279\n",
      "Epoch 76/200\n",
      "16/16 [==============================] - 0s 14ms/step - loss: 0.0278 - reconstruction_loss: 0.0279\n",
      "Epoch 77/200\n",
      "16/16 [==============================] - 0s 17ms/step - loss: 0.0279 - reconstruction_loss: 0.0279\n",
      "Epoch 78/200\n",
      "16/16 [==============================] - 0s 15ms/step - loss: 0.0278 - reconstruction_loss: 0.0279\n",
      "Epoch 79/200\n",
      "16/16 [==============================] - 0s 15ms/step - loss: 0.0280 - reconstruction_loss: 0.0279\n",
      "Epoch 80/200\n",
      "16/16 [==============================] - 0s 14ms/step - loss: 0.0281 - reconstruction_loss: 0.0279\n",
      "Epoch 81/200\n",
      "16/16 [==============================] - 0s 14ms/step - loss: 0.0278 - reconstruction_loss: 0.0279\n",
      "Epoch 82/200\n",
      "16/16 [==============================] - 0s 15ms/step - loss: 0.0278 - reconstruction_loss: 0.0278\n",
      "Epoch 83/200\n",
      "16/16 [==============================] - 0s 16ms/step - loss: 0.0278 - reconstruction_loss: 0.0278\n",
      "Epoch 84/200\n",
      "16/16 [==============================] - 0s 14ms/step - loss: 0.0278 - reconstruction_loss: 0.0278\n",
      "Epoch 85/200\n",
      "16/16 [==============================] - 0s 14ms/step - loss: 0.0279 - reconstruction_loss: 0.0278\n",
      "Epoch 86/200\n",
      "16/16 [==============================] - 0s 13ms/step - loss: 0.0279 - reconstruction_loss: 0.0278\n",
      "Epoch 87/200\n",
      "16/16 [==============================] - 0s 15ms/step - loss: 0.0278 - reconstruction_loss: 0.0278\n",
      "Epoch 88/200\n",
      "16/16 [==============================] - 0s 15ms/step - loss: 0.0278 - reconstruction_loss: 0.0278\n",
      "Epoch 89/200\n",
      "16/16 [==============================] - 0s 15ms/step - loss: 0.0278 - reconstruction_loss: 0.0278\n",
      "Epoch 90/200\n",
      "16/16 [==============================] - 0s 15ms/step - loss: 0.0279 - reconstruction_loss: 0.0278\n",
      "Epoch 91/200\n",
      "16/16 [==============================] - 0s 13ms/step - loss: 0.0278 - reconstruction_loss: 0.0278\n",
      "Epoch 92/200\n",
      "16/16 [==============================] - 0s 12ms/step - loss: 0.0279 - reconstruction_loss: 0.0278\n",
      "Epoch 93/200\n",
      "16/16 [==============================] - 0s 11ms/step - loss: 0.0278 - reconstruction_loss: 0.0278\n",
      "Epoch 94/200\n",
      "16/16 [==============================] - 0s 14ms/step - loss: 0.0278 - reconstruction_loss: 0.0278\n",
      "Epoch 95/200\n",
      "16/16 [==============================] - 0s 12ms/step - loss: 0.0278 - reconstruction_loss: 0.0278\n",
      "Epoch 96/200\n",
      "16/16 [==============================] - 0s 14ms/step - loss: 0.0277 - reconstruction_loss: 0.0278\n",
      "Epoch 97/200\n",
      "16/16 [==============================] - 0s 14ms/step - loss: 0.0278 - reconstruction_loss: 0.0278\n",
      "Epoch 98/200\n",
      "16/16 [==============================] - 0s 15ms/step - loss: 0.0278 - reconstruction_loss: 0.0278\n",
      "Epoch 99/200\n",
      "16/16 [==============================] - 0s 15ms/step - loss: 0.0278 - reconstruction_loss: 0.0278\n",
      "Epoch 100/200\n",
      "16/16 [==============================] - 0s 13ms/step - loss: 0.0278 - reconstruction_loss: 0.0278\n",
      "Epoch 101/200\n",
      "16/16 [==============================] - 0s 11ms/step - loss: 0.0278 - reconstruction_loss: 0.0278\n",
      "Epoch 102/200\n",
      "16/16 [==============================] - 0s 14ms/step - loss: 0.0277 - reconstruction_loss: 0.0278\n",
      "Epoch 103/200\n",
      "16/16 [==============================] - 0s 14ms/step - loss: 0.0279 - reconstruction_loss: 0.0278\n",
      "Epoch 104/200\n",
      "16/16 [==============================] - 0s 13ms/step - loss: 0.0278 - reconstruction_loss: 0.0278\n",
      "Epoch 105/200\n",
      "16/16 [==============================] - 0s 15ms/step - loss: 0.0278 - reconstruction_loss: 0.0279\n",
      "Epoch 106/200\n",
      "16/16 [==============================] - 0s 16ms/step - loss: 0.0278 - reconstruction_loss: 0.0278\n",
      "Epoch 107/200\n",
      "16/16 [==============================] - 0s 16ms/step - loss: 0.0282 - reconstruction_loss: 0.0280\n",
      "Epoch 108/200\n",
      "16/16 [==============================] - 0s 14ms/step - loss: 0.0278 - reconstruction_loss: 0.0279\n",
      "Epoch 109/200\n",
      "16/16 [==============================] - 0s 15ms/step - loss: 0.0277 - reconstruction_loss: 0.0278\n",
      "Epoch 110/200\n",
      "16/16 [==============================] - 0s 15ms/step - loss: 0.0278 - reconstruction_loss: 0.0278\n",
      "Epoch 111/200\n",
      "16/16 [==============================] - 0s 15ms/step - loss: 0.0279 - reconstruction_loss: 0.0278\n",
      "Epoch 112/200\n",
      "16/16 [==============================] - 0s 18ms/step - loss: 0.0277 - reconstruction_loss: 0.0277\n",
      "Epoch 113/200\n",
      "16/16 [==============================] - 0s 17ms/step - loss: 0.0279 - reconstruction_loss: 0.0278\n",
      "Epoch 114/200\n",
      "16/16 [==============================] - 0s 18ms/step - loss: 0.0278 - reconstruction_loss: 0.0278\n",
      "Epoch 115/200\n",
      "16/16 [==============================] - 0s 17ms/step - loss: 0.0278 - reconstruction_loss: 0.0278\n",
      "Epoch 116/200\n",
      "16/16 [==============================] - 0s 13ms/step - loss: 0.0278 - reconstruction_loss: 0.0278\n",
      "Epoch 117/200\n",
      "16/16 [==============================] - 0s 15ms/step - loss: 0.0278 - reconstruction_loss: 0.0278\n",
      "Epoch 118/200\n",
      "16/16 [==============================] - 0s 16ms/step - loss: 0.0278 - reconstruction_loss: 0.0278\n",
      "Epoch 119/200\n",
      "16/16 [==============================] - 0s 14ms/step - loss: 0.0278 - reconstruction_loss: 0.0278\n",
      "Epoch 120/200\n",
      "16/16 [==============================] - 0s 15ms/step - loss: 0.0278 - reconstruction_loss: 0.0278\n",
      "Epoch 121/200\n",
      "16/16 [==============================] - 0s 12ms/step - loss: 0.0280 - reconstruction_loss: 0.0279\n",
      "Epoch 122/200\n",
      "16/16 [==============================] - 0s 12ms/step - loss: 0.0278 - reconstruction_loss: 0.0278\n",
      "Epoch 123/200\n",
      "16/16 [==============================] - 0s 12ms/step - loss: 0.0280 - reconstruction_loss: 0.0279\n",
      "Epoch 124/200\n",
      "16/16 [==============================] - 0s 23ms/step - loss: 0.0278 - reconstruction_loss: 0.0279\n",
      "Epoch 125/200\n",
      "16/16 [==============================] - 0s 19ms/step - loss: 0.0278 - reconstruction_loss: 0.0278\n",
      "Epoch 126/200\n",
      "16/16 [==============================] - 0s 18ms/step - loss: 0.0278 - reconstruction_loss: 0.0278\n",
      "Epoch 127/200\n",
      "16/16 [==============================] - 0s 16ms/step - loss: 0.0278 - reconstruction_loss: 0.0278\n",
      "Epoch 128/200\n",
      "16/16 [==============================] - 0s 17ms/step - loss: 0.0279 - reconstruction_loss: 0.0278\n",
      "Epoch 129/200\n",
      "16/16 [==============================] - 0s 17ms/step - loss: 0.0277 - reconstruction_loss: 0.0277\n",
      "Epoch 130/200\n",
      "16/16 [==============================] - 0s 18ms/step - loss: 0.0277 - reconstruction_loss: 0.0277\n",
      "Epoch 131/200\n",
      "16/16 [==============================] - 0s 15ms/step - loss: 0.0277 - reconstruction_loss: 0.0277\n",
      "Epoch 132/200\n",
      "16/16 [==============================] - 0s 15ms/step - loss: 0.0277 - reconstruction_loss: 0.0277\n",
      "Epoch 133/200\n",
      "16/16 [==============================] - 0s 14ms/step - loss: 0.0277 - reconstruction_loss: 0.0277\n",
      "Epoch 134/200\n",
      "16/16 [==============================] - 0s 13ms/step - loss: 0.0277 - reconstruction_loss: 0.0277\n",
      "Epoch 135/200\n",
      "16/16 [==============================] - 0s 19ms/step - loss: 0.0277 - reconstruction_loss: 0.0277\n",
      "Epoch 136/200\n",
      "16/16 [==============================] - 0s 18ms/step - loss: 0.0277 - reconstruction_loss: 0.0277\n",
      "Epoch 137/200\n",
      "16/16 [==============================] - 0s 15ms/step - loss: 0.0277 - reconstruction_loss: 0.0277\n",
      "Epoch 138/200\n",
      "16/16 [==============================] - 0s 20ms/step - loss: 0.0277 - reconstruction_loss: 0.0277\n",
      "Epoch 139/200\n",
      "16/16 [==============================] - 0s 15ms/step - loss: 0.0277 - reconstruction_loss: 0.0277\n",
      "Epoch 140/200\n",
      "16/16 [==============================] - 0s 16ms/step - loss: 0.0277 - reconstruction_loss: 0.0277\n",
      "Epoch 141/200\n",
      "16/16 [==============================] - 0s 16ms/step - loss: 0.0277 - reconstruction_loss: 0.0277\n",
      "Epoch 142/200\n",
      "16/16 [==============================] - 0s 15ms/step - loss: 0.0277 - reconstruction_loss: 0.0277\n",
      "Epoch 143/200\n",
      "16/16 [==============================] - 0s 17ms/step - loss: 0.0277 - reconstruction_loss: 0.0277\n",
      "Epoch 144/200\n",
      "16/16 [==============================] - 0s 15ms/step - loss: 0.0277 - reconstruction_loss: 0.0277\n",
      "Epoch 145/200\n",
      "16/16 [==============================] - 0s 15ms/step - loss: 0.0277 - reconstruction_loss: 0.0277\n",
      "Epoch 146/200\n"
     ]
    },
    {
     "name": "stdout",
     "output_type": "stream",
     "text": [
      "16/16 [==============================] - 0s 17ms/step - loss: 0.0277 - reconstruction_loss: 0.0277\n",
      "Epoch 147/200\n",
      "16/16 [==============================] - 0s 19ms/step - loss: 0.0277 - reconstruction_loss: 0.0277\n",
      "Epoch 148/200\n",
      "16/16 [==============================] - 0s 17ms/step - loss: 0.0277 - reconstruction_loss: 0.0277\n",
      "Epoch 149/200\n",
      "16/16 [==============================] - 0s 16ms/step - loss: 0.0277 - reconstruction_loss: 0.0277\n",
      "Epoch 150/200\n",
      "16/16 [==============================] - 0s 15ms/step - loss: 0.0277 - reconstruction_loss: 0.0277\n",
      "Epoch 151/200\n",
      "16/16 [==============================] - 0s 18ms/step - loss: 0.0277 - reconstruction_loss: 0.0277\n",
      "Epoch 152/200\n",
      "16/16 [==============================] - 0s 18ms/step - loss: 0.0277 - reconstruction_loss: 0.0277\n",
      "Epoch 153/200\n",
      "16/16 [==============================] - 0s 18ms/step - loss: 0.0277 - reconstruction_loss: 0.0277\n",
      "Epoch 154/200\n",
      "16/16 [==============================] - 0s 16ms/step - loss: 0.0277 - reconstruction_loss: 0.0277\n",
      "Epoch 155/200\n",
      "16/16 [==============================] - 0s 15ms/step - loss: 0.0277 - reconstruction_loss: 0.0277\n",
      "Epoch 156/200\n",
      "16/16 [==============================] - 0s 24ms/step - loss: 0.0277 - reconstruction_loss: 0.0277\n",
      "Epoch 157/200\n",
      "16/16 [==============================] - 0s 19ms/step - loss: 0.0277 - reconstruction_loss: 0.0277\n",
      "Epoch 158/200\n",
      "16/16 [==============================] - 0s 22ms/step - loss: 0.0277 - reconstruction_loss: 0.0277\n",
      "Epoch 159/200\n",
      "16/16 [==============================] - 0s 24ms/step - loss: 0.0277 - reconstruction_loss: 0.0277\n",
      "Epoch 160/200\n",
      "16/16 [==============================] - 0s 13ms/step - loss: 0.0277 - reconstruction_loss: 0.0277\n",
      "Epoch 161/200\n",
      "16/16 [==============================] - 0s 13ms/step - loss: 0.0277 - reconstruction_loss: 0.0277\n",
      "Epoch 162/200\n",
      "16/16 [==============================] - 0s 13ms/step - loss: 0.0277 - reconstruction_loss: 0.0277\n",
      "Epoch 163/200\n",
      "16/16 [==============================] - 0s 16ms/step - loss: 0.0277 - reconstruction_loss: 0.0277\n",
      "Epoch 164/200\n",
      "16/16 [==============================] - 0s 19ms/step - loss: 0.0277 - reconstruction_loss: 0.0277\n",
      "Epoch 165/200\n",
      "16/16 [==============================] - 0s 17ms/step - loss: 0.0277 - reconstruction_loss: 0.0277\n",
      "Epoch 166/200\n",
      "16/16 [==============================] - 0s 17ms/step - loss: 0.0276 - reconstruction_loss: 0.0276\n",
      "Epoch 167/200\n",
      "16/16 [==============================] - 0s 14ms/step - loss: 0.0276 - reconstruction_loss: 0.0276\n",
      "Epoch 168/200\n",
      "16/16 [==============================] - 0s 14ms/step - loss: 0.0276 - reconstruction_loss: 0.0276\n",
      "Epoch 169/200\n",
      "16/16 [==============================] - 0s 17ms/step - loss: 0.0276 - reconstruction_loss: 0.0276\n",
      "Epoch 170/200\n",
      "16/16 [==============================] - 0s 18ms/step - loss: 0.0276 - reconstruction_loss: 0.0276\n",
      "Epoch 171/200\n",
      "16/16 [==============================] - 0s 15ms/step - loss: 0.0276 - reconstruction_loss: 0.0276\n",
      "Epoch 172/200\n",
      "16/16 [==============================] - 0s 15ms/step - loss: 0.0276 - reconstruction_loss: 0.0276\n",
      "Epoch 173/200\n",
      "16/16 [==============================] - 0s 15ms/step - loss: 0.0276 - reconstruction_loss: 0.0276\n",
      "Epoch 174/200\n",
      "16/16 [==============================] - 0s 15ms/step - loss: 0.0276 - reconstruction_loss: 0.0276\n",
      "Epoch 175/200\n",
      "16/16 [==============================] - 0s 14ms/step - loss: 0.0276 - reconstruction_loss: 0.0276\n",
      "Epoch 176/200\n",
      "16/16 [==============================] - 0s 16ms/step - loss: 0.0276 - reconstruction_loss: 0.0276\n",
      "Epoch 177/200\n",
      "16/16 [==============================] - 0s 14ms/step - loss: 0.0276 - reconstruction_loss: 0.0276\n",
      "Epoch 178/200\n",
      "16/16 [==============================] - 0s 15ms/step - loss: 0.0276 - reconstruction_loss: 0.0277\n",
      "Epoch 179/200\n",
      "16/16 [==============================] - 0s 13ms/step - loss: 0.0276 - reconstruction_loss: 0.0276\n",
      "Epoch 180/200\n",
      "16/16 [==============================] - 0s 14ms/step - loss: 0.0276 - reconstruction_loss: 0.0276\n",
      "Epoch 181/200\n",
      "16/16 [==============================] - 0s 13ms/step - loss: 0.0276 - reconstruction_loss: 0.0276\n",
      "Epoch 182/200\n",
      "16/16 [==============================] - 0s 13ms/step - loss: 0.0276 - reconstruction_loss: 0.0276\n",
      "Epoch 183/200\n",
      "16/16 [==============================] - 0s 13ms/step - loss: 0.0276 - reconstruction_loss: 0.0276\n",
      "Epoch 184/200\n",
      "16/16 [==============================] - 0s 13ms/step - loss: 0.0276 - reconstruction_loss: 0.0276\n",
      "Epoch 185/200\n",
      "16/16 [==============================] - 0s 13ms/step - loss: 0.0276 - reconstruction_loss: 0.0276\n",
      "Epoch 186/200\n",
      "16/16 [==============================] - 0s 15ms/step - loss: 0.0276 - reconstruction_loss: 0.0277\n",
      "Epoch 187/200\n",
      "16/16 [==============================] - 0s 14ms/step - loss: 0.0277 - reconstruction_loss: 0.0277\n",
      "Epoch 188/200\n",
      "16/16 [==============================] - 0s 15ms/step - loss: 0.0277 - reconstruction_loss: 0.0277\n",
      "Epoch 189/200\n",
      "16/16 [==============================] - 0s 14ms/step - loss: 0.0277 - reconstruction_loss: 0.0277\n",
      "Epoch 190/200\n",
      "16/16 [==============================] - 0s 15ms/step - loss: 0.0278 - reconstruction_loss: 0.0278\n",
      "Epoch 191/200\n",
      "16/16 [==============================] - 0s 17ms/step - loss: 0.0278 - reconstruction_loss: 0.0277\n",
      "Epoch 192/200\n",
      "16/16 [==============================] - 0s 15ms/step - loss: 0.0277 - reconstruction_loss: 0.0277\n",
      "Epoch 193/200\n",
      "16/16 [==============================] - 0s 14ms/step - loss: 0.0276 - reconstruction_loss: 0.0276\n",
      "Epoch 194/200\n",
      "16/16 [==============================] - 0s 16ms/step - loss: 0.0276 - reconstruction_loss: 0.0276\n",
      "Epoch 195/200\n",
      "16/16 [==============================] - 0s 16ms/step - loss: 0.0276 - reconstruction_loss: 0.0276\n",
      "Epoch 196/200\n",
      "16/16 [==============================] - 0s 14ms/step - loss: 0.0276 - reconstruction_loss: 0.0276\n",
      "Epoch 197/200\n",
      "16/16 [==============================] - 0s 18ms/step - loss: 0.0276 - reconstruction_loss: 0.0276\n",
      "Epoch 198/200\n",
      "16/16 [==============================] - 0s 21ms/step - loss: 0.0276 - reconstruction_loss: 0.0276\n",
      "Epoch 199/200\n",
      "16/16 [==============================] - 0s 25ms/step - loss: 0.0276 - reconstruction_loss: 0.0276\n",
      "Epoch 200/200\n",
      "16/16 [==============================] - 0s 23ms/step - loss: 0.0276 - reconstruction_loss: 0.0276\n"
     ]
    },
    {
     "data": {
      "text/plain": [
       "<keras.callbacks.History at 0x155ca9820>"
      ]
     },
     "execution_count": 7,
     "metadata": {},
     "output_type": "execute_result"
    }
   ],
   "source": [
    "img_dim = x_train.shape[1:]\n",
    "latent_dim = 2 #same dimension as the size of our state variable for the dynamic updates \n",
    "\n",
    "ae = AE(build_encoder(input_shape = img_dim, latent_dim = latent_dim), \n",
    "        build_decoder(output_shape = int(np.prod(img_dim)), latent_dim = latent_dim))\n",
    "ae.compile(optimizer=tfk.optimizers.Adam()) #specify the optimizer reference in class above \n",
    "ae.fit(x_train, epochs=200, batch_size=64)"
   ]
  },
  {
   "cell_type": "code",
   "execution_count": 8,
   "id": "f92014c2",
   "metadata": {},
   "outputs": [
    {
     "data": {
      "text/plain": [
       "[<matplotlib.lines.Line2D at 0x156464310>]"
      ]
     },
     "execution_count": 8,
     "metadata": {},
     "output_type": "execute_result"
    },
    {
     "data": {
      "image/png": "[encoded data removed]",
      "text/plain": [
       "<Figure size 432x288 with 1 Axes>"
      ]
     },
     "metadata": {
      "needs_background": "light"
     },
     "output_type": "display_data"
    }
   ],
   "source": [
    "#generate test data and make some predictions\n",
    "params = {'c':0.6, 'm':0.2, 'k':1}\n",
    "x0 = [1, 1]\n",
    "t = np.arange(0, 20, 0.1)\n",
    "\n",
    "x_test = generate_spring_data(params,t,x0)\n",
    "\n",
    "\n",
    "plt.plot(x_test[:,0])"
   ]
  },
  {
   "cell_type": "code",
   "execution_count": 9,
   "id": "87217a58",
   "metadata": {},
   "outputs": [
    {
     "data": {
      "text/plain": [
       "(200, 51, 51)"
      ]
     },
     "execution_count": 9,
     "metadata": {},
     "output_type": "execute_result"
    }
   ],
   "source": [
    "y,_,_ = spring_to_movie(x_test[:,0], dt=0.1, dim = dim)\n",
    "y.shape"
   ]
  },
  {
   "cell_type": "code",
   "execution_count": 10,
   "id": "8c6c92a8",
   "metadata": {},
   "outputs": [],
   "source": [
    "y_pred = ae.decoder(ae.encoder(np.reshape(y, (y.shape[0], dim*dim))))\n",
    "y_pred = np.reshape(y_pred, (y.shape[0], dim, dim))\n"
   ]
  },
  {
   "cell_type": "code",
   "execution_count": 11,
   "id": "789320e0",
   "metadata": {},
   "outputs": [
    {
     "data": {
      "image/png": "[encoded data removed]",
      "text/plain": [
       "<Figure size 1296x288 with 20 Axes>"
      ]
     },
     "metadata": {
      "needs_background": "light"
     },
     "output_type": "display_data"
    }
   ],
   "source": [
    "fig, axs = plt.subplots(2,10, figsize=(18,4))\n",
    "\n",
    "for i in range(10):\n",
    "    axs[0][i].imshow(y[i*5], cmap = \"gray\")\n",
    "    axs[1][i].imshow(y_pred[i*5], cmap = \"gray\")"
   ]
  },
  {
   "cell_type": "markdown",
   "id": "a34de495",
   "metadata": {},
   "source": [
    "## An entire aside on testing the subclassed model performance on MNIST "
   ]
  },
  {
   "cell_type": "code",
   "execution_count": 96,
   "id": "99935315",
   "metadata": {},
   "outputs": [
    {
     "name": "stdout",
     "output_type": "stream",
     "text": [
      "(60000, 28, 28) (10000, 28, 28)\n",
      "(60000, 784)\n",
      "(10000, 784)\n"
     ]
    }
   ],
   "source": [
    "#don't need labels since self-supervised \n",
    "(x_train, _), (x_test, _) = tfk.datasets.mnist.load_data()\n",
    "print(x_train.shape, x_test.shape)\n",
    "\n",
    "#preprocess the data\n",
    "x_train = x_train.astype('float32') / 255. #normalize \n",
    "x_test = x_test.astype('float32') / 255.\n",
    "\n",
    "x_train = x_train.reshape((len(x_train), x_train[0].size))\n",
    "x_test = x_test.reshape((len(x_test), x_test[0].size))\n",
    "print(x_train.shape)\n",
    "print(x_test.shape)"
   ]
  },
  {
   "cell_type": "code",
   "execution_count": 97,
   "id": "a225a74e",
   "metadata": {},
   "outputs": [],
   "source": [
    "#i know this works with a specific network type \n",
    "encoding_dim = 32\n",
    "dim = x_train[0].size\n",
    "\n",
    "input_img = tfk.layers.Input(shape=(dim,), name = \"input\")\n",
    "encoded = tfk.layers.Dense(units = encoding_dim, activation = 'relu', name = 'latent')(input_img)\n",
    "decoded = tfk.layers.Dense(units = dim, activation = 'sigmoid', name = \"output\")(encoded)\n",
    "\n",
    "autoencoder = tfk.Model(input_img, decoded, name = \"autoencoder\")\n",
    "encoder = tfk.Model(input_img, encoded, name = \"encoder\")\n",
    "\n",
    "#now create the decoder architecture \n",
    "encoded_input = tfk.layers.Input(shape=(encoding_dim,), name = \"input\") #new layer of type `Input`\n",
    "decoded_output = autoencoder.layers[-1](encoded_input) #reuse the decoded layer \n",
    "\n",
    "decoder = tfk.Model(encoded_input, decoded_output, name = \"decoder\") "
   ]
  },
  {
   "cell_type": "code",
   "execution_count": 117,
   "id": "4708e8ba",
   "metadata": {
    "scrolled": true
   },
   "outputs": [
    {
     "ename": "NameError",
     "evalue": "name 'encoding_dim' is not defined",
     "output_type": "error",
     "traceback": [
      "\u001b[0;31m---------------------------------------------------------------------------\u001b[0m",
      "\u001b[0;31mNameError\u001b[0m                                 Traceback (most recent call last)",
      "\u001b[0;32m<ipython-input-117-3cc644e23e80>\u001b[0m in \u001b[0;36m<module>\u001b[0;34m\u001b[0m\n\u001b[0;32m----> 1\u001b[0;31m ae = AE(build_encoder(input_shape = dim, latent_dim = encoding_dim), \n\u001b[0m\u001b[1;32m      2\u001b[0m         build_decoder(output_shape = int(np.prod(dim)), latent_dim = encoding_dim))\n\u001b[1;32m      3\u001b[0m \u001b[0;34m\u001b[0m\u001b[0m\n\u001b[1;32m      4\u001b[0m \u001b[0mae\u001b[0m\u001b[0;34m.\u001b[0m\u001b[0mcompile\u001b[0m\u001b[0;34m(\u001b[0m\u001b[0moptimizer\u001b[0m\u001b[0;34m=\u001b[0m\u001b[0mtfk\u001b[0m\u001b[0;34m.\u001b[0m\u001b[0moptimizers\u001b[0m\u001b[0;34m.\u001b[0m\u001b[0mAdam\u001b[0m\u001b[0;34m(\u001b[0m\u001b[0;34m)\u001b[0m\u001b[0;34m)\u001b[0m \u001b[0;31m#specify the optimizer reference in class above\u001b[0m\u001b[0;34m\u001b[0m\u001b[0;34m\u001b[0m\u001b[0m\n\u001b[1;32m      5\u001b[0m \u001b[0mae\u001b[0m\u001b[0;34m.\u001b[0m\u001b[0mfit\u001b[0m\u001b[0;34m(\u001b[0m\u001b[0mx_train\u001b[0m\u001b[0;34m,\u001b[0m \u001b[0mepochs\u001b[0m\u001b[0;34m=\u001b[0m\u001b[0;36m10\u001b[0m\u001b[0;34m,\u001b[0m \u001b[0mbatch_size\u001b[0m\u001b[0;34m=\u001b[0m\u001b[0;36m256\u001b[0m\u001b[0;34m)\u001b[0m\u001b[0;34m\u001b[0m\u001b[0;34m\u001b[0m\u001b[0m\n",
      "\u001b[0;31mNameError\u001b[0m: name 'encoding_dim' is not defined"
     ]
    }
   ],
   "source": [
    "ae = AE(build_encoder(input_shape = dim, latent_dim = encoding_dim), \n",
    "        build_decoder(output_shape = int(np.prod(dim)), latent_dim = encoding_dim))\n",
    "\n",
    "ae.compile(optimizer=tfk.optimizers.Adam()) #specify the optimizer reference in class above \n",
    "ae.fit(x_train, epochs=10, batch_size=256)"
   ]
  },
  {
   "cell_type": "code",
   "execution_count": 99,
   "id": "6ebea702",
   "metadata": {},
   "outputs": [],
   "source": [
    "pred = ae.decoder(ae.encoder(x_train))\n",
    "pred = np.reshape(pred, (x_train.shape[0], 28,28))\n"
   ]
  },
  {
   "cell_type": "code",
   "execution_count": 100,
   "id": "53643d28",
   "metadata": {},
   "outputs": [
    {
     "data": {
      "image/png": "[encoded data removed]",
      "text/plain": [
       "<Figure size 1296x288 with 20 Axes>"
      ]
     },
     "metadata": {
      "needs_background": "light"
     },
     "output_type": "display_data"
    }
   ],
   "source": [
    "fig, axs = plt.subplots(2,10, figsize=(18,4))\n",
    "\n",
    "for i in range(10):\n",
    "    axs[0][i].imshow(x_train[i].reshape(28,28), cmap = \"gray\")\n",
    "    axs[1][i].imshow(pred[i], cmap = \"gray\")"
   ]
  },
  {
   "cell_type": "markdown",
   "id": "8b16b057",
   "metadata": {},
   "source": [
    "### aside done...\n",
    "\n",
    "## pass derivative info through encoder and decoder \n",
    "- encoder should return the derivatives as well "
   ]
  },
  {
   "cell_type": "code",
   "execution_count": 87,
   "id": "d457810d",
   "metadata": {},
   "outputs": [
    {
     "name": "stdout",
     "output_type": "stream",
     "text": [
      "Model: \"simple\"\n",
      "_________________________________________________________________\n",
      " Layer (type)                Output Shape              Param #   \n",
      "=================================================================\n",
      " input (InputLayer)          [(None, 1, 1)]            0         \n",
      "                                                                 \n",
      " hidden1 (Dense)             (None, 1, 2)              4         \n",
      "                                                                 \n",
      " hidden2 (Dense)             (None, 1, 2)              6         \n",
      "                                                                 \n",
      " output (Dense)              (None, 1, 1)              3         \n",
      "                                                                 \n",
      "=================================================================\n",
      "Total params: 13\n",
      "Trainable params: 13\n",
      "Non-trainable params: 0\n",
      "_________________________________________________________________\n"
     ]
    }
   ],
   "source": [
    "#shallow network \n",
    "def my_init(shape, dtype=None):\n",
    "    return tf.ones(shape, dtype=dtype)\n",
    "\n",
    "a_ = tfk.Input(shape = (1,1), name = \"input\")\n",
    "a = tfk.layers.Dense(units = 2, kernel_initializer = my_init, activation = 'sigmoid', name = \"hidden1\")(a_)\n",
    "a = tfk.layers.Dense(units = 2, kernel_initializer = my_init, activation = 'sigmoid', name = \"hidden2\")(a)\n",
    "a = tfk.layers.Dense(units = 1, kernel_initializer = my_init, activation = 'sigmoid', name = \"output\")(a)\n",
    "\n",
    "\n",
    "m = tfk.Model(a_, a, name = \"simple\")\n",
    "m.summary()"
   ]
  },
  {
   "cell_type": "code",
   "execution_count": 88,
   "id": "d1d8bc9a",
   "metadata": {},
   "outputs": [],
   "source": [
    "a = tf.constant([0.], shape = (1,1))\n",
    "da = tf.constant([0.5], shape = (1,1))"
   ]
  },
  {
   "cell_type": "code",
   "execution_count": 89,
   "id": "47d7b1e1",
   "metadata": {},
   "outputs": [],
   "source": [
    "#i hand derived this in my orange notebook somewhere for comparison\n",
    "\n",
    "temp = a\n",
    "dz = da\n",
    "for i in range(len(m.weights)//2):\n",
    "    weight = m.weights[2*i]\n",
    "    bias = m.weights[2*i+1]\n",
    "\n",
    "    temp = tf.matmul(temp, weight) + bias #pre-activation\n",
    "    temp = tf.nn.sigmoid(temp) #activation \n",
    "    \n",
    "    #dz = tf.multiply(tf.cast(temp>0, float), tf.matmul(dz, weight)) #derivative \n",
    "    dz = tf.multiply(temp*(1-temp), tf.matmul(dz, weight)) #derivative     "
   ]
  },
  {
   "cell_type": "code",
   "execution_count": 90,
   "id": "7d244cb7",
   "metadata": {},
   "outputs": [
    {
     "data": {
      "text/plain": [
       "<tf.Tensor: shape=(), dtype=float32, numpy=0.01501581>"
      ]
     },
     "execution_count": 90,
     "metadata": {},
     "output_type": "execute_result"
    }
   ],
   "source": [
    "tf.nn.sigmoid(2*tf.nn.sigmoid(1.))*(1-tf.nn.sigmoid(2*tf.nn.sigmoid(1.)))*(tf.nn.sigmoid(1.)*(1-tf.nn.sigmoid(1.)))*0.5\n"
   ]
  },
  {
   "cell_type": "code",
   "execution_count": 91,
   "id": "35e6992c",
   "metadata": {},
   "outputs": [
    {
     "data": {
      "text/plain": [
       "<tf.Tensor: shape=(1, 1), dtype=float32, numpy=array([[0.01501581]], dtype=float32)>"
      ]
     },
     "execution_count": 91,
     "metadata": {},
     "output_type": "execute_result"
    }
   ],
   "source": [
    "dz"
   ]
  },
  {
   "cell_type": "code",
   "execution_count": 230,
   "id": "21711077",
   "metadata": {},
   "outputs": [],
   "source": [
    "def z_derivative(model, data):\n",
    "    x, dx = data #unpack \n",
    "    temp = x\n",
    "    dz = dx\n",
    "    for i in range(len(model.weights)//2):\n",
    "        weight = model.weights[2*i]\n",
    "        bias = model.weights[2*i+1]\n",
    "\n",
    "        #add a switch case here or something for selecting the activation \n",
    "\n",
    "        temp = tf.matmul(temp, weight) + bias #pre-activation\n",
    "        temp = tf.nn.relu(temp) #activation \n",
    "\n",
    "        dz = tf.multiply(tf.cast(temp>0, float), tf.matmul(dz, weight)) #derivative \n",
    "        #dz = tf.multiply(temp*(1-temp), tf.matmul(dz, weight)) #derivative\n",
    "\n",
    "    return dz"
   ]
  },
  {
   "cell_type": "code",
   "execution_count": 231,
   "id": "f1ab748c",
   "metadata": {},
   "outputs": [
    {
     "data": {
      "text/plain": [
       "<tf.Tensor: shape=(2, 1, 1), dtype=float32, numpy=\n",
       "array([[[0.]],\n",
       "\n",
       "       [[4.]]], dtype=float32)>"
      ]
     },
     "execution_count": 231,
     "metadata": {},
     "output_type": "execute_result"
    }
   ],
   "source": [
    "sample_data = tf.constant([0,1], shape=(2,1,1), dtype=float)\n",
    "sample_derivatives = tf.constant([0.5,1], shape=(2,1,1), dtype=float)\n",
    "\n",
    "z_derivative(m, (sample_data, sample_derivatives))"
   ]
  },
  {
   "cell_type": "code",
   "execution_count": 96,
   "id": "fd2aad08",
   "metadata": {},
   "outputs": [],
   "source": [
    "class DAE(tfk.Model):\n",
    "    def __init__(self, encoder, decoder, **kwargs):\n",
    "        super().__init__(**kwargs)\n",
    "        self.encoder = encoder\n",
    "        self.decoder = decoder\n",
    "        \n",
    "        #stateful metrics \n",
    "        self.total_loss_tracker = tfk.metrics.Mean(name=\"total_loss\")\n",
    "        self.reconstruction_loss_tracker = tfk.metrics.Mean(\n",
    "            name=\"reconstruction_loss\"\n",
    "        )\n",
    "        self.dx_out_loss_tracker = tfk.metrics.Mean(name=\"dx_out_loss\")\n",
    "\n",
    "    @property\n",
    "    def metrics(self):\n",
    "        return [\n",
    "            self.total_loss_tracker,\n",
    "            self.reconstruction_loss_tracker,\n",
    "            self.dx_out_loss_tracker\n",
    "        ]\n",
    "    \n",
    "    def z_derivative(self, model, data):\n",
    "        x, dx = data #unpack \n",
    "        temp = x\n",
    "        dz = dx\n",
    "        for i in range(len(model.weights)//2):\n",
    "            temp = tf.matmul(temp, model.weights[2*i]) + model.weights[2*i+1] #pre-activation\n",
    "            temp = tf.nn.relu(temp) #activation \n",
    "\n",
    "            dz = tf.multiply(tf.cast(temp>0, float), tf.matmul(dz, model.weights[2*i])) #relu derivative \n",
    "            #dz = tf.multiply(temp*(1-temp), tf.matmul(dz, weight)) #sigmoid derivative\n",
    "\n",
    "        return dz\n",
    "    \n",
    "    def train_step(self, data):\n",
    "        print(data.shape)\n",
    "        with tf.GradientTape() as tape:\n",
    "            #unpacking positional and derivative information \n",
    "            x, dx = tf.unstack(data[1])  #symbolic tensors not iterable so i have to do this \n",
    "            x = x[None,:]\n",
    "            dx = dx[None,:]\n",
    "        \n",
    "            z = self.encoder(x) \n",
    "            reconstruction = self.decoder(z) \n",
    "            \n",
    "            #derivatives \n",
    "            #dz = self.z_derivative(self.encoder, (x,dx))\n",
    "            #dx_out = self.z_derivative(self.decoder, (z,dz)) \n",
    "            \n",
    "            #least squares regression for coef predictions \n",
    "\n",
    "            reconstruction_loss = tf.reduce_mean(\n",
    "                    tfk.losses.binary_crossentropy(x, reconstruction)\n",
    "            )\n",
    "            \n",
    "            \n",
    "            dx_out_loss = tf.losses.MeanSquaredError()(dx, dx_out)\n",
    "            \n",
    "            \n",
    "            total_loss = reconstruction_loss + (1e-01)*dx_out_loss\n",
    "            \n",
    "        #de-facto \n",
    "        grads = tape.gradient(total_loss, self.trainable_weights)\n",
    "        self.optimizer.apply_gradients(zip(grads, self.trainable_weights)) #will need to specify an optimizer \n",
    "        self.total_loss_tracker.update_state(total_loss)\n",
    "        self.reconstruction_loss_tracker.update_state(reconstruction_loss)\n",
    "        self.dx_out_loss_tracker.update_state(dx_out_loss)\n",
    "        \n",
    "        return {\n",
    "            \"loss\": self.total_loss_tracker.result(),\n",
    "            \"reconstruction_loss\": self.reconstruction_loss_tracker.result(),\n",
    "            \"dx_out_loss\": self.dx_out_loss_tracker.result(),\n",
    "        }"
   ]
  },
  {
   "cell_type": "code",
   "execution_count": 69,
   "id": "a1faee20",
   "metadata": {},
   "outputs": [
    {
     "name": "stdout",
     "output_type": "stream",
     "text": [
      "(1000, 2, 2601)\n",
      "(1000, 2601) (1000, 2601)\n"
     ]
    }
   ],
   "source": [
    "#now our dataset consists of BOTH images and their derivatives\n",
    "x_ = np.reshape(x, (x.shape[0], np.prod(x.shape[1:])))\n",
    "dx_ = np.reshape(dx, (dx.shape[0], np.prod(dx.shape[1:])))\n",
    "\n",
    "x_train = np.array(list(zip(x_, dx_)))\n",
    "\n",
    "print(x_train.shape)\n",
    "print(x_.shape, dx_.shape)"
   ]
  },
  {
   "cell_type": "code",
   "execution_count": 70,
   "id": "15dc2dd9",
   "metadata": {},
   "outputs": [
    {
     "data": {
      "text/plain": [
       "<matplotlib.image.AxesImage at 0x1605776a0>"
      ]
     },
     "execution_count": 70,
     "metadata": {},
     "output_type": "execute_result"
    },
    {
     "data": {
      "image/png": "[encoded data removed]",
      "text/plain": [
       "<Figure size 432x288 with 2 Axes>"
      ]
     },
     "metadata": {
      "needs_background": "light"
     },
     "output_type": "display_data"
    }
   ],
   "source": [
    "#baseline \n",
    "f, a = plt.subplots(1,2)\n",
    "i = 100\n",
    "a[0].imshow(x[i].reshape(51,51), cmap = 'gray')\n",
    "a[1].imshow(dx[i].reshape(51,51), cmap = 'gray')"
   ]
  },
  {
   "cell_type": "code",
   "execution_count": 71,
   "id": "5d555eb7",
   "metadata": {},
   "outputs": [
    {
     "data": {
      "text/plain": [
       "<matplotlib.image.AxesImage at 0x160619a90>"
      ]
     },
     "execution_count": 71,
     "metadata": {},
     "output_type": "execute_result"
    },
    {
     "data": {
      "image/png": "[encoded data removed]",
      "text/plain": [
       "<Figure size 432x288 with 2 Axes>"
      ]
     },
     "metadata": {
      "needs_background": "light"
     },
     "output_type": "display_data"
    }
   ],
   "source": [
    "f, a = plt.subplots(1,2)\n",
    "i = 100\n",
    "a[0].imshow(x_train[i][0].reshape(51,51), cmap = 'gray')\n",
    "a[1].imshow(x_train[i][1].reshape(51,51), cmap = 'gray')"
   ]
  },
  {
   "cell_type": "code",
   "execution_count": 72,
   "id": "e1b722ab",
   "metadata": {},
   "outputs": [
    {
     "data": {
      "text/plain": [
       "(1000, 2601)"
      ]
     },
     "execution_count": 72,
     "metadata": {},
     "output_type": "execute_result"
    }
   ],
   "source": [
    "x_.shape"
   ]
  },
  {
   "cell_type": "code",
   "execution_count": 93,
   "id": "06ee3907",
   "metadata": {},
   "outputs": [],
   "source": [
    "#ALTERNATE \n",
    "x_train = tf.data.Dataset.from_tensor_slices((x_, dx_))\n",
    "x_train = x_train.shuffle(buffer_size=1024).batch(32)"
   ]
  },
  {
   "cell_type": "code",
   "execution_count": 94,
   "id": "d89e2afd",
   "metadata": {},
   "outputs": [
    {
     "data": {
      "text/plain": [
       "TensorShape([32, 2601])"
      ]
     },
     "execution_count": 94,
     "metadata": {},
     "output_type": "execute_result"
    }
   ],
   "source": [
    "next(iter(x_train))[0].shape"
   ]
  },
  {
   "cell_type": "code",
   "execution_count": 97,
   "id": "c89e57f7",
   "metadata": {
    "scrolled": false
   },
   "outputs": [
    {
     "name": "stdout",
     "output_type": "stream",
     "text": [
      "Epoch 1/100\n",
      "(None, 2601) (None, 2601)\n"
     ]
    },
    {
     "ename": "TypeError",
     "evalue": "in user code:\n\n    File \"/Users/nathanielnethercott/.pyenv/versions/3.9.3/lib/python3.9/site-packages/keras/engine/training.py\", line 1160, in train_function  *\n        return step_function(self, iterator)\n    File \"/Users/nathanielnethercott/.pyenv/versions/3.9.3/lib/python3.9/site-packages/keras/engine/training.py\", line 1146, in step_function  **\n        outputs = model.distribute_strategy.run(run_step, args=(data,))\n    File \"/Users/nathanielnethercott/.pyenv/versions/3.9.3/lib/python3.9/site-packages/keras/engine/training.py\", line 1137, in run_step  **\n        with tf.control_dependencies(_minimum_control_deps(outputs)):\n\n    TypeError: Can not convert a NoneType into a Tensor or Operation.\n",
     "output_type": "error",
     "traceback": [
      "\u001b[0;31m---------------------------------------------------------------------------\u001b[0m",
      "\u001b[0;31mTypeError\u001b[0m                                 Traceback (most recent call last)",
      "\u001b[0;32m<ipython-input-97-f17226387006>\u001b[0m in \u001b[0;36m<module>\u001b[0;34m\u001b[0m\n\u001b[1;32m      9\u001b[0m \u001b[0;34m\u001b[0m\u001b[0m\n\u001b[1;32m     10\u001b[0m \u001b[0mdae\u001b[0m\u001b[0;34m.\u001b[0m\u001b[0mcompile\u001b[0m\u001b[0;34m(\u001b[0m\u001b[0moptimizer\u001b[0m\u001b[0;34m=\u001b[0m\u001b[0mtfk\u001b[0m\u001b[0;34m.\u001b[0m\u001b[0moptimizers\u001b[0m\u001b[0;34m.\u001b[0m\u001b[0mAdam\u001b[0m\u001b[0;34m(\u001b[0m\u001b[0;34m)\u001b[0m\u001b[0;34m)\u001b[0m \u001b[0;31m#specify the optimizer reference in class above\u001b[0m\u001b[0;34m\u001b[0m\u001b[0;34m\u001b[0m\u001b[0m\n\u001b[0;32m---> 11\u001b[0;31m \u001b[0mdae\u001b[0m\u001b[0;34m.\u001b[0m\u001b[0mfit\u001b[0m\u001b[0;34m(\u001b[0m\u001b[0mx_train\u001b[0m\u001b[0;34m,\u001b[0m \u001b[0mepochs\u001b[0m\u001b[0;34m=\u001b[0m\u001b[0;36m100\u001b[0m\u001b[0;34m)\u001b[0m\u001b[0;34m\u001b[0m\u001b[0;34m\u001b[0m\u001b[0m\n\u001b[0m",
      "\u001b[0;32m~/.pyenv/versions/3.9.3/lib/python3.9/site-packages/keras/utils/traceback_utils.py\u001b[0m in \u001b[0;36merror_handler\u001b[0;34m(*args, **kwargs)\u001b[0m\n\u001b[1;32m     68\u001b[0m             \u001b[0;31m# To get the full stack trace, call:\u001b[0m\u001b[0;34m\u001b[0m\u001b[0;34m\u001b[0m\u001b[0;34m\u001b[0m\u001b[0m\n\u001b[1;32m     69\u001b[0m             \u001b[0;31m# `tf.debugging.disable_traceback_filtering()`\u001b[0m\u001b[0;34m\u001b[0m\u001b[0;34m\u001b[0m\u001b[0;34m\u001b[0m\u001b[0m\n\u001b[0;32m---> 70\u001b[0;31m             \u001b[0;32mraise\u001b[0m \u001b[0me\u001b[0m\u001b[0;34m.\u001b[0m\u001b[0mwith_traceback\u001b[0m\u001b[0;34m(\u001b[0m\u001b[0mfiltered_tb\u001b[0m\u001b[0;34m)\u001b[0m \u001b[0;32mfrom\u001b[0m \u001b[0;32mNone\u001b[0m\u001b[0;34m\u001b[0m\u001b[0;34m\u001b[0m\u001b[0m\n\u001b[0m\u001b[1;32m     71\u001b[0m         \u001b[0;32mfinally\u001b[0m\u001b[0;34m:\u001b[0m\u001b[0;34m\u001b[0m\u001b[0;34m\u001b[0m\u001b[0m\n\u001b[1;32m     72\u001b[0m             \u001b[0;32mdel\u001b[0m \u001b[0mfiltered_tb\u001b[0m\u001b[0;34m\u001b[0m\u001b[0;34m\u001b[0m\u001b[0m\n",
      "\u001b[0;32m~/.pyenv/versions/3.9.3/lib/python3.9/site-packages/keras/engine/training.py\u001b[0m in \u001b[0;36mtf__train_function\u001b[0;34m(iterator)\u001b[0m\n\u001b[1;32m     13\u001b[0m                 \u001b[0;32mtry\u001b[0m\u001b[0;34m:\u001b[0m\u001b[0;34m\u001b[0m\u001b[0;34m\u001b[0m\u001b[0m\n\u001b[1;32m     14\u001b[0m                     \u001b[0mdo_return\u001b[0m \u001b[0;34m=\u001b[0m \u001b[0;32mTrue\u001b[0m\u001b[0;34m\u001b[0m\u001b[0;34m\u001b[0m\u001b[0m\n\u001b[0;32m---> 15\u001b[0;31m                     \u001b[0mretval_\u001b[0m \u001b[0;34m=\u001b[0m \u001b[0mag__\u001b[0m\u001b[0;34m.\u001b[0m\u001b[0mconverted_call\u001b[0m\u001b[0;34m(\u001b[0m\u001b[0mag__\u001b[0m\u001b[0;34m.\u001b[0m\u001b[0mld\u001b[0m\u001b[0;34m(\u001b[0m\u001b[0mstep_function\u001b[0m\u001b[0;34m)\u001b[0m\u001b[0;34m,\u001b[0m \u001b[0;34m(\u001b[0m\u001b[0mag__\u001b[0m\u001b[0;34m.\u001b[0m\u001b[0mld\u001b[0m\u001b[0;34m(\u001b[0m\u001b[0mself\u001b[0m\u001b[0;34m)\u001b[0m\u001b[0;34m,\u001b[0m \u001b[0mag__\u001b[0m\u001b[0;34m.\u001b[0m\u001b[0mld\u001b[0m\u001b[0;34m(\u001b[0m\u001b[0miterator\u001b[0m\u001b[0;34m)\u001b[0m\u001b[0;34m)\u001b[0m\u001b[0;34m,\u001b[0m \u001b[0;32mNone\u001b[0m\u001b[0;34m,\u001b[0m \u001b[0mfscope\u001b[0m\u001b[0;34m)\u001b[0m\u001b[0;34m\u001b[0m\u001b[0;34m\u001b[0m\u001b[0m\n\u001b[0m\u001b[1;32m     16\u001b[0m                 \u001b[0;32mexcept\u001b[0m\u001b[0;34m:\u001b[0m\u001b[0;34m\u001b[0m\u001b[0;34m\u001b[0m\u001b[0m\n\u001b[1;32m     17\u001b[0m                     \u001b[0mdo_return\u001b[0m \u001b[0;34m=\u001b[0m \u001b[0;32mFalse\u001b[0m\u001b[0;34m\u001b[0m\u001b[0;34m\u001b[0m\u001b[0m\n",
      "\u001b[0;31mTypeError\u001b[0m: in user code:\n\n    File \"/Users/nathanielnethercott/.pyenv/versions/3.9.3/lib/python3.9/site-packages/keras/engine/training.py\", line 1160, in train_function  *\n        return step_function(self, iterator)\n    File \"/Users/nathanielnethercott/.pyenv/versions/3.9.3/lib/python3.9/site-packages/keras/engine/training.py\", line 1146, in step_function  **\n        outputs = model.distribute_strategy.run(run_step, args=(data,))\n    File \"/Users/nathanielnethercott/.pyenv/versions/3.9.3/lib/python3.9/site-packages/keras/engine/training.py\", line 1137, in run_step  **\n        with tf.control_dependencies(_minimum_control_deps(outputs)):\n\n    TypeError: Can not convert a NoneType into a Tensor or Operation.\n"
     ]
    }
   ],
   "source": [
    "tf.random.set_seed(seed)\n",
    "\n",
    "#img_dim = x_train.shape[-1]\n",
    "img_dim = 2601\n",
    "latent_dim = 2\n",
    "\n",
    "dae = DAE(build_encoder(input_shape = (img_dim, ), latent_dim = latent_dim), \n",
    "          build_decoder(output_shape = int(np.prod(img_dim)), latent_dim = latent_dim))\n",
    "\n",
    "dae.compile(optimizer=tfk.optimizers.Adam()) #specify the optimizer reference in class above \n",
    "dae.fit(x_train, epochs=100)"
   ]
  },
  {
   "cell_type": "code",
   "execution_count": null,
   "id": "78c686b7",
   "metadata": {},
   "outputs": [],
   "source": [
    "y_pred = dae.decoder(dae.encoder(np.reshape(y, (y.shape[0], dim*dim))))\n",
    "y_pred = np.reshape(y_pred, (y.shape[0], dim, dim))\n",
    "\n",
    "fig, axs = plt.subplots(2,10, figsize=(18,4))\n",
    "\n",
    "for i in range(10):\n",
    "    axs[0][i].imshow(y[i*5], cmap = \"gray\")\n",
    "    axs[1][i].imshow(y_pred[i*5], cmap = \"gray\")"
   ]
  },
  {
   "cell_type": "code",
   "execution_count": 32,
   "id": "a149d4e4",
   "metadata": {},
   "outputs": [
    {
     "data": {
      "image/png": "[encoded data removed]",
      "text/plain": [
       "<Figure size 1296x288 with 20 Axes>"
      ]
     },
     "metadata": {
      "needs_background": "light"
     },
     "output_type": "display_data"
    }
   ],
   "source": [
    "y_pred = dae.decoder(dae.encoder(np.reshape(y, (y.shape[0], dim*dim))))\n",
    "y_pred = np.reshape(y_pred, (y.shape[0], dim, dim))\n",
    "\n",
    "fig, axs = plt.subplots(2,10, figsize=(18,4))\n",
    "\n",
    "for i in range(10):\n",
    "    axs[0][i].imshow(y[i*5], cmap = \"gray\")\n",
    "    axs[1][i].imshow(y_pred[i*5], cmap = \"gray\")"
   ]
  },
  {
   "cell_type": "code",
   "execution_count": 98,
   "id": "9daee95c",
   "metadata": {},
   "outputs": [],
   "source": [
    "#train_step \n",
    "@tf.function\n",
    "def train_step_(data):\n",
    "    x, y = data\n",
    "    return (x.shape, y.shape)\n",
    "     "
   ]
  },
  {
   "cell_type": "code",
   "execution_count": 99,
   "id": "59e188f9",
   "metadata": {},
   "outputs": [
    {
     "name": "stdout",
     "output_type": "stream",
     "text": [
      "(<tf.Tensor: shape=(2,), dtype=int32, numpy=array([  32, 2601], dtype=int32)>, <tf.Tensor: shape=(2,), dtype=int32, numpy=array([  32, 2601], dtype=int32)>)\n",
      "(<tf.Tensor: shape=(2,), dtype=int32, numpy=array([  32, 2601], dtype=int32)>, <tf.Tensor: shape=(2,), dtype=int32, numpy=array([  32, 2601], dtype=int32)>)\n",
      "(<tf.Tensor: shape=(2,), dtype=int32, numpy=array([  32, 2601], dtype=int32)>, <tf.Tensor: shape=(2,), dtype=int32, numpy=array([  32, 2601], dtype=int32)>)\n",
      "(<tf.Tensor: shape=(2,), dtype=int32, numpy=array([  32, 2601], dtype=int32)>, <tf.Tensor: shape=(2,), dtype=int32, numpy=array([  32, 2601], dtype=int32)>)\n",
      "(<tf.Tensor: shape=(2,), dtype=int32, numpy=array([  32, 2601], dtype=int32)>, <tf.Tensor: shape=(2,), dtype=int32, numpy=array([  32, 2601], dtype=int32)>)\n",
      "(<tf.Tensor: shape=(2,), dtype=int32, numpy=array([  32, 2601], dtype=int32)>, <tf.Tensor: shape=(2,), dtype=int32, numpy=array([  32, 2601], dtype=int32)>)\n",
      "(<tf.Tensor: shape=(2,), dtype=int32, numpy=array([  32, 2601], dtype=int32)>, <tf.Tensor: shape=(2,), dtype=int32, numpy=array([  32, 2601], dtype=int32)>)\n",
      "(<tf.Tensor: shape=(2,), dtype=int32, numpy=array([  32, 2601], dtype=int32)>, <tf.Tensor: shape=(2,), dtype=int32, numpy=array([  32, 2601], dtype=int32)>)\n",
      "(<tf.Tensor: shape=(2,), dtype=int32, numpy=array([  32, 2601], dtype=int32)>, <tf.Tensor: shape=(2,), dtype=int32, numpy=array([  32, 2601], dtype=int32)>)\n",
      "(<tf.Tensor: shape=(2,), dtype=int32, numpy=array([  32, 2601], dtype=int32)>, <tf.Tensor: shape=(2,), dtype=int32, numpy=array([  32, 2601], dtype=int32)>)\n",
      "(<tf.Tensor: shape=(2,), dtype=int32, numpy=array([  32, 2601], dtype=int32)>, <tf.Tensor: shape=(2,), dtype=int32, numpy=array([  32, 2601], dtype=int32)>)\n",
      "(<tf.Tensor: shape=(2,), dtype=int32, numpy=array([  32, 2601], dtype=int32)>, <tf.Tensor: shape=(2,), dtype=int32, numpy=array([  32, 2601], dtype=int32)>)\n",
      "(<tf.Tensor: shape=(2,), dtype=int32, numpy=array([  32, 2601], dtype=int32)>, <tf.Tensor: shape=(2,), dtype=int32, numpy=array([  32, 2601], dtype=int32)>)\n",
      "(<tf.Tensor: shape=(2,), dtype=int32, numpy=array([  32, 2601], dtype=int32)>, <tf.Tensor: shape=(2,), dtype=int32, numpy=array([  32, 2601], dtype=int32)>)\n",
      "(<tf.Tensor: shape=(2,), dtype=int32, numpy=array([  32, 2601], dtype=int32)>, <tf.Tensor: shape=(2,), dtype=int32, numpy=array([  32, 2601], dtype=int32)>)\n",
      "(<tf.Tensor: shape=(2,), dtype=int32, numpy=array([  32, 2601], dtype=int32)>, <tf.Tensor: shape=(2,), dtype=int32, numpy=array([  32, 2601], dtype=int32)>)\n",
      "(<tf.Tensor: shape=(2,), dtype=int32, numpy=array([  32, 2601], dtype=int32)>, <tf.Tensor: shape=(2,), dtype=int32, numpy=array([  32, 2601], dtype=int32)>)\n",
      "(<tf.Tensor: shape=(2,), dtype=int32, numpy=array([  32, 2601], dtype=int32)>, <tf.Tensor: shape=(2,), dtype=int32, numpy=array([  32, 2601], dtype=int32)>)\n",
      "(<tf.Tensor: shape=(2,), dtype=int32, numpy=array([  32, 2601], dtype=int32)>, <tf.Tensor: shape=(2,), dtype=int32, numpy=array([  32, 2601], dtype=int32)>)\n",
      "(<tf.Tensor: shape=(2,), dtype=int32, numpy=array([  32, 2601], dtype=int32)>, <tf.Tensor: shape=(2,), dtype=int32, numpy=array([  32, 2601], dtype=int32)>)\n",
      "(<tf.Tensor: shape=(2,), dtype=int32, numpy=array([  32, 2601], dtype=int32)>, <tf.Tensor: shape=(2,), dtype=int32, numpy=array([  32, 2601], dtype=int32)>)\n",
      "(<tf.Tensor: shape=(2,), dtype=int32, numpy=array([  32, 2601], dtype=int32)>, <tf.Tensor: shape=(2,), dtype=int32, numpy=array([  32, 2601], dtype=int32)>)\n",
      "(<tf.Tensor: shape=(2,), dtype=int32, numpy=array([  32, 2601], dtype=int32)>, <tf.Tensor: shape=(2,), dtype=int32, numpy=array([  32, 2601], dtype=int32)>)\n",
      "(<tf.Tensor: shape=(2,), dtype=int32, numpy=array([  32, 2601], dtype=int32)>, <tf.Tensor: shape=(2,), dtype=int32, numpy=array([  32, 2601], dtype=int32)>)\n",
      "(<tf.Tensor: shape=(2,), dtype=int32, numpy=array([  32, 2601], dtype=int32)>, <tf.Tensor: shape=(2,), dtype=int32, numpy=array([  32, 2601], dtype=int32)>)\n",
      "(<tf.Tensor: shape=(2,), dtype=int32, numpy=array([  32, 2601], dtype=int32)>, <tf.Tensor: shape=(2,), dtype=int32, numpy=array([  32, 2601], dtype=int32)>)\n",
      "(<tf.Tensor: shape=(2,), dtype=int32, numpy=array([  32, 2601], dtype=int32)>, <tf.Tensor: shape=(2,), dtype=int32, numpy=array([  32, 2601], dtype=int32)>)\n",
      "(<tf.Tensor: shape=(2,), dtype=int32, numpy=array([  32, 2601], dtype=int32)>, <tf.Tensor: shape=(2,), dtype=int32, numpy=array([  32, 2601], dtype=int32)>)\n",
      "(<tf.Tensor: shape=(2,), dtype=int32, numpy=array([  32, 2601], dtype=int32)>, <tf.Tensor: shape=(2,), dtype=int32, numpy=array([  32, 2601], dtype=int32)>)\n",
      "(<tf.Tensor: shape=(2,), dtype=int32, numpy=array([  32, 2601], dtype=int32)>, <tf.Tensor: shape=(2,), dtype=int32, numpy=array([  32, 2601], dtype=int32)>)\n",
      "(<tf.Tensor: shape=(2,), dtype=int32, numpy=array([  32, 2601], dtype=int32)>, <tf.Tensor: shape=(2,), dtype=int32, numpy=array([  32, 2601], dtype=int32)>)\n",
      "(<tf.Tensor: shape=(2,), dtype=int32, numpy=array([   8, 2601], dtype=int32)>, <tf.Tensor: shape=(2,), dtype=int32, numpy=array([   8, 2601], dtype=int32)>)\n"
     ]
    }
   ],
   "source": [
    "for i, e in enumerate(x_train):\n",
    "    print(train_step_(e))"
   ]
  },
  {
   "cell_type": "code",
   "execution_count": null,
   "id": "cbac1c36",
   "metadata": {},
   "outputs": [],
   "source": [
    "x_trao"
   ]
  }
 ],
 "metadata": {
  "kernelspec": {
   "display_name": "Python 3",
   "language": "python",
   "name": "python3"
  },
  "language_info": {
   "codemirror_mode": {
    "name": "ipython",
    "version": 3
   },
   "file_extension": ".py",
   "mimetype": "text/x-python",
   "name": "python",
   "nbconvert_exporter": "python",
   "pygments_lexer": "ipython3",
   "version": "3.9.3"
  }
 },
 "nbformat": 4,
 "nbformat_minor": 5
}
